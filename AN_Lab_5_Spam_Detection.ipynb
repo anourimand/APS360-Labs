{
  "nbformat": 4,
  "nbformat_minor": 0,
  "metadata": {
    "kernelspec": {
      "display_name": "Python 3",
      "language": "python",
      "name": "python3"
    },
    "language_info": {
      "codemirror_mode": {
        "name": "ipython",
        "version": 3
      },
      "file_extension": ".py",
      "mimetype": "text/x-python",
      "name": "python",
      "nbconvert_exporter": "python",
      "pygments_lexer": "ipython3",
      "version": "3.6.7"
    },
    "colab": {
      "name": "AN - Lab_5_Spam_Detection.ipynb",
      "provenance": [],
      "collapsed_sections": [],
      "toc_visible": true
    }
  },
  "cells": [
    {
      "cell_type": "markdown",
      "metadata": {
        "id": "_bphECiUa9zw",
        "colab_type": "text"
      },
      "source": [
        "# Lab 5: Spam Detection\n",
        "\n",
        "In this assignment, we will build a recurrent neural network to classify a SMS text message\n",
        "as \"spam\" or \"not spam\". In the process, you will\n",
        "    \n",
        "1. Clean and process text data for machine learning.\n",
        "2. Understand and implement a character-level recurrent neural network.\n",
        "3. Use torchtext to build recurrent neural network models.\n",
        "4. Understand batching for a recurrent neural network, and use torchtext to implement RNN batching.\n",
        "\n"
      ]
    },
    {
      "cell_type": "markdown",
      "metadata": {
        "id": "rWiUqJJTa9z6",
        "colab_type": "text"
      },
      "source": [
        "## Colab Link\n",
        "\n",
        "Include a link to your Colab file here. If you would like the TA to look at your\n",
        "Colab file in case your solutions are cut off, **please make sure that your Colab\n",
        "file is publicly accessible at the time of submission**.\n",
        "\n",
        "Colab Link: https://colab.research.google.com/drive/1u0EczCmbDHea2N45Po1U0JnQ7494Z60w#scrollTo=rWiUqJJTa9z6"
      ]
    },
    {
      "cell_type": "code",
      "metadata": {
        "id": "HgfNOUaPa9z8",
        "colab_type": "code",
        "colab": {}
      },
      "source": [
        "import torch\n",
        "import torch.nn as nn\n",
        "import torch.nn.functional as F\n",
        "import torch.optim as optim\n",
        "import numpy as np"
      ],
      "execution_count": 0,
      "outputs": []
    },
    {
      "cell_type": "markdown",
      "metadata": {
        "id": "M0jLI9LBa90C",
        "colab_type": "text"
      },
      "source": [
        "## Part 1. Data Cleaning [15 pt]\n",
        "\n",
        "We will be using the \"SMS Spam Collection Data Set\" available at http://archive.ics.uci.edu/ml/datasets/SMS+Spam+Collection\n",
        "\n",
        "There is a link to download the \"Data Folder\" at the very top of the webpage. Download the zip file, unzip it, and upload the file `SMSSpamCollection` to Colab.    "
      ]
    },
    {
      "cell_type": "markdown",
      "metadata": {
        "id": "sSuF7C_Ga90E",
        "colab_type": "text"
      },
      "source": [
        "### Part (a) [2 pt]\n",
        "\n",
        "Open up the file in Python, and print out one example of a spam SMS, and one example of a non-spam SMS.\n",
        "\n",
        "What is the label value for a spam message, and what is the label value for a non-spam message?"
      ]
    },
    {
      "cell_type": "code",
      "metadata": {
        "id": "2djWg3Iu5aMz",
        "colab_type": "code",
        "outputId": "c26e10cc-ab20-4063-c6cb-c306ef25ece4",
        "colab": {
          "base_uri": "https://localhost:8080/",
          "height": 126
        }
      },
      "source": [
        "from google.colab import drive\n",
        "drive.mount('/content/drive/')"
      ],
      "execution_count": 0,
      "outputs": [
        {
          "output_type": "stream",
          "text": [
            "Go to this URL in a browser: https://accounts.google.com/o/oauth2/auth?client_id=947318989803-6bn6qk8qdgf4n4g3pfee6491hc0brc4i.apps.googleusercontent.com&redirect_uri=urn%3Aietf%3Awg%3Aoauth%3A2.0%3Aoob&scope=email%20https%3A%2F%2Fwww.googleapis.com%2Fauth%2Fdocs.test%20https%3A%2F%2Fwww.googleapis.com%2Fauth%2Fdrive%20https%3A%2F%2Fwww.googleapis.com%2Fauth%2Fdrive.photos.readonly%20https%3A%2F%2Fwww.googleapis.com%2Fauth%2Fpeopleapi.readonly&response_type=code\n",
            "\n",
            "Enter your authorization code:\n",
            "··········\n",
            "Mounted at /content/drive/\n"
          ],
          "name": "stdout"
        }
      ]
    },
    {
      "cell_type": "code",
      "metadata": {
        "id": "tGPp6WpW5g8T",
        "colab_type": "code",
        "colab": {}
      },
      "source": [
        "file = '/content/drive/My Drive/Colab Notebooks/APS360/Lab 5/SMSSpamCollection'"
      ],
      "execution_count": 0,
      "outputs": []
    },
    {
      "cell_type": "code",
      "metadata": {
        "id": "I_IfXHeTa90F",
        "colab_type": "code",
        "outputId": "0b7a0ff0-d6e8-442e-92cf-28ba2cb16749",
        "colab": {
          "base_uri": "https://localhost:8080/",
          "height": 106
        }
      },
      "source": [
        "data = []\n",
        "for line in open(file):\n",
        "  data.append(line)\n",
        "row = len(data)\n",
        "print('Sample output of the data file:\\n', data[0])\n",
        "print('\\nThere are %d lines of information in the document' %row)"
      ],
      "execution_count": 0,
      "outputs": [
        {
          "output_type": "stream",
          "text": [
            "Sample output of the data file:\n",
            " ham\tGo until jurong point, crazy.. Available only in bugis n great world la e buffet... Cine there got amore wat...\n",
            "\n",
            "\n",
            "There are 5574 lines of information in the document\n"
          ],
          "name": "stdout"
        }
      ]
    },
    {
      "cell_type": "markdown",
      "metadata": {
        "id": "2sspfhve8hDS",
        "colab_type": "text"
      },
      "source": [
        "Spam messages = SPAM   |    Non-spam messages = HAM"
      ]
    },
    {
      "cell_type": "markdown",
      "metadata": {
        "id": "AukA6vMVa90d",
        "colab_type": "text"
      },
      "source": [
        "### Part (b) [1 pt]\n",
        "\n",
        "How many spam messages are there in the data set?\n",
        "How many non-spam messages are there in the data set?\n"
      ]
    },
    {
      "cell_type": "code",
      "metadata": {
        "id": "LgsqyemVa90e",
        "colab_type": "code",
        "outputId": "5b57d8d1-b4a5-43a0-eadf-8cff607fdf46",
        "colab": {
          "base_uri": "https://localhost:8080/",
          "height": 35
        }
      },
      "source": [
        "num_spam = 0\n",
        "for i in range(row):\n",
        "  if 'spam' in data[i][0:4]:\n",
        "    num_spam+=1\n",
        "print('The number of spam messages in the dataset are: %d, and the number of non spam messages are %d' %(num_spam, row-num_spam))"
      ],
      "execution_count": 0,
      "outputs": [
        {
          "output_type": "stream",
          "text": [
            "The number of spam messages in the dataset are: 747, and the number of non spam messages are 4827\n"
          ],
          "name": "stdout"
        }
      ]
    },
    {
      "cell_type": "markdown",
      "metadata": {
        "id": "d1WXxVt6a90h",
        "colab_type": "text"
      },
      "source": [
        "### Part (c) [4 pt]\n",
        "\n",
        "We will be using the package `torchtext` to load, process, and batch the data.\n",
        "A tutorial to torchtext is available below. This tutorial uses the same\n",
        "Sentiment140 data set that we explored during lecture.\n",
        "\n",
        "https://medium.com/@sonicboom8/sentiment-analysis-torchtext-55fb57b1fab8\n",
        "\n",
        "Unlike what we did during lecture, we will be building a **character level RNN**.\n",
        "That is, we will treat each **character** as a token in our sequence,\n",
        "rather than each **word**.\n",
        "\n",
        "Identify two advantage and two disadvantage of modelling SMS text\n",
        "messages as a sequence of characters rather than a sequence of words."
      ]
    },
    {
      "cell_type": "markdown",
      "metadata": {
        "id": "8o85ZQ1k-NU5",
        "colab_type": "text"
      },
      "source": [
        "Advantages: \n",
        "\n",
        "- will not be affected by mispelled words\n",
        "- can model language better, so it can be easier to predict statements made by vernacular of people\n",
        "\n",
        "Disadvantages: \n",
        "\n",
        "- lower accuracy results than word based\n",
        "- higher computational cost"
      ]
    },
    {
      "cell_type": "markdown",
      "metadata": {
        "id": "ie_D0bv9a90k",
        "colab_type": "text"
      },
      "source": [
        "### Part (d) [1 pt]\n",
        "\n",
        "We will be loading our data set using `torchtext.data.TabularDataset`. The\n",
        "constructor will read directly from the `SMSSpamCollection` file. \n",
        "\n",
        "For the data file to be read successfuly, we\n",
        "need to specify the **fields** (columns) in the file. \n",
        "In our case, the dataset has two fields: \n",
        "\n",
        "- a text field containing the sms messages,\n",
        "- a label field which will be converted into a binary label.\n",
        "\n",
        "Split the dataset into `train`, `valid`, and `test`. Use a 60-20-20 split.\n",
        "You may find this torchtext API page helpful:\n",
        "https://torchtext.readthedocs.io/en/latest/data.html#dataset\n"
      ]
    },
    {
      "cell_type": "code",
      "metadata": {
        "id": "P_Y6Puz9a90l",
        "colab_type": "code",
        "outputId": "fc02b957-1cd1-4c0c-f84a-d07acabeecf2",
        "colab": {
          "base_uri": "https://localhost:8080/",
          "height": 35
        }
      },
      "source": [
        "import torchtext\n",
        "\n",
        "text_field = torchtext.data.Field(sequential=True,      # text sequence\n",
        "                                  tokenize=lambda x: x, # because are building a character-RNN\n",
        "                                  include_lengths=True, # to track the length of sequences, for batching\n",
        "                                  batch_first=True,     # to produce tensors with the batch dimension first\n",
        "                                  use_vocab=True)       # to turn each character into an integer index\n",
        "label_field = torchtext.data.Field(sequential=False,    # not a sequence\n",
        "                                   use_vocab=False,     # don't need to track vocabulary\n",
        "                                   is_target=True,      # is this what we are training to detect\n",
        "                                   batch_first=True,\n",
        "                                   preprocessing=lambda x: int(x == 'spam')) # convert text to 0 (false; no spam) and 1 (true; spam)\n",
        "\n",
        "fields = [('label', label_field), ('sms', text_field)]\n",
        "dataset = torchtext.data.TabularDataset(file, # name of the file\n",
        "                                        \"tsv\",               # fields are separated by a tab\n",
        "                                        fields)\n",
        "\n",
        "#print(dataset[2].sms)\n",
        "#print(dataset[2].label)\n",
        "\n",
        "train_data, val_data, test_data = dataset.split(split_ratio = [0.6, 0.2, 0.2], # defining the train, val, test split ratios\n",
        "                                                stratified=False,           # defining whether or not the same proportions of true/false exist\n",
        "                                                strata_field='label',       # where the data is stratified over\n",
        "                                                random_state=None)          #random state for shuffling\n",
        "\n",
        "print('The number of data samples in the train/val/test sets are: %d, %d, %d, respectively' %(len(train_data), len(val_data), len(test_data)))"
      ],
      "execution_count": 0,
      "outputs": [
        {
          "output_type": "stream",
          "text": [
            "The number of data samples in the train/val/test sets are: 3343, 1115, 1114, respectively\n"
          ],
          "name": "stdout"
        }
      ]
    },
    {
      "cell_type": "markdown",
      "metadata": {
        "id": "v6nP0Ks_a90o",
        "colab_type": "text"
      },
      "source": [
        "### Part (e) [2 pt]\n",
        "\n",
        "You saw in part (b) that there are many more non-spam messages than spam messages.\n",
        "This **imbalance** in our training data will be problematic for training.\n",
        "We can fix this disparity by duplicating non-spam messages in the training set,\n",
        "so that the training set is roughly **balanced**.\n",
        "\n",
        "Explain why having a balanced training set is helpful for training our neural network.\n",
        "\n",
        "Note: if you are not sure, try removing the below code and train your mode."
      ]
    },
    {
      "cell_type": "markdown",
      "metadata": {
        "id": "XApRLj23C7kU",
        "colab_type": "text"
      },
      "source": [
        "Answer: this is because if there is a high imbalance of one particular label, the model will bias itself towards predicting that specific label, which will not be representative towards a general case. "
      ]
    },
    {
      "cell_type": "code",
      "metadata": {
        "id": "FWvx9_rka90p",
        "colab_type": "code",
        "colab": {}
      },
      "source": [
        "# save the original training examples\n",
        "old_train_examples = train_data.examples\n",
        "# get all the spam messages in `train`\n",
        "train_spam = []\n",
        "for item in train_data.examples:\n",
        "    if item.label == 1:\n",
        "        train_spam.append(item)\n",
        "# duplicate each spam message 6 more times\n",
        "train_data.examples = old_train_examples + train_spam * 6\n"
      ],
      "execution_count": 0,
      "outputs": []
    },
    {
      "cell_type": "markdown",
      "metadata": {
        "id": "j7eUmBEva90r",
        "colab_type": "text"
      },
      "source": [
        "### Part (f) [1 pt]\n",
        "\n",
        "We need to build the vocabulary on the training data by running the below code.\n",
        "This finds all the possible character tokens in the training set.\n",
        "\n",
        "Explain what the variables `text_field.vocab.stoi` and `text_field.vocab.itos` represent."
      ]
    },
    {
      "cell_type": "code",
      "metadata": {
        "id": "8CQM8flKa90s",
        "colab_type": "code",
        "colab": {}
      },
      "source": [
        "text_field.build_vocab(train_data) #Construct the Vocab object for this field from one or more datasets\n",
        "dic = text_field.vocab.stoi # creates an index of all of the characters present with corresponding index numbers (string to index) \n",
        "dic2 = text_field.vocab.itos # index to string (gives the string character from the stoi index for each number which is inputted)\n"
      ],
      "execution_count": 0,
      "outputs": []
    },
    {
      "cell_type": "markdown",
      "metadata": {
        "id": "TC8WVE8Ua90u",
        "colab_type": "text"
      },
      "source": [
        "### Part (g) [2 pt]\n",
        "\n",
        "The tokens `<unk>` and `<pad>` were not in our SMS text messages.\n",
        "What do these two values represent?"
      ]
    },
    {
      "cell_type": "code",
      "metadata": {
        "id": "y_4Er7KUa90v",
        "colab_type": "code",
        "outputId": "4b35b651-a51a-4b6f-ffcb-92ba1bdec5fe",
        "colab": {
          "base_uri": "https://localhost:8080/",
          "height": 35
        }
      },
      "source": [
        "'<unk> = unknown words'\n",
        "'<pad> = padding added to make input sequences the same length'"
      ],
      "execution_count": 0,
      "outputs": [
        {
          "output_type": "execute_result",
          "data": {
            "text/plain": [
              "'<pad> = padding added to make input sequences the same length'"
            ]
          },
          "metadata": {
            "tags": []
          },
          "execution_count": 9
        }
      ]
    },
    {
      "cell_type": "markdown",
      "metadata": {
        "id": "Ff5CNk7Qa90y",
        "colab_type": "text"
      },
      "source": [
        "### Part (h) [2 pt]\n",
        "\n",
        "Since text sequences are of variable length, `torchtext` provides a `BucketIterator` data loader,\n",
        "which batches similar length sequences together. The iterator also provides functionalities to\n",
        "pad sequences automatically.\n",
        "\n",
        "Take a look at 10 batches in `train_iter`. What is the maximum length of the\n",
        "input sequence in each batch? How many `<pad>` tokens are used in each of the 10\n",
        "batches?"
      ]
    },
    {
      "cell_type": "code",
      "metadata": {
        "id": "V8N8qLWOa90y",
        "colab_type": "code",
        "colab": {}
      },
      "source": [
        "train_iter = torchtext.data.BucketIterator(train_data,\n",
        "                                           batch_size=32,\n",
        "                                           sort_key=lambda x: len(x.sms), # to minimize padding\n",
        "                                           sort_within_batch=True,        # sort within each batch\n",
        "                                           repeat=False)                  # repeat the iterator for many epochs"
      ],
      "execution_count": 0,
      "outputs": []
    },
    {
      "cell_type": "code",
      "metadata": {
        "colab_type": "code",
        "id": "18i-uzvYI5KH",
        "colab": {}
      },
      "source": [
        "for batch in train_iter:\n",
        "    game = batch.sms[0][0]\n",
        "    break\n",
        "    #print(len(batch))\n",
        "    #print(batch.sms)\n",
        "    #print(batch.label)\n",
        "\n"
      ],
      "execution_count": 0,
      "outputs": []
    },
    {
      "cell_type": "markdown",
      "metadata": {
        "id": "n6vVVkdIKx0y",
        "colab_type": "text"
      },
      "source": [
        "Maximum length of 10 random batches were as follows: 122, 101, 160, 160, 149, 108, 154, 126, 96, 155\n",
        "\n",
        "Number of Pad tokens in each of the batches:  "
      ]
    },
    {
      "cell_type": "code",
      "metadata": {
        "id": "dpPinAUi7Lzv",
        "colab_type": "code",
        "outputId": "7ac5960b-08f0-4f1e-b22b-ff4a13301b97",
        "colab": {
          "base_uri": "https://localhost:8080/",
          "height": 35
        }
      },
      "source": [
        "### RANDOM CODE - PLAYING WITH HOW THE TEXT TENSORS WORK\n",
        "gamee = game.tolist()\n",
        "#print(gamee[0])\n",
        "#print(dic2)\n",
        "statement = ''\n",
        "for i in range(len(gamee)):\n",
        "  statement = statement+dic2[gamee[i]]\n",
        "print(statement)"
      ],
      "execution_count": 0,
      "outputs": [
        {
          "output_type": "stream",
          "text": [
            "Ur cash-balance is currently 500 pounds - to maximize ur cash-in now send COLLECT to 83600 only 150p/msg. CC: 08718720201 PO BOX 114/14 TCR/W1\n"
          ],
          "name": "stdout"
        }
      ]
    },
    {
      "cell_type": "markdown",
      "metadata": {
        "id": "y7HnqP6_a904",
        "colab_type": "text"
      },
      "source": [
        "## Part 2. Model Building [8 pt]\n",
        "\n",
        "Build a recurrent neural network model, using an architecture of your choosing. \n",
        "Use the one-hot embedding of each character as input to your recurrent network.\n",
        "Use one or more fully-connected layers to make the prediction based on your\n",
        "recurrent network output.\n",
        "\n",
        "Instead of using the RNN output value for the final token, another often used\n",
        "strategy is to max-pool over the entire output array. That is, instead of calling\n",
        "something like:\n",
        "\n",
        "```\n",
        "out, _ = self.rnn(x)\n",
        "self.fc(out[:, -1, :])\n",
        "```\n",
        "\n",
        "where `self.rnn` is an `nn.RNN`, `nn.GRU`, or `nn.LSTM` module, and `self.fc` is a \n",
        "fully-connected \n",
        "layer, we use:\n",
        "\n",
        "```\n",
        "out, _ = self.rnn(x)\n",
        "self.fc(torch.max(out, dim=1)[0])\n",
        "```\n",
        "\n",
        "This works reasonably in practice. An even better alternative is to concatenate the\n",
        "max-pooling and average-pooling of the RNN outputs:\n",
        "\n",
        "```\n",
        "out, _ = self.rnn(x)\n",
        "out = torch.cat([torch.max(out, dim=1)[0], \n",
        "                 torch.mean(out, dim=1)], dim=1)\n",
        "self.fc(out)\n",
        "```\n",
        "\n",
        "We encourage you to try out all these options. The way you pool the RNN outputs\n",
        "is one of the \"hyperparameters\" that you can choose to tune later on."
      ]
    },
    {
      "cell_type": "code",
      "metadata": {
        "id": "jHl1p_Wwa905",
        "colab_type": "code",
        "outputId": "fbc84d9c-0d39-4f35-bfb1-c00d797b920e",
        "colab": {
          "base_uri": "https://localhost:8080/",
          "height": 284
        }
      },
      "source": [
        "# You might find this code helpful for obtaining\n",
        "# PyTorch one-hot vectors.\n",
        "\n",
        "ident = torch.eye(10)\n",
        "print(ident)\n",
        "#print(ident[0]) # one-hot vector\n",
        "#print(ident[1]) # one-hot vector\n",
        "print(ident[x]) # one-hot vectors"
      ],
      "execution_count": 0,
      "outputs": [
        {
          "output_type": "stream",
          "text": [
            "tensor([[1., 0., 0., 0., 0., 0., 0., 0., 0., 0.],\n",
            "        [0., 1., 0., 0., 0., 0., 0., 0., 0., 0.],\n",
            "        [0., 0., 1., 0., 0., 0., 0., 0., 0., 0.],\n",
            "        [0., 0., 0., 1., 0., 0., 0., 0., 0., 0.],\n",
            "        [0., 0., 0., 0., 1., 0., 0., 0., 0., 0.],\n",
            "        [0., 0., 0., 0., 0., 1., 0., 0., 0., 0.],\n",
            "        [0., 0., 0., 0., 0., 0., 1., 0., 0., 0.],\n",
            "        [0., 0., 0., 0., 0., 0., 0., 1., 0., 0.],\n",
            "        [0., 0., 0., 0., 0., 0., 0., 0., 1., 0.],\n",
            "        [0., 0., 0., 0., 0., 0., 0., 0., 0., 1.]])\n",
            "tensor([[[0., 1., 0., 0., 0., 0., 0., 0., 0., 0.],\n",
            "         [0., 0., 1., 0., 0., 0., 0., 0., 0., 0.]],\n",
            "\n",
            "        [[0., 0., 0., 1., 0., 0., 0., 0., 0., 0.],\n",
            "         [0., 0., 0., 0., 1., 0., 0., 0., 0., 0.]]])\n"
          ],
          "name": "stdout"
        }
      ]
    },
    {
      "cell_type": "code",
      "metadata": {
        "id": "DJQYN8OZ3sqo",
        "colab_type": "code",
        "outputId": "63ff1aac-f203-4783-b6af-ed247aeacb37",
        "colab": {
          "base_uri": "https://localhost:8080/",
          "height": 55
        }
      },
      "source": [
        "char_list = text_field.vocab.itos\n",
        "num_cat = len(char_list)\n",
        "one_hots = torch.eye(num_cat)\n",
        "print(dic2)\n",
        "#print(one_hots)\n",
        "#print(len(char_list))"
      ],
      "execution_count": 0,
      "outputs": [
        {
          "output_type": "stream",
          "text": [
            "['<unk>', '<pad>', ' ', 'e', 'o', 't', 'a', 'n', 'r', 'i', 's', 'l', 'u', 'h', '0', 'd', '.', 'c', 'm', 'y', 'w', 'p', 'g', '1', 'f', 'b', '2', '8', 'T', 'k', 'v', '5', 'E', 'S', 'C', '4', 'I', 'O', '7', 'x', 'N', '3', 'A', '6', '!', ',', '9', 'R', 'P', 'M', 'W', 'U', 'H', 'L', 'B', 'D', 'Y', '/', 'G', 'F', \"'\", '?', '£', '-', ':', 'X', '&', 'z', 'V', 'K', 'j', ')', 'J', '*', '+', ';', '(', 'q', '\"', 'Q', '#', '>', '=', '@', 'ü', 'Z', 'Ü', '_', '‘', '|', '\\x92', '$', '[', ']', '<', '\\x93', '“', '%', '…', '–', '\\\\', '\\x94', '\\x96', 'é', '\\t', '\\n', '~', '\\x91', '’', '»', 'É', 'è']\n"
          ],
          "name": "stdout"
        }
      ]
    },
    {
      "cell_type": "code",
      "metadata": {
        "id": "4LTQ7zFka909",
        "colab_type": "code",
        "colab": {}
      },
      "source": [
        "class Spammy(nn.Module): #NOTE: set number of RNN layers to default (1)\n",
        "  def __init__(self, input_size, hidden_size):\n",
        "    super(Spammy, self).__init__()\n",
        "    self.name=\"spam_detect\"\n",
        "    self.ident = torch.eye(num_cat) #number of one-hot identifiers; one for each character\n",
        "    self.hidden_size = hidden_size #number of hidden layers\n",
        "    self.rnn = nn.RNN(input_size, hidden_size, batch_first=True)\n",
        "    self.fc = nn.Linear(hidden_size, 2) #generates an output of 0/1 (not spam or spam)\n",
        "    \n",
        "  def forward(self, x):\n",
        "    # look at the embedding value\n",
        "    x = self.ident[x]\n",
        "    # Set an initial hidden state\n",
        "    h = torch.zeros(1, x.size(0), self.hidden_size)\n",
        "    # Forward propagate the RNN\n",
        "    out, _ = self.rnn(x, h)\n",
        "    # Pass the output of the last time step to the classifier\n",
        "    out = self.fc(out[:, -1, :])\n",
        "    return out\n"
      ],
      "execution_count": 0,
      "outputs": []
    },
    {
      "cell_type": "markdown",
      "metadata": {
        "id": "vKIYPl_Ba90_",
        "colab_type": "text"
      },
      "source": [
        "## Part 3. Training [16 pt]\n",
        "\n",
        "### Part (a) [4 pt]\n",
        "\n",
        "Complete the `get_accuracy` function, which will compute the\n",
        "accuracy (rate) of your model across a dataset (e.g. validation set).\n",
        "You may modify the \n",
        "You may use `torchtext.data.BucketIterator` to make your computation\n",
        "faster."
      ]
    },
    {
      "cell_type": "code",
      "metadata": {
        "id": "-jqMZzpwHXOu",
        "colab_type": "code",
        "colab": {}
      },
      "source": [
        "def get_accuracy(model, data):\n",
        "  \"\"\" Compute the accuracy of the `model` across a dataset `data`\n",
        "\n",
        "  Example usage:\n",
        "\n",
        "  >>> model = MyRNN() # to be defined\n",
        "  >>> get_accuracy(model, valid) # the variable `valid` is from above\n",
        "  \"\"\"       \n",
        "\n",
        "  correct, total= 0, 0\n",
        "\n",
        "  for sms, label in data:\n",
        "    output= model(sms[0])\n",
        "    pred= output.max(1, keepdim=True)[1]\n",
        "    correct += pred.eq(label.view_as(pred)).sum().item()\n",
        "    total += label.shape[0]\n",
        "  return correct / total"
      ],
      "execution_count": 0,
      "outputs": []
    },
    {
      "cell_type": "markdown",
      "metadata": {
        "id": "TlxlcAC1a91C",
        "colab_type": "text"
      },
      "source": [
        "### Part (b) [4 pt]\n",
        "\n",
        "Train your model. Plot the training curve of your final model. \n",
        "Your training curve should have the training/validation loss and\n",
        "accuracy plotted periodically.\n",
        "\n",
        "Note: Not all of your batches will have the same batch size.\n",
        "In particular, if your training set does not divide evenly by\n",
        "your batch size, there will be a batch that is smaller than\n",
        "the rest. "
      ]
    },
    {
      "cell_type": "code",
      "metadata": {
        "id": "A2GEWfDca91G",
        "colab_type": "code",
        "colab": {}
      },
      "source": [
        "import matplotlib.pyplot as plt\n",
        "\n",
        "def train_rnn(model, train, valid, num_epochs, batch_size, learning_rate):\n",
        "    criterion = nn.CrossEntropyLoss()\n",
        "    optimizer = torch.optim.Adam(model.parameters(), lr=learning_rate)\n",
        "    losses, train_acc, valid_acc = [], [], []\n",
        "    epochs = []\n",
        "    train_iter = torchtext.data.BucketIterator(\n",
        "                    train,\n",
        "                    batch_size=batch_size,\n",
        "                    sort_key=lambda x: len(x.sms), # to minimize padding\n",
        "                    sort_within_batch=True,        # sort within each batch\n",
        "                    repeat=False)                  # repeat the iterator for many epochs\n",
        "    valid_iter = torchtext.data.BucketIterator(\n",
        "                    valid,\n",
        "                    batch_size=batch_size,\n",
        "                    sort_key=lambda x: len(x.sms), # to minimize padding\n",
        "                    sort_within_batch=True,        # sort within each batch\n",
        "                    repeat=False)                  # repeat the iterator for many epochs\n",
        "\n",
        "    for epoch in range(num_epochs):\n",
        "        for sms, label in train_iter:\n",
        "            optimizer.zero_grad()\n",
        "            pred = model(sms[0])\n",
        "            loss = criterion(pred, label)\n",
        "            loss.backward()\n",
        "            optimizer.step()\n",
        "            \n",
        "        losses.append(float(loss))     \n",
        "        epochs.append(epoch)\n",
        "        train_acc.append(get_accuracy(model, train_iter))\n",
        "        valid_acc.append(get_accuracy(model, valid_iter))\n",
        "        print(\"Epoch %d; Loss %f; Train Acc %f; Val Acc %f\" % (\n",
        "            epoch+1, loss, train_acc[-1], valid_acc[-1]))\n",
        "       \n",
        "        # save model\n",
        "        model_path = f\"model_{model.name}_bs{batch_size}_lr{learning_rate}_epoch{epoch}\"\n",
        "        torch.save(model.state_dict(), model_path)\n",
        "\n",
        "    # plotting\n",
        "    plt.title(\"Training Curve\")\n",
        "    plt.plot(losses, label=\"Train\")\n",
        "    plt.xlabel(\"Epoch\")\n",
        "    plt.ylabel(\"Loss\")\n",
        "    plt.show()\n",
        "\n",
        "    plt.title(\"Training Curve\")\n",
        "    plt.plot(epochs, train_acc, label=\"Train\")\n",
        "    plt.plot(epochs, valid_acc, label=\"Validation\")\n",
        "    plt.xlabel(\"Epoch\")\n",
        "    plt.ylabel(\"Accuracy\")\n",
        "    plt.legend(loc='best')\n",
        "    plt.show()"
      ],
      "execution_count": 0,
      "outputs": []
    },
    {
      "cell_type": "code",
      "metadata": {
        "id": "CyCZ-z0WHnUa",
        "colab_type": "code",
        "outputId": "1206d476-112b-4f7f-e70e-5ec3705d624d",
        "colab": {
          "base_uri": "https://localhost:8080/",
          "height": 751
        }
      },
      "source": [
        "input_size= num_cat\n",
        "\n",
        "spammy = Spammy(input_size, input_size);\n",
        "\n",
        "train_rnn(spammy, train_data, val_data, num_epochs= 10, learning_rate=0.00001, batch_size= 32)"
      ],
      "execution_count": 0,
      "outputs": [
        {
          "output_type": "stream",
          "text": [
            "Epoch 1; Loss 0.667386; Train Acc 0.528018; Val Acc 0.145291\n",
            "Epoch 2; Loss 0.715086; Train Acc 0.534880; Val Acc 0.160538\n",
            "Epoch 3; Loss 0.706103; Train Acc 0.557915; Val Acc 0.233184\n",
            "Epoch 4; Loss 0.724803; Train Acc 0.596635; Val Acc 0.464574\n",
            "Epoch 5; Loss 0.655113; Train Acc 0.629636; Val Acc 0.569507\n",
            "Epoch 6; Loss 0.670518; Train Acc 0.724228; Val Acc 0.703139\n",
            "Epoch 7; Loss 0.642782; Train Acc 0.869139; Val Acc 0.910314\n",
            "Epoch 8; Loss 0.412752; Train Acc 0.883516; Val Acc 0.919283\n",
            "Epoch 9; Loss 0.305377; Train Acc 0.893481; Val Acc 0.926457\n",
            "Epoch 10; Loss 0.451174; Train Acc 0.893318; Val Acc 0.896861\n"
          ],
          "name": "stdout"
        },
        {
          "output_type": "display_data",
          "data": {
            "image/png": "[encoded data removed]",
            "text/plain": [
              "<Figure size 432x288 with 1 Axes>"
            ]
          },
          "metadata": {
            "tags": []
          }
        },
        {
          "output_type": "display_data",
          "data": {
            "image/png": "[encoded data removed]",
            "text/plain": [
              "<Figure size 432x288 with 1 Axes>"
            ]
          },
          "metadata": {
            "tags": []
          }
        }
      ]
    },
    {
      "cell_type": "markdown",
      "metadata": {
        "id": "fE3eRkDAa91F",
        "colab_type": "text"
      },
      "source": [
        "### Part (c) [4 pt]\n",
        "\n",
        "Choose at least 4 hyperparameters to tune. Explain how you tuned the hyper parameters.\n",
        "You don't need to include your training curve for every model you trained.\n",
        "Instead, explain what hyperparemters you tuned, what the best validation accuracy was,\n",
        "and the reasoning behind the hyperparameter decisions you made.\n",
        "\n",
        "For this assignment, you should tune more than just your learning rate and epoch. \n",
        "Choose at least 2 hyperparameters that are unrelated to the optimizer."
      ]
    },
    {
      "cell_type": "code",
      "metadata": {
        "id": "KoWbOcs0G8h3",
        "colab_type": "code",
        "colab": {}
      },
      "source": [
        "#hyperparater sets \n",
        "hp0 = [25, 32, 0.000025]\n",
        "hp1 = [25, 64, 0.00005]\n",
        "hidden_size0 = 150\n",
        "hidden_size1 = 250"
      ],
      "execution_count": 0,
      "outputs": []
    },
    {
      "cell_type": "code",
      "metadata": {
        "id": "aI_DjD5LKZ7r",
        "colab_type": "code",
        "outputId": "d1d4c9b9-20bb-4735-83a8-301d869df658",
        "colab": {
          "base_uri": "https://localhost:8080/",
          "height": 1000
        }
      },
      "source": [
        "train_rnn(spammy, train_data, val_data, num_epochs= hp0[0], learning_rate=hp0[2], batch_size= hp0[1])"
      ],
      "execution_count": 0,
      "outputs": [
        {
          "output_type": "stream",
          "text": [
            "Epoch 1; Loss 0.194674; Train Acc 0.904264; Val Acc 0.934529\n",
            "Epoch 2; Loss 0.354123; Train Acc 0.912596; Val Acc 0.929148\n",
            "Epoch 3; Loss 0.353561; Train Acc 0.927626; Val Acc 0.914798\n",
            "Epoch 4; Loss 0.336143; Train Acc 0.915373; Val Acc 0.934529\n",
            "Epoch 5; Loss 0.373569; Train Acc 0.912596; Val Acc 0.947982\n",
            "Epoch 6; Loss 0.390219; Train Acc 0.924849; Val Acc 0.939013\n",
            "Epoch 7; Loss 0.439803; Train Acc 0.932364; Val Acc 0.919283\n",
            "Epoch 8; Loss 0.055156; Train Acc 0.920274; Val Acc 0.953363\n",
            "Epoch 9; Loss 0.155185; Train Acc 0.940696; Val Acc 0.942601\n",
            "Epoch 10; Loss 0.115591; Train Acc 0.933671; Val Acc 0.949776\n",
            "Epoch 11; Loss 0.171453; Train Acc 0.940859; Val Acc 0.951570\n",
            "Epoch 12; Loss 0.313477; Train Acc 0.940859; Val Acc 0.952466\n",
            "Epoch 13; Loss 0.169016; Train Acc 0.950825; Val Acc 0.931839\n",
            "Epoch 14; Loss 0.322806; Train Acc 0.937755; Val Acc 0.890583\n",
            "Epoch 15; Loss 0.252029; Train Acc 0.951805; Val Acc 0.944395\n",
            "Epoch 16; Loss 0.126466; Train Acc 0.930894; Val Acc 0.961435\n",
            "Epoch 17; Loss 0.047608; Train Acc 0.888744; Val Acc 0.965919\n",
            "Epoch 18; Loss 0.214582; Train Acc 0.952949; Val Acc 0.958744\n",
            "Epoch 19; Loss 0.205799; Train Acc 0.957033; Val Acc 0.957848\n",
            "Epoch 20; Loss 0.060982; Train Acc 0.959157; Val Acc 0.966816\n",
            "Epoch 21; Loss 0.209731; Train Acc 0.956380; Val Acc 0.947085\n",
            "Epoch 22; Loss 0.030231; Train Acc 0.960464; Val Acc 0.956951\n",
            "Epoch 23; Loss 0.022514; Train Acc 0.959974; Val Acc 0.970404\n",
            "Epoch 24; Loss 0.058361; Train Acc 0.957033; Val Acc 0.976682\n",
            "Epoch 25; Loss 0.206899; Train Acc 0.963731; Val Acc 0.973094\n"
          ],
          "name": "stdout"
        },
        {
          "output_type": "display_data",
          "data": {
            "image/png": "[encoded data removed]",
            "text/plain": [
              "<Figure size 432x288 with 1 Axes>"
            ]
          },
          "metadata": {
            "tags": []
          }
        },
        {
          "output_type": "display_data",
          "data": {
            "image/png": "[encoded data removed]",
            "text/plain": [
              "<Figure size 432x288 with 1 Axes>"
            ]
          },
          "metadata": {
            "tags": []
          }
        }
      ]
    },
    {
      "cell_type": "code",
      "metadata": {
        "id": "HcUyFQQnKai_",
        "colab_type": "code",
        "outputId": "358a0196-7f99-4d48-8f1b-bd043ed4f0d7",
        "colab": {
          "base_uri": "https://localhost:8080/",
          "height": 1000
        }
      },
      "source": [
        "train_rnn(spammy, train_data, val_data, num_epochs= hp1[0], learning_rate=hp1[2], batch_size= hp1[1])"
      ],
      "execution_count": 0,
      "outputs": [
        {
          "output_type": "stream",
          "text": [
            "Epoch 1; Loss 0.365026; Train Acc 0.960137; Val Acc 0.958744\n",
            "Epoch 2; Loss 0.070685; Train Acc 0.961934; Val Acc 0.974888\n",
            "Epoch 3; Loss 0.074722; Train Acc 0.964548; Val Acc 0.965022\n",
            "Epoch 4; Loss 0.169734; Train Acc 0.966019; Val Acc 0.964126\n",
            "Epoch 5; Loss 0.038082; Train Acc 0.966345; Val Acc 0.959641\n",
            "Epoch 6; Loss 0.555999; Train Acc 0.952459; Val Acc 0.965919\n",
            "Epoch 7; Loss 0.014058; Train Acc 0.968142; Val Acc 0.964126\n",
            "Epoch 8; Loss 0.047739; Train Acc 0.967162; Val Acc 0.977578\n",
            "Epoch 9; Loss 0.023612; Train Acc 0.958177; Val Acc 0.979372\n",
            "Epoch 10; Loss 0.145942; Train Acc 0.883843; Val Acc 0.783857\n",
            "Epoch 11; Loss 0.021913; Train Acc 0.954092; Val Acc 0.981166\n",
            "Epoch 12; Loss 0.029091; Train Acc 0.964548; Val Acc 0.973991\n",
            "Epoch 13; Loss 0.060914; Train Acc 0.969449; Val Acc 0.975785\n",
            "Epoch 14; Loss 0.022471; Train Acc 0.972717; Val Acc 0.975785\n",
            "Epoch 15; Loss 0.142691; Train Acc 0.972390; Val Acc 0.970404\n",
            "Epoch 16; Loss 0.050431; Train Acc 0.964222; Val Acc 0.947085\n",
            "Epoch 17; Loss 0.072554; Train Acc 0.971900; Val Acc 0.967713\n",
            "Epoch 18; Loss 0.279287; Train Acc 0.955890; Val Acc 0.961435\n",
            "Epoch 19; Loss 0.087873; Train Acc 0.956216; Val Acc 0.943498\n",
            "Epoch 20; Loss 0.101105; Train Acc 0.968959; Val Acc 0.949776\n",
            "Epoch 21; Loss 0.056689; Train Acc 0.971737; Val Acc 0.948879\n",
            "Epoch 22; Loss 0.010207; Train Acc 0.970756; Val Acc 0.968610\n",
            "Epoch 23; Loss 0.029717; Train Acc 0.962261; Val Acc 0.975785\n",
            "Epoch 24; Loss 0.217630; Train Acc 0.971737; Val Acc 0.968610\n",
            "Epoch 25; Loss 0.109319; Train Acc 0.960791; Val Acc 0.947085\n"
          ],
          "name": "stdout"
        },
        {
          "output_type": "display_data",
          "data": {
            "image/png": "[encoded data removed]",
            "text/plain": [
              "<Figure size 432x288 with 1 Axes>"
            ]
          },
          "metadata": {
            "tags": []
          }
        },
        {
          "output_type": "display_data",
          "data": {
            "image/png": "[encoded data removed]",
            "text/plain": [
              "<Figure size 432x288 with 1 Axes>"
            ]
          },
          "metadata": {
            "tags": []
          }
        }
      ]
    },
    {
      "cell_type": "code",
      "metadata": {
        "id": "3WK3nOp0Ka0t",
        "colab_type": "code",
        "outputId": "b37b36cd-8dc4-4c78-f0e4-b6779250c6f1",
        "colab": {
          "base_uri": "https://localhost:8080/",
          "height": 1000
        }
      },
      "source": [
        "spammy = Spammy(input_size, hidden_size0)\n",
        "train_rnn(spammy, train_data, val_data, num_epochs= hp1[0], learning_rate=hp1[2], batch_size= hp1[1])"
      ],
      "execution_count": 0,
      "outputs": [
        {
          "output_type": "stream",
          "text": [
            "Epoch 1; Loss 0.709753; Train Acc 0.552851; Val Acc 0.156054\n",
            "Epoch 2; Loss 0.714542; Train Acc 0.563470; Val Acc 0.160538\n",
            "Epoch 3; Loss 0.724355; Train Acc 0.626695; Val Acc 0.230493\n",
            "Epoch 4; Loss 0.663216; Train Acc 0.712955; Val Acc 0.735426\n",
            "Epoch 5; Loss 0.317799; Train Acc 0.879758; Val Acc 0.928251\n",
            "Epoch 6; Loss 0.702899; Train Acc 0.862114; Val Acc 0.916592\n",
            "Epoch 7; Loss 0.076263; Train Acc 0.908512; Val Acc 0.943498\n",
            "Epoch 8; Loss 0.140153; Train Acc 0.909165; Val Acc 0.944395\n",
            "Epoch 9; Loss 0.211583; Train Acc 0.892501; Val Acc 0.947982\n",
            "Epoch 10; Loss 0.115560; Train Acc 0.918641; Val Acc 0.899552\n",
            "Epoch 11; Loss 0.111403; Train Acc 0.925339; Val Acc 0.950673\n",
            "Epoch 12; Loss 0.037979; Train Acc 0.926156; Val Acc 0.947982\n",
            "Epoch 13; Loss 0.088033; Train Acc 0.938082; Val Acc 0.946188\n",
            "Epoch 14; Loss 0.198255; Train Acc 0.939062; Val Acc 0.935426\n",
            "Epoch 15; Loss 0.379164; Train Acc 0.933017; Val Acc 0.913901\n",
            "Epoch 16; Loss 0.111385; Train Acc 0.935631; Val Acc 0.954260\n",
            "Epoch 17; Loss 0.342559; Train Acc 0.934324; Val Acc 0.915695\n",
            "Epoch 18; Loss 0.142177; Train Acc 0.936448; Val Acc 0.956054\n",
            "Epoch 19; Loss 0.044655; Train Acc 0.948865; Val Acc 0.951570\n",
            "Epoch 20; Loss 0.258320; Train Acc 0.946904; Val Acc 0.935426\n",
            "Epoch 21; Loss 0.108913; Train Acc 0.925339; Val Acc 0.950673\n",
            "Epoch 22; Loss 0.026473; Train Acc 0.946741; Val Acc 0.953363\n",
            "Epoch 23; Loss 0.193734; Train Acc 0.950172; Val Acc 0.946188\n",
            "Epoch 24; Loss 0.297159; Train Acc 0.949191; Val Acc 0.926457\n",
            "Epoch 25; Loss 0.135119; Train Acc 0.934488; Val Acc 0.928251\n"
          ],
          "name": "stdout"
        },
        {
          "output_type": "display_data",
          "data": {
            "image/png": "[encoded data removed]",
            "text/plain": [
              "<Figure size 432x288 with 1 Axes>"
            ]
          },
          "metadata": {
            "tags": []
          }
        },
        {
          "output_type": "display_data",
          "data": {
            "image/png": "[encoded data removed]",
            "text/plain": [
              "<Figure size 432x288 with 1 Axes>"
            ]
          },
          "metadata": {
            "tags": []
          }
        }
      ]
    },
    {
      "cell_type": "code",
      "metadata": {
        "id": "M_28UCMhKbG6",
        "colab_type": "code",
        "outputId": "391992b6-2cec-4f2b-bc0a-aee9c83fa376",
        "colab": {
          "base_uri": "https://localhost:8080/",
          "height": 1000
        }
      },
      "source": [
        "spammy = Spammy(input_size, hidden_size1)\n",
        "train_rnn(spammy, train_data, val_data, num_epochs= hp1[0], learning_rate=hp1[2], batch_size= hp1[1])"
      ],
      "execution_count": 0,
      "outputs": [
        {
          "output_type": "stream",
          "text": [
            "Epoch 1; Loss 0.700450; Train Acc 0.535533; Val Acc 0.143498\n",
            "Epoch 2; Loss 0.727227; Train Acc 0.595818; Val Acc 0.424215\n",
            "Epoch 3; Loss 0.586660; Train Acc 0.818657; Val Acc 0.893274\n",
            "Epoch 4; Loss 0.173433; Train Acc 0.892665; Val Acc 0.924664\n",
            "Epoch 5; Loss 0.089097; Train Acc 0.923705; Val Acc 0.930045\n",
            "Epoch 6; Loss 0.385552; Train Acc 0.925829; Val Acc 0.907623\n",
            "Epoch 7; Loss 0.336402; Train Acc 0.774873; Val Acc 0.788341\n",
            "Epoch 8; Loss 0.158555; Train Acc 0.916190; Val Acc 0.930942\n",
            "Epoch 9; Loss 0.054834; Train Acc 0.928443; Val Acc 0.948879\n",
            "Epoch 10; Loss 0.295798; Train Acc 0.543702; Val Acc 0.156951\n",
            "Epoch 11; Loss 0.521002; Train Acc 0.769155; Val Acc 0.749776\n",
            "Epoch 12; Loss 0.262581; Train Acc 0.844143; Val Acc 0.886099\n",
            "Epoch 13; Loss 0.065997; Train Acc 0.938899; Val Acc 0.947085\n",
            "Epoch 14; Loss 0.201309; Train Acc 0.938572; Val Acc 0.948879\n",
            "Epoch 15; Loss 0.154648; Train Acc 0.941513; Val Acc 0.921076\n",
            "Epoch 16; Loss 0.104281; Train Acc 0.950335; Val Acc 0.949776\n",
            "Epoch 17; Loss 0.236796; Train Acc 0.934324; Val Acc 0.919283\n",
            "Epoch 18; Loss 0.229201; Train Acc 0.917007; Val Acc 0.954260\n",
            "Epoch 19; Loss 0.047530; Train Acc 0.956380; Val Acc 0.959641\n",
            "Epoch 20; Loss 0.150553; Train Acc 0.949355; Val Acc 0.949776\n",
            "Epoch 21; Loss 0.098230; Train Acc 0.941023; Val Acc 0.939910\n",
            "Epoch 22; Loss 0.105267; Train Acc 0.932854; Val Acc 0.933632\n",
            "Epoch 23; Loss 0.166223; Train Acc 0.962098; Val Acc 0.965022\n",
            "Epoch 24; Loss 0.314280; Train Acc 0.951315; Val Acc 0.933632\n",
            "Epoch 25; Loss 0.080213; Train Acc 0.963568; Val Acc 0.960538\n"
          ],
          "name": "stdout"
        },
        {
          "output_type": "display_data",
          "data": {
            "image/png": "[encoded data removed]",
            "text/plain": [
              "<Figure size 432x288 with 1 Axes>"
            ]
          },
          "metadata": {
            "tags": []
          }
        },
        {
          "output_type": "display_data",
          "data": {
            "image/png": "[encoded data removed]",
            "text/plain": [
              "<Figure size 432x288 with 1 Axes>"
            ]
          },
          "metadata": {
            "tags": []
          }
        }
      ]
    },
    {
      "cell_type": "markdown",
      "metadata": {
        "id": "v7DY56rKa91I",
        "colab_type": "text"
      },
      "source": [
        "### Part (d) [2 pt]\n",
        "\n",
        "Before we deploy a machine learning model, we usually want to have a better understanding\n",
        "of how our model performs beyond its validation accuracy. An important metric to track is\n",
        "*how well our model performs in certain subsets of the data*.\n",
        "\n",
        "In particular, what is the model's error rate amongst data with negative labels?\n",
        "This is called the **false positive rate**.\n",
        "\n",
        "What about the model's error rate amongst data with positive labels?\n",
        "This is called the **false negative rate**.\n",
        "\n",
        "Report your final model's false positive and false negative rate across the\n",
        "validation set."
      ]
    },
    {
      "cell_type": "code",
      "metadata": {
        "id": "7ggbQSdba91J",
        "colab_type": "code",
        "colab": {}
      },
      "source": [
        "# Create a Dataset of only spam validation examples\n",
        "valid_spam = torchtext.data.Dataset(\n",
        "    [s for s in val_data.examples if s.label == 1],\n",
        "    val_data.fields)\n",
        "valid_spam_stuff = torchtext.data.BucketIterator(\n",
        "                    valid_spam,\n",
        "                    batch_size=32,\n",
        "                    sort_key=lambda x: len(x.sms), # to minimize padding\n",
        "                    sort_within_batch=True,        # sort within each batch\n",
        "                    repeat=False)                  # repeat the iterator for many epochs\n",
        "# Create a Dataset of only non-spam validation examples\n",
        "\n",
        "valid_nospam = torchtext.data.Dataset(\n",
        "    [s for s in val_data.examples if s.label == 1],\n",
        "    val_data.fields)\n",
        "\n",
        "valid_nospam_stuff = torchtext.data.BucketIterator(\n",
        "                    valid_spam,\n",
        "                    batch_size=32,\n",
        "                    sort_key=lambda x: len(x.sms), # to minimize padding\n",
        "                    sort_within_batch=True,        # sort within each batch\n",
        "                    repeat=False)                  # repeat the iterator for many epochs"
      ],
      "execution_count": 0,
      "outputs": []
    },
    {
      "cell_type": "markdown",
      "metadata": {
        "id": "N1iRteb3a91O",
        "colab_type": "text"
      },
      "source": [
        "### Part (e) [2 pt]\n",
        "\n",
        "The impact of a false positive vs a false negative can be drastically different.\n",
        "If our spam detection algorithm was deployed on your phone, what is the impact\n",
        "of a false positive on the phone's user? What is the impact of a false negative?"
      ]
    },
    {
      "cell_type": "markdown",
      "metadata": {
        "id": "KD-MZbUZQWqV",
        "colab_type": "text"
      },
      "source": [
        "The impact of a false positive could be detremental; because uncommon messages which are irregular (such as government information, polling info, bank stuff, etc.) could be sent to spam folders which could have a major impact \n",
        "\n",
        "False negatives cause an inconvenience for the individual, but it is not potentially catastrophic"
      ]
    },
    {
      "cell_type": "markdown",
      "metadata": {
        "id": "Gznefulsa91V",
        "colab_type": "text"
      },
      "source": [
        "## Part 4. Evaluation [11 pt]\n",
        "\n",
        "### Part (a) [1 pt]\n",
        "\n",
        "Report the final test accuracy of your model."
      ]
    },
    {
      "cell_type": "code",
      "metadata": {
        "id": "D5L5D-A1a91W",
        "colab_type": "code",
        "outputId": "3e019698-43c4-4fae-c4ee-ef479b570a55",
        "colab": {
          "base_uri": "https://localhost:8080/",
          "height": 35
        }
      },
      "source": [
        "testing_stuff = torchtext.data.BucketIterator(\n",
        "                    test_data,\n",
        "                    batch_size=64,\n",
        "                    sort_key=lambda x: len(x.sms), # to minimize padding\n",
        "                    sort_within_batch=True,        # sort within each batch\n",
        "                    repeat=False)                  # repeat the iterator for many epochs\n",
        "print(\"Final testing accuracy:\", np.round(get_accuracy(spammy, testing_stuff), 4)*100,\"%\")"
      ],
      "execution_count": 0,
      "outputs": [
        {
          "output_type": "stream",
          "text": [
            "Final testing accuracy: 88.14999999999999 %\n"
          ],
          "name": "stdout"
        }
      ]
    },
    {
      "cell_type": "markdown",
      "metadata": {
        "id": "0jGHtQFpa91b",
        "colab_type": "text"
      },
      "source": [
        "### Part (c) [3 pt]\n",
        "\n",
        "What is your model's prediction of the **probability** that\n",
        "the SMS message \"machine learning is sooo cool!\" is spam?\n",
        "\n",
        "Hint: To begin, use `text_field.vocab.stoi` to look up the index\n",
        "of each character in the vocabulary."
      ]
    },
    {
      "cell_type": "code",
      "metadata": {
        "id": "h_2nSJq8a91b",
        "colab_type": "code",
        "colab": {}
      },
      "source": [
        "msg = \"machine learning is sooo cool!\""
      ],
      "execution_count": 0,
      "outputs": []
    },
    {
      "cell_type": "code",
      "metadata": {
        "id": "b8jc_Ag6TKfA",
        "colab_type": "code",
        "colab": {}
      },
      "source": [
        "swag_tensor= torch.tensor([[text_field.vocab.stoi[letter] for letter in msg]]) \n",
        "## Excuse the naming convention, I'm just putting the first names that pop in my head due to crunch time"
      ],
      "execution_count": 0,
      "outputs": []
    },
    {
      "cell_type": "code",
      "metadata": {
        "id": "ERJq15CNVmF5",
        "colab_type": "code",
        "outputId": "c7383624-165f-41fa-8da8-da3536e69057",
        "colab": {
          "base_uri": "https://localhost:8080/",
          "height": 35
        }
      },
      "source": [
        "spammy(swag_tensor)"
      ],
      "execution_count": 0,
      "outputs": [
        {
          "output_type": "execute_result",
          "data": {
            "text/plain": [
              "tensor([[ 0.3104, -0.4623]], grad_fn=<AddmmBackward>)"
            ]
          },
          "metadata": {
            "tags": []
          },
          "execution_count": 77
        }
      ]
    },
    {
      "cell_type": "markdown",
      "metadata": {
        "id": "tcITkfOPV3tH",
        "colab_type": "text"
      },
      "source": [
        "Evidently, the output is not spam"
      ]
    },
    {
      "cell_type": "markdown",
      "metadata": {
        "id": "QD1zgYJpa91f",
        "colab_type": "text"
      },
      "source": [
        "### Part (d) [4 pt]\n",
        "\n",
        "Do you think detecting spam is an easy or difficult task?\n",
        "\n",
        "Since machine learning models are expensive to train and deploy, it is very\n",
        "important to compare our models against baseline models: a simple\n",
        "model that is easy to build and inexpensive to run that we can compare our\n",
        "recurrent neural network model against.\n",
        "\n",
        "Explain how you might build a simple baseline model. This baseline model\n",
        "can be a simple neural network (with very few weights), a hand-written algorithm,\n",
        "or any other strategy that is easy to build and test.\n",
        "\n",
        "**Do not actually build a baseline model. Instead, provide instructions on\n",
        "how to build it.**"
      ]
    },
    {
      "cell_type": "markdown",
      "metadata": {
        "id": "lusW15aHWZzR",
        "colab_type": "text"
      },
      "source": [
        "Detecting spam is very difficult since spam messages try to emulate real messages (and are often decieving to try to persuade inviduals to do certain actions). As a result, the method for detecting these as a baseline model must be subtle. Typically, from personal experience, a lot of spam messages tend to contain many exclamation marks, dollar signs, or mispelled words (which could be estimated through many back-to-back consonants without vowel separation). As a result the baseline model could be something as simple as the pseudocode below:\n",
        "\n",
        "input = message\n",
        "baseline(input) #output is a 0 if not spam and 1 if spam\n",
        "\n",
        "def baseline(input):\n",
        "  if (number of back-to-back explanation marks>3 || number of back-to-back dollar signs are>2 || number of consonants back to back >5):\n",
        "    return 1\n",
        "  else\n",
        "    return 0"
      ]
    },
    {
      "cell_type": "code",
      "metadata": {
        "id": "LTndp-IOa91g",
        "colab_type": "code",
        "colab": {}
      },
      "source": [
        ""
      ],
      "execution_count": 0,
      "outputs": []
    }
  ]
}