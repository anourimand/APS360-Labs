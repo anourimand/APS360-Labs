{
  "nbformat": 4,
  "nbformat_minor": 0,
  "metadata": {
    "kernelspec": {
      "name": "python3",
      "display_name": "Python 3"
    },
    "language_info": {
      "codemirror_mode": {
        "name": "ipython",
        "version": 3
      },
      "file_extension": ".py",
      "mimetype": "text/x-python",
      "name": "python",
      "nbconvert_exporter": "python",
      "pygments_lexer": "ipython3",
      "version": "3.6.7"
    },
    "colab": {
      "name": "AN - Lab_4_Data_Imputation.ipynb",
      "provenance": [],
      "collapsed_sections": [
        "UEe9yt6L1prM",
        "QlHu0wxh1prP",
        "DfQPgu1Q1prS",
        "p_d5uuAY1prZ",
        "fdLNA0ce1prd"
      ],
      "toc_visible": true
    },
    "accelerator": "GPU"
  },
  "cells": [
    {
      "cell_type": "markdown",
      "metadata": {
        "id": "OhtOdxzd1ppr",
        "colab_type": "text"
      },
      "source": [
        "# Lab 4: Data Imputation using an Autoencoder\n",
        "\n",
        "In this lab, you will build and train an autoencoder to impute (or \"fill in\") missing data. \n",
        "\n",
        "We will be using the\n",
        "Adult Data Set provided by the UCI Machine Learning Repository [1], available \n",
        "at https://archive.ics.uci.edu/ml/datasets/adult.\n",
        "The data set contains census record files of adults, including their\n",
        "age, martial status, the type of work they do, and other features. \n",
        "\n",
        "Normally, people use this data set to build a supervised classification\n",
        "model to classify whether a person is a high income earner.\n",
        "We will not use the dataset for this original intended purpose.\n",
        "\n",
        "Instead, we will perform the task of imputing (or \"filling in\") missing values in the dataset. For example,\n",
        "we may be missing one person's martial status, and another person's age, and\n",
        "a third person's level of education. Our model will predict the missing features \n",
        "based on the information that we do have about each person.\n",
        "\n",
        "In the process, you are expected to learn to:\n",
        "\n",
        "1. Clean and process continuous and categorical data for machine learning.\n",
        "2. Implement an autoencoder that takes continuous and categorical (one-hot) inputs.\n",
        "3. Tune the hyperparameters of an autoencoder.\n",
        "4. Use baseline models to help interpret model performance.\n",
        "\n",
        "[1] Dua, D. and Karra Taniskidou, E. (2017). UCI Machine Learning Repository [http://archive.ics.uci.edu/ml]. Irvine, CA: University of California, School of Information and Computer Science.\n",
        "\n"
      ]
    },
    {
      "cell_type": "markdown",
      "metadata": {
        "id": "zbnrp2ig1pps",
        "colab_type": "text"
      },
      "source": [
        "## Colab Link\n",
        "\n",
        "Include a link to your Colab file here. If you would like the TA to look at your\n",
        "Colab file in case your solutions are cut off, **please make sure that your Colab\n",
        "file is publicly accessible at the time of submission**.\n",
        "\n",
        "Colab Link: https://colab.research.google.com/drive/1vTCEl8m8tqQ3vEqZs-RO3Xb4qCBgwhiE#scrollTo=IXQ7BP151ppz"
      ]
    },
    {
      "cell_type": "code",
      "metadata": {
        "id": "z3p8N43E1ppt",
        "colab_type": "code",
        "colab": {}
      },
      "source": [
        "import csv\n",
        "import numpy as np\n",
        "import random\n",
        "import torch\n",
        "import torch.utils.data"
      ],
      "execution_count": 0,
      "outputs": []
    },
    {
      "cell_type": "markdown",
      "metadata": {
        "id": "8ROwtHcz1ppx",
        "colab_type": "text"
      },
      "source": [
        "## Part 0\n",
        "\n",
        "We will be using a package called `pandas` for this assignment. \n",
        "\n",
        "If you are using Colab, `pandas` should already be available.\n",
        "If you are using your own computer,\n",
        "installation instructions for `pandas` are available here: \n",
        "https://pandas.pydata.org/pandas-docs/stable/install.html"
      ]
    },
    {
      "cell_type": "code",
      "metadata": {
        "id": "IXQ7BP151ppz",
        "colab_type": "code",
        "colab": {}
      },
      "source": [
        "import pandas as pd"
      ],
      "execution_count": 0,
      "outputs": []
    },
    {
      "cell_type": "markdown",
      "metadata": {
        "id": "hqXihb4Q1pp2",
        "colab_type": "text"
      },
      "source": [
        "# Part 1. Data Cleaning [15 pt]\n",
        "\n",
        "The adult.data file is available at `https://archive.ics.uci.edu/ml/machine-learning-databases/adult/adult.data`\n",
        "\n",
        "The function `pd.read_csv` loads the adult.data file into a pandas dataframe.\n",
        "You can read about the pandas documentation for `pd.read_csv` at\n",
        "https://pandas.pydata.org/pandas-docs/stable/reference/api/pandas.read_csv.html"
      ]
    },
    {
      "cell_type": "code",
      "metadata": {
        "id": "EOMItFKn1pp3",
        "colab_type": "code",
        "colab": {}
      },
      "source": [
        "header = ['age', 'work', 'fnlwgt', 'edu', 'yredu', 'marriage', 'occupation',\n",
        " 'relationship', 'race', 'sex', 'capgain', 'caploss', 'workhr', 'country']\n",
        "df = pd.read_csv(\n",
        "    \"https://archive.ics.uci.edu/ml/machine-learning-databases/adult/adult.data\",\n",
        "    names=header,\n",
        "    index_col=False)"
      ],
      "execution_count": 0,
      "outputs": []
    },
    {
      "cell_type": "code",
      "metadata": {
        "scrolled": true,
        "id": "62Ot405q1pp5",
        "colab_type": "code",
        "outputId": "8cc7778b-5703-46c4-aa38-7fc8e90eddf9",
        "colab": {
          "base_uri": "https://localhost:8080/",
          "height": 34
        }
      },
      "source": [
        "df.shape # there are 32561 rows (records) in the data frame, and 14 columns (features)"
      ],
      "execution_count": 0,
      "outputs": [
        {
          "output_type": "execute_result",
          "data": {
            "text/plain": [
              "(32561, 14)"
            ]
          },
          "metadata": {
            "tags": []
          },
          "execution_count": 4
        }
      ]
    },
    {
      "cell_type": "markdown",
      "metadata": {
        "id": "Tr7YG-QY1pp8",
        "colab_type": "text"
      },
      "source": [
        "### Part (a) Continuous Features [3 pt]\n",
        "\n",
        "For each of the columns `[\"age\", \"yredu\", \"capgain\", \"caploss\", \"workhr\"]`, report the minimum, maximum, and average value across the dataset. \n",
        "\n",
        "Then, normalize each of the features `[\"age\", \"yredu\", \"capgain\", \"caploss\", \"workhr\"]`\n",
        "so that their values are always between 0 and 1.\n",
        "Make sure that you are actually modifying the dataframe `df`. \n",
        "\n",
        "Like numpy arrays and torch tensors, \n",
        "pandas data frames can be sliced. For example, we can\n",
        "display the first 3 rows of the data frame (3 records) below."
      ]
    },
    {
      "cell_type": "code",
      "metadata": {
        "scrolled": false,
        "id": "9evSLsSa1pp9",
        "colab_type": "code",
        "outputId": "e3e64be5-9f71-4681-96d2-32256e8f636a",
        "colab": {
          "base_uri": "https://localhost:8080/",
          "height": 979
        }
      },
      "source": [
        "df[:30] # show the first 3 records"
      ],
      "execution_count": 0,
      "outputs": [
        {
          "output_type": "execute_result",
          "data": {
            "text/html": [
              "<div>\n",
              "<style scoped>\n",
              "    .dataframe tbody tr th:only-of-type {\n",
              "        vertical-align: middle;\n",
              "    }\n",
              "\n",
              "    .dataframe tbody tr th {\n",
              "        vertical-align: top;\n",
              "    }\n",
              "\n",
              "    .dataframe thead th {\n",
              "        text-align: right;\n",
              "    }\n",
              "</style>\n",
              "<table border=\"1\" class=\"dataframe\">\n",
              "  <thead>\n",
              "    <tr style=\"text-align: right;\">\n",
              "      <th></th>\n",
              "      <th>age</th>\n",
              "      <th>work</th>\n",
              "      <th>fnlwgt</th>\n",
              "      <th>edu</th>\n",
              "      <th>yredu</th>\n",
              "      <th>marriage</th>\n",
              "      <th>occupation</th>\n",
              "      <th>relationship</th>\n",
              "      <th>race</th>\n",
              "      <th>sex</th>\n",
              "      <th>capgain</th>\n",
              "      <th>caploss</th>\n",
              "      <th>workhr</th>\n",
              "      <th>country</th>\n",
              "    </tr>\n",
              "  </thead>\n",
              "  <tbody>\n",
              "    <tr>\n",
              "      <th>0</th>\n",
              "      <td>39</td>\n",
              "      <td>State-gov</td>\n",
              "      <td>77516</td>\n",
              "      <td>Bachelors</td>\n",
              "      <td>13</td>\n",
              "      <td>Never-married</td>\n",
              "      <td>Adm-clerical</td>\n",
              "      <td>Not-in-family</td>\n",
              "      <td>White</td>\n",
              "      <td>Male</td>\n",
              "      <td>2174</td>\n",
              "      <td>0</td>\n",
              "      <td>40</td>\n",
              "      <td>United-States</td>\n",
              "    </tr>\n",
              "    <tr>\n",
              "      <th>1</th>\n",
              "      <td>50</td>\n",
              "      <td>Self-emp-not-inc</td>\n",
              "      <td>83311</td>\n",
              "      <td>Bachelors</td>\n",
              "      <td>13</td>\n",
              "      <td>Married-civ-spouse</td>\n",
              "      <td>Exec-managerial</td>\n",
              "      <td>Husband</td>\n",
              "      <td>White</td>\n",
              "      <td>Male</td>\n",
              "      <td>0</td>\n",
              "      <td>0</td>\n",
              "      <td>13</td>\n",
              "      <td>United-States</td>\n",
              "    </tr>\n",
              "    <tr>\n",
              "      <th>2</th>\n",
              "      <td>38</td>\n",
              "      <td>Private</td>\n",
              "      <td>215646</td>\n",
              "      <td>HS-grad</td>\n",
              "      <td>9</td>\n",
              "      <td>Divorced</td>\n",
              "      <td>Handlers-cleaners</td>\n",
              "      <td>Not-in-family</td>\n",
              "      <td>White</td>\n",
              "      <td>Male</td>\n",
              "      <td>0</td>\n",
              "      <td>0</td>\n",
              "      <td>40</td>\n",
              "      <td>United-States</td>\n",
              "    </tr>\n",
              "    <tr>\n",
              "      <th>3</th>\n",
              "      <td>53</td>\n",
              "      <td>Private</td>\n",
              "      <td>234721</td>\n",
              "      <td>11th</td>\n",
              "      <td>7</td>\n",
              "      <td>Married-civ-spouse</td>\n",
              "      <td>Handlers-cleaners</td>\n",
              "      <td>Husband</td>\n",
              "      <td>Black</td>\n",
              "      <td>Male</td>\n",
              "      <td>0</td>\n",
              "      <td>0</td>\n",
              "      <td>40</td>\n",
              "      <td>United-States</td>\n",
              "    </tr>\n",
              "    <tr>\n",
              "      <th>4</th>\n",
              "      <td>28</td>\n",
              "      <td>Private</td>\n",
              "      <td>338409</td>\n",
              "      <td>Bachelors</td>\n",
              "      <td>13</td>\n",
              "      <td>Married-civ-spouse</td>\n",
              "      <td>Prof-specialty</td>\n",
              "      <td>Wife</td>\n",
              "      <td>Black</td>\n",
              "      <td>Female</td>\n",
              "      <td>0</td>\n",
              "      <td>0</td>\n",
              "      <td>40</td>\n",
              "      <td>Cuba</td>\n",
              "    </tr>\n",
              "    <tr>\n",
              "      <th>5</th>\n",
              "      <td>37</td>\n",
              "      <td>Private</td>\n",
              "      <td>284582</td>\n",
              "      <td>Masters</td>\n",
              "      <td>14</td>\n",
              "      <td>Married-civ-spouse</td>\n",
              "      <td>Exec-managerial</td>\n",
              "      <td>Wife</td>\n",
              "      <td>White</td>\n",
              "      <td>Female</td>\n",
              "      <td>0</td>\n",
              "      <td>0</td>\n",
              "      <td>40</td>\n",
              "      <td>United-States</td>\n",
              "    </tr>\n",
              "    <tr>\n",
              "      <th>6</th>\n",
              "      <td>49</td>\n",
              "      <td>Private</td>\n",
              "      <td>160187</td>\n",
              "      <td>9th</td>\n",
              "      <td>5</td>\n",
              "      <td>Married-spouse-absent</td>\n",
              "      <td>Other-service</td>\n",
              "      <td>Not-in-family</td>\n",
              "      <td>Black</td>\n",
              "      <td>Female</td>\n",
              "      <td>0</td>\n",
              "      <td>0</td>\n",
              "      <td>16</td>\n",
              "      <td>Jamaica</td>\n",
              "    </tr>\n",
              "    <tr>\n",
              "      <th>7</th>\n",
              "      <td>52</td>\n",
              "      <td>Self-emp-not-inc</td>\n",
              "      <td>209642</td>\n",
              "      <td>HS-grad</td>\n",
              "      <td>9</td>\n",
              "      <td>Married-civ-spouse</td>\n",
              "      <td>Exec-managerial</td>\n",
              "      <td>Husband</td>\n",
              "      <td>White</td>\n",
              "      <td>Male</td>\n",
              "      <td>0</td>\n",
              "      <td>0</td>\n",
              "      <td>45</td>\n",
              "      <td>United-States</td>\n",
              "    </tr>\n",
              "    <tr>\n",
              "      <th>8</th>\n",
              "      <td>31</td>\n",
              "      <td>Private</td>\n",
              "      <td>45781</td>\n",
              "      <td>Masters</td>\n",
              "      <td>14</td>\n",
              "      <td>Never-married</td>\n",
              "      <td>Prof-specialty</td>\n",
              "      <td>Not-in-family</td>\n",
              "      <td>White</td>\n",
              "      <td>Female</td>\n",
              "      <td>14084</td>\n",
              "      <td>0</td>\n",
              "      <td>50</td>\n",
              "      <td>United-States</td>\n",
              "    </tr>\n",
              "    <tr>\n",
              "      <th>9</th>\n",
              "      <td>42</td>\n",
              "      <td>Private</td>\n",
              "      <td>159449</td>\n",
              "      <td>Bachelors</td>\n",
              "      <td>13</td>\n",
              "      <td>Married-civ-spouse</td>\n",
              "      <td>Exec-managerial</td>\n",
              "      <td>Husband</td>\n",
              "      <td>White</td>\n",
              "      <td>Male</td>\n",
              "      <td>5178</td>\n",
              "      <td>0</td>\n",
              "      <td>40</td>\n",
              "      <td>United-States</td>\n",
              "    </tr>\n",
              "    <tr>\n",
              "      <th>10</th>\n",
              "      <td>37</td>\n",
              "      <td>Private</td>\n",
              "      <td>280464</td>\n",
              "      <td>Some-college</td>\n",
              "      <td>10</td>\n",
              "      <td>Married-civ-spouse</td>\n",
              "      <td>Exec-managerial</td>\n",
              "      <td>Husband</td>\n",
              "      <td>Black</td>\n",
              "      <td>Male</td>\n",
              "      <td>0</td>\n",
              "      <td>0</td>\n",
              "      <td>80</td>\n",
              "      <td>United-States</td>\n",
              "    </tr>\n",
              "    <tr>\n",
              "      <th>11</th>\n",
              "      <td>30</td>\n",
              "      <td>State-gov</td>\n",
              "      <td>141297</td>\n",
              "      <td>Bachelors</td>\n",
              "      <td>13</td>\n",
              "      <td>Married-civ-spouse</td>\n",
              "      <td>Prof-specialty</td>\n",
              "      <td>Husband</td>\n",
              "      <td>Asian-Pac-Islander</td>\n",
              "      <td>Male</td>\n",
              "      <td>0</td>\n",
              "      <td>0</td>\n",
              "      <td>40</td>\n",
              "      <td>India</td>\n",
              "    </tr>\n",
              "    <tr>\n",
              "      <th>12</th>\n",
              "      <td>23</td>\n",
              "      <td>Private</td>\n",
              "      <td>122272</td>\n",
              "      <td>Bachelors</td>\n",
              "      <td>13</td>\n",
              "      <td>Never-married</td>\n",
              "      <td>Adm-clerical</td>\n",
              "      <td>Own-child</td>\n",
              "      <td>White</td>\n",
              "      <td>Female</td>\n",
              "      <td>0</td>\n",
              "      <td>0</td>\n",
              "      <td>30</td>\n",
              "      <td>United-States</td>\n",
              "    </tr>\n",
              "    <tr>\n",
              "      <th>13</th>\n",
              "      <td>32</td>\n",
              "      <td>Private</td>\n",
              "      <td>205019</td>\n",
              "      <td>Assoc-acdm</td>\n",
              "      <td>12</td>\n",
              "      <td>Never-married</td>\n",
              "      <td>Sales</td>\n",
              "      <td>Not-in-family</td>\n",
              "      <td>Black</td>\n",
              "      <td>Male</td>\n",
              "      <td>0</td>\n",
              "      <td>0</td>\n",
              "      <td>50</td>\n",
              "      <td>United-States</td>\n",
              "    </tr>\n",
              "    <tr>\n",
              "      <th>14</th>\n",
              "      <td>40</td>\n",
              "      <td>Private</td>\n",
              "      <td>121772</td>\n",
              "      <td>Assoc-voc</td>\n",
              "      <td>11</td>\n",
              "      <td>Married-civ-spouse</td>\n",
              "      <td>Craft-repair</td>\n",
              "      <td>Husband</td>\n",
              "      <td>Asian-Pac-Islander</td>\n",
              "      <td>Male</td>\n",
              "      <td>0</td>\n",
              "      <td>0</td>\n",
              "      <td>40</td>\n",
              "      <td>?</td>\n",
              "    </tr>\n",
              "    <tr>\n",
              "      <th>15</th>\n",
              "      <td>34</td>\n",
              "      <td>Private</td>\n",
              "      <td>245487</td>\n",
              "      <td>7th-8th</td>\n",
              "      <td>4</td>\n",
              "      <td>Married-civ-spouse</td>\n",
              "      <td>Transport-moving</td>\n",
              "      <td>Husband</td>\n",
              "      <td>Amer-Indian-Eskimo</td>\n",
              "      <td>Male</td>\n",
              "      <td>0</td>\n",
              "      <td>0</td>\n",
              "      <td>45</td>\n",
              "      <td>Mexico</td>\n",
              "    </tr>\n",
              "    <tr>\n",
              "      <th>16</th>\n",
              "      <td>25</td>\n",
              "      <td>Self-emp-not-inc</td>\n",
              "      <td>176756</td>\n",
              "      <td>HS-grad</td>\n",
              "      <td>9</td>\n",
              "      <td>Never-married</td>\n",
              "      <td>Farming-fishing</td>\n",
              "      <td>Own-child</td>\n",
              "      <td>White</td>\n",
              "      <td>Male</td>\n",
              "      <td>0</td>\n",
              "      <td>0</td>\n",
              "      <td>35</td>\n",
              "      <td>United-States</td>\n",
              "    </tr>\n",
              "    <tr>\n",
              "      <th>17</th>\n",
              "      <td>32</td>\n",
              "      <td>Private</td>\n",
              "      <td>186824</td>\n",
              "      <td>HS-grad</td>\n",
              "      <td>9</td>\n",
              "      <td>Never-married</td>\n",
              "      <td>Machine-op-inspct</td>\n",
              "      <td>Unmarried</td>\n",
              "      <td>White</td>\n",
              "      <td>Male</td>\n",
              "      <td>0</td>\n",
              "      <td>0</td>\n",
              "      <td>40</td>\n",
              "      <td>United-States</td>\n",
              "    </tr>\n",
              "    <tr>\n",
              "      <th>18</th>\n",
              "      <td>38</td>\n",
              "      <td>Private</td>\n",
              "      <td>28887</td>\n",
              "      <td>11th</td>\n",
              "      <td>7</td>\n",
              "      <td>Married-civ-spouse</td>\n",
              "      <td>Sales</td>\n",
              "      <td>Husband</td>\n",
              "      <td>White</td>\n",
              "      <td>Male</td>\n",
              "      <td>0</td>\n",
              "      <td>0</td>\n",
              "      <td>50</td>\n",
              "      <td>United-States</td>\n",
              "    </tr>\n",
              "    <tr>\n",
              "      <th>19</th>\n",
              "      <td>43</td>\n",
              "      <td>Self-emp-not-inc</td>\n",
              "      <td>292175</td>\n",
              "      <td>Masters</td>\n",
              "      <td>14</td>\n",
              "      <td>Divorced</td>\n",
              "      <td>Exec-managerial</td>\n",
              "      <td>Unmarried</td>\n",
              "      <td>White</td>\n",
              "      <td>Female</td>\n",
              "      <td>0</td>\n",
              "      <td>0</td>\n",
              "      <td>45</td>\n",
              "      <td>United-States</td>\n",
              "    </tr>\n",
              "    <tr>\n",
              "      <th>20</th>\n",
              "      <td>40</td>\n",
              "      <td>Private</td>\n",
              "      <td>193524</td>\n",
              "      <td>Doctorate</td>\n",
              "      <td>16</td>\n",
              "      <td>Married-civ-spouse</td>\n",
              "      <td>Prof-specialty</td>\n",
              "      <td>Husband</td>\n",
              "      <td>White</td>\n",
              "      <td>Male</td>\n",
              "      <td>0</td>\n",
              "      <td>0</td>\n",
              "      <td>60</td>\n",
              "      <td>United-States</td>\n",
              "    </tr>\n",
              "    <tr>\n",
              "      <th>21</th>\n",
              "      <td>54</td>\n",
              "      <td>Private</td>\n",
              "      <td>302146</td>\n",
              "      <td>HS-grad</td>\n",
              "      <td>9</td>\n",
              "      <td>Separated</td>\n",
              "      <td>Other-service</td>\n",
              "      <td>Unmarried</td>\n",
              "      <td>Black</td>\n",
              "      <td>Female</td>\n",
              "      <td>0</td>\n",
              "      <td>0</td>\n",
              "      <td>20</td>\n",
              "      <td>United-States</td>\n",
              "    </tr>\n",
              "    <tr>\n",
              "      <th>22</th>\n",
              "      <td>35</td>\n",
              "      <td>Federal-gov</td>\n",
              "      <td>76845</td>\n",
              "      <td>9th</td>\n",
              "      <td>5</td>\n",
              "      <td>Married-civ-spouse</td>\n",
              "      <td>Farming-fishing</td>\n",
              "      <td>Husband</td>\n",
              "      <td>Black</td>\n",
              "      <td>Male</td>\n",
              "      <td>0</td>\n",
              "      <td>0</td>\n",
              "      <td>40</td>\n",
              "      <td>United-States</td>\n",
              "    </tr>\n",
              "    <tr>\n",
              "      <th>23</th>\n",
              "      <td>43</td>\n",
              "      <td>Private</td>\n",
              "      <td>117037</td>\n",
              "      <td>11th</td>\n",
              "      <td>7</td>\n",
              "      <td>Married-civ-spouse</td>\n",
              "      <td>Transport-moving</td>\n",
              "      <td>Husband</td>\n",
              "      <td>White</td>\n",
              "      <td>Male</td>\n",
              "      <td>0</td>\n",
              "      <td>2042</td>\n",
              "      <td>40</td>\n",
              "      <td>United-States</td>\n",
              "    </tr>\n",
              "    <tr>\n",
              "      <th>24</th>\n",
              "      <td>59</td>\n",
              "      <td>Private</td>\n",
              "      <td>109015</td>\n",
              "      <td>HS-grad</td>\n",
              "      <td>9</td>\n",
              "      <td>Divorced</td>\n",
              "      <td>Tech-support</td>\n",
              "      <td>Unmarried</td>\n",
              "      <td>White</td>\n",
              "      <td>Female</td>\n",
              "      <td>0</td>\n",
              "      <td>0</td>\n",
              "      <td>40</td>\n",
              "      <td>United-States</td>\n",
              "    </tr>\n",
              "    <tr>\n",
              "      <th>25</th>\n",
              "      <td>56</td>\n",
              "      <td>Local-gov</td>\n",
              "      <td>216851</td>\n",
              "      <td>Bachelors</td>\n",
              "      <td>13</td>\n",
              "      <td>Married-civ-spouse</td>\n",
              "      <td>Tech-support</td>\n",
              "      <td>Husband</td>\n",
              "      <td>White</td>\n",
              "      <td>Male</td>\n",
              "      <td>0</td>\n",
              "      <td>0</td>\n",
              "      <td>40</td>\n",
              "      <td>United-States</td>\n",
              "    </tr>\n",
              "    <tr>\n",
              "      <th>26</th>\n",
              "      <td>19</td>\n",
              "      <td>Private</td>\n",
              "      <td>168294</td>\n",
              "      <td>HS-grad</td>\n",
              "      <td>9</td>\n",
              "      <td>Never-married</td>\n",
              "      <td>Craft-repair</td>\n",
              "      <td>Own-child</td>\n",
              "      <td>White</td>\n",
              "      <td>Male</td>\n",
              "      <td>0</td>\n",
              "      <td>0</td>\n",
              "      <td>40</td>\n",
              "      <td>United-States</td>\n",
              "    </tr>\n",
              "    <tr>\n",
              "      <th>27</th>\n",
              "      <td>54</td>\n",
              "      <td>?</td>\n",
              "      <td>180211</td>\n",
              "      <td>Some-college</td>\n",
              "      <td>10</td>\n",
              "      <td>Married-civ-spouse</td>\n",
              "      <td>?</td>\n",
              "      <td>Husband</td>\n",
              "      <td>Asian-Pac-Islander</td>\n",
              "      <td>Male</td>\n",
              "      <td>0</td>\n",
              "      <td>0</td>\n",
              "      <td>60</td>\n",
              "      <td>South</td>\n",
              "    </tr>\n",
              "    <tr>\n",
              "      <th>28</th>\n",
              "      <td>39</td>\n",
              "      <td>Private</td>\n",
              "      <td>367260</td>\n",
              "      <td>HS-grad</td>\n",
              "      <td>9</td>\n",
              "      <td>Divorced</td>\n",
              "      <td>Exec-managerial</td>\n",
              "      <td>Not-in-family</td>\n",
              "      <td>White</td>\n",
              "      <td>Male</td>\n",
              "      <td>0</td>\n",
              "      <td>0</td>\n",
              "      <td>80</td>\n",
              "      <td>United-States</td>\n",
              "    </tr>\n",
              "    <tr>\n",
              "      <th>29</th>\n",
              "      <td>49</td>\n",
              "      <td>Private</td>\n",
              "      <td>193366</td>\n",
              "      <td>HS-grad</td>\n",
              "      <td>9</td>\n",
              "      <td>Married-civ-spouse</td>\n",
              "      <td>Craft-repair</td>\n",
              "      <td>Husband</td>\n",
              "      <td>White</td>\n",
              "      <td>Male</td>\n",
              "      <td>0</td>\n",
              "      <td>0</td>\n",
              "      <td>40</td>\n",
              "      <td>United-States</td>\n",
              "    </tr>\n",
              "  </tbody>\n",
              "</table>\n",
              "</div>"
            ],
            "text/plain": [
              "    age               work  fnlwgt  ... caploss  workhr         country\n",
              "0    39          State-gov   77516  ...       0      40   United-States\n",
              "1    50   Self-emp-not-inc   83311  ...       0      13   United-States\n",
              "2    38            Private  215646  ...       0      40   United-States\n",
              "3    53            Private  234721  ...       0      40   United-States\n",
              "4    28            Private  338409  ...       0      40            Cuba\n",
              "5    37            Private  284582  ...       0      40   United-States\n",
              "6    49            Private  160187  ...       0      16         Jamaica\n",
              "7    52   Self-emp-not-inc  209642  ...       0      45   United-States\n",
              "8    31            Private   45781  ...       0      50   United-States\n",
              "9    42            Private  159449  ...       0      40   United-States\n",
              "10   37            Private  280464  ...       0      80   United-States\n",
              "11   30          State-gov  141297  ...       0      40           India\n",
              "12   23            Private  122272  ...       0      30   United-States\n",
              "13   32            Private  205019  ...       0      50   United-States\n",
              "14   40            Private  121772  ...       0      40               ?\n",
              "15   34            Private  245487  ...       0      45          Mexico\n",
              "16   25   Self-emp-not-inc  176756  ...       0      35   United-States\n",
              "17   32            Private  186824  ...       0      40   United-States\n",
              "18   38            Private   28887  ...       0      50   United-States\n",
              "19   43   Self-emp-not-inc  292175  ...       0      45   United-States\n",
              "20   40            Private  193524  ...       0      60   United-States\n",
              "21   54            Private  302146  ...       0      20   United-States\n",
              "22   35        Federal-gov   76845  ...       0      40   United-States\n",
              "23   43            Private  117037  ...    2042      40   United-States\n",
              "24   59            Private  109015  ...       0      40   United-States\n",
              "25   56          Local-gov  216851  ...       0      40   United-States\n",
              "26   19            Private  168294  ...       0      40   United-States\n",
              "27   54                  ?  180211  ...       0      60           South\n",
              "28   39            Private  367260  ...       0      80   United-States\n",
              "29   49            Private  193366  ...       0      40   United-States\n",
              "\n",
              "[30 rows x 14 columns]"
            ]
          },
          "metadata": {
            "tags": []
          },
          "execution_count": 11
        }
      ]
    },
    {
      "cell_type": "code",
      "metadata": {
        "id": "4v6pp73A1pqB",
        "colab_type": "code",
        "outputId": "762b7e1e-ede2-4db5-960b-e1729ad0daa7",
        "colab": {
          "base_uri": "https://localhost:8080/",
          "height": 142
        }
      },
      "source": [
        "subdf = df[[\"age\", \"yredu\", \"capgain\", \"caploss\", \"workhr\"]]\n",
        "subdf[:3] # show the first 3 records"
      ],
      "execution_count": 0,
      "outputs": [
        {
          "output_type": "execute_result",
          "data": {
            "text/html": [
              "<div>\n",
              "<style scoped>\n",
              "    .dataframe tbody tr th:only-of-type {\n",
              "        vertical-align: middle;\n",
              "    }\n",
              "\n",
              "    .dataframe tbody tr th {\n",
              "        vertical-align: top;\n",
              "    }\n",
              "\n",
              "    .dataframe thead th {\n",
              "        text-align: right;\n",
              "    }\n",
              "</style>\n",
              "<table border=\"1\" class=\"dataframe\">\n",
              "  <thead>\n",
              "    <tr style=\"text-align: right;\">\n",
              "      <th></th>\n",
              "      <th>age</th>\n",
              "      <th>yredu</th>\n",
              "      <th>capgain</th>\n",
              "      <th>caploss</th>\n",
              "      <th>workhr</th>\n",
              "    </tr>\n",
              "  </thead>\n",
              "  <tbody>\n",
              "    <tr>\n",
              "      <th>0</th>\n",
              "      <td>39</td>\n",
              "      <td>13</td>\n",
              "      <td>2174</td>\n",
              "      <td>0</td>\n",
              "      <td>40</td>\n",
              "    </tr>\n",
              "    <tr>\n",
              "      <th>1</th>\n",
              "      <td>50</td>\n",
              "      <td>13</td>\n",
              "      <td>0</td>\n",
              "      <td>0</td>\n",
              "      <td>13</td>\n",
              "    </tr>\n",
              "    <tr>\n",
              "      <th>2</th>\n",
              "      <td>38</td>\n",
              "      <td>9</td>\n",
              "      <td>0</td>\n",
              "      <td>0</td>\n",
              "      <td>40</td>\n",
              "    </tr>\n",
              "  </tbody>\n",
              "</table>\n",
              "</div>"
            ],
            "text/plain": [
              "   age  yredu  capgain  caploss  workhr\n",
              "0   39     13     2174        0      40\n",
              "1   50     13        0        0      13\n",
              "2   38      9        0        0      40"
            ]
          },
          "metadata": {
            "tags": []
          },
          "execution_count": 12
        }
      ]
    },
    {
      "cell_type": "code",
      "metadata": {
        "id": "JXrS6tjp1pqE",
        "colab_type": "code",
        "outputId": "77000ceb-63f5-4481-dcd8-f7ba4455cb3d",
        "colab": {
          "base_uri": "https://localhost:8080/",
          "height": 34
        }
      },
      "source": [
        "np.sum(subdf[\"caploss\"])"
      ],
      "execution_count": 0,
      "outputs": [
        {
          "output_type": "execute_result",
          "data": {
            "text/plain": [
              "2842700"
            ]
          },
          "metadata": {
            "tags": []
          },
          "execution_count": 13
        }
      ]
    },
    {
      "cell_type": "code",
      "metadata": {
        "id": "k5rlWD7-1pqH",
        "colab_type": "code",
        "outputId": "aeb92fed-3b31-44e5-82ce-f0d35e3fc5a1",
        "colab": {
          "base_uri": "https://localhost:8080/",
          "height": 297
        }
      },
      "source": [
        "#Get the summary statistics for the age, yredu, capgain, caploss and workhr\n",
        "subdf.describe()"
      ],
      "execution_count": 0,
      "outputs": [
        {
          "output_type": "execute_result",
          "data": {
            "text/html": [
              "<div>\n",
              "<style scoped>\n",
              "    .dataframe tbody tr th:only-of-type {\n",
              "        vertical-align: middle;\n",
              "    }\n",
              "\n",
              "    .dataframe tbody tr th {\n",
              "        vertical-align: top;\n",
              "    }\n",
              "\n",
              "    .dataframe thead th {\n",
              "        text-align: right;\n",
              "    }\n",
              "</style>\n",
              "<table border=\"1\" class=\"dataframe\">\n",
              "  <thead>\n",
              "    <tr style=\"text-align: right;\">\n",
              "      <th></th>\n",
              "      <th>age</th>\n",
              "      <th>yredu</th>\n",
              "      <th>capgain</th>\n",
              "      <th>caploss</th>\n",
              "      <th>workhr</th>\n",
              "    </tr>\n",
              "  </thead>\n",
              "  <tbody>\n",
              "    <tr>\n",
              "      <th>count</th>\n",
              "      <td>32561.000000</td>\n",
              "      <td>32561.000000</td>\n",
              "      <td>32561.000000</td>\n",
              "      <td>32561.000000</td>\n",
              "      <td>32561.000000</td>\n",
              "    </tr>\n",
              "    <tr>\n",
              "      <th>mean</th>\n",
              "      <td>38.581647</td>\n",
              "      <td>10.080679</td>\n",
              "      <td>1077.648844</td>\n",
              "      <td>87.303830</td>\n",
              "      <td>40.437456</td>\n",
              "    </tr>\n",
              "    <tr>\n",
              "      <th>std</th>\n",
              "      <td>13.640433</td>\n",
              "      <td>2.572720</td>\n",
              "      <td>7385.292085</td>\n",
              "      <td>402.960219</td>\n",
              "      <td>12.347429</td>\n",
              "    </tr>\n",
              "    <tr>\n",
              "      <th>min</th>\n",
              "      <td>17.000000</td>\n",
              "      <td>1.000000</td>\n",
              "      <td>0.000000</td>\n",
              "      <td>0.000000</td>\n",
              "      <td>1.000000</td>\n",
              "    </tr>\n",
              "    <tr>\n",
              "      <th>25%</th>\n",
              "      <td>28.000000</td>\n",
              "      <td>9.000000</td>\n",
              "      <td>0.000000</td>\n",
              "      <td>0.000000</td>\n",
              "      <td>40.000000</td>\n",
              "    </tr>\n",
              "    <tr>\n",
              "      <th>50%</th>\n",
              "      <td>37.000000</td>\n",
              "      <td>10.000000</td>\n",
              "      <td>0.000000</td>\n",
              "      <td>0.000000</td>\n",
              "      <td>40.000000</td>\n",
              "    </tr>\n",
              "    <tr>\n",
              "      <th>75%</th>\n",
              "      <td>48.000000</td>\n",
              "      <td>12.000000</td>\n",
              "      <td>0.000000</td>\n",
              "      <td>0.000000</td>\n",
              "      <td>45.000000</td>\n",
              "    </tr>\n",
              "    <tr>\n",
              "      <th>max</th>\n",
              "      <td>90.000000</td>\n",
              "      <td>16.000000</td>\n",
              "      <td>99999.000000</td>\n",
              "      <td>4356.000000</td>\n",
              "      <td>99.000000</td>\n",
              "    </tr>\n",
              "  </tbody>\n",
              "</table>\n",
              "</div>"
            ],
            "text/plain": [
              "                age         yredu       capgain       caploss        workhr\n",
              "count  32561.000000  32561.000000  32561.000000  32561.000000  32561.000000\n",
              "mean      38.581647     10.080679   1077.648844     87.303830     40.437456\n",
              "std       13.640433      2.572720   7385.292085    402.960219     12.347429\n",
              "min       17.000000      1.000000      0.000000      0.000000      1.000000\n",
              "25%       28.000000      9.000000      0.000000      0.000000     40.000000\n",
              "50%       37.000000     10.000000      0.000000      0.000000     40.000000\n",
              "75%       48.000000     12.000000      0.000000      0.000000     45.000000\n",
              "max       90.000000     16.000000  99999.000000   4356.000000     99.000000"
            ]
          },
          "metadata": {
            "tags": []
          },
          "execution_count": 14
        }
      ]
    },
    {
      "cell_type": "code",
      "metadata": {
        "id": "JTw6Xa6K8uYq",
        "colab_type": "code",
        "outputId": "5b7da99d-5c9a-472c-82cf-aeb188a4c6c6",
        "colab": {
          "base_uri": "https://localhost:8080/",
          "height": 297
        }
      },
      "source": [
        "# Normalization formula is essentially: norm(x) = (x-x_min)/(x_max-x_min)\n",
        "col_names = [\"age\", \"yredu\", \"capgain\", \"caploss\", \"workhr\"] #declaring the column names that have values to normalize\n",
        "\n",
        "#print(df)\n",
        "for i in range(len(col_names)): #declare for loop to do this for each of the column names of interest\n",
        "  col_name = col_names[i] #declare the name of the column\n",
        "  x = df[col_name] #set dummy variable x\n",
        "  normalized_x=(x-x.min())/(x.max()-x.min()) #create the normalized x\n",
        "  df[col_name] = normalized_x #replace the columns df values with the normalized values\n",
        "\n",
        "#Now output the summary statistics of the numerical values to show how they differ\n",
        "df.describe()\n"
      ],
      "execution_count": 0,
      "outputs": [
        {
          "output_type": "execute_result",
          "data": {
            "text/html": [
              "<div>\n",
              "<style scoped>\n",
              "    .dataframe tbody tr th:only-of-type {\n",
              "        vertical-align: middle;\n",
              "    }\n",
              "\n",
              "    .dataframe tbody tr th {\n",
              "        vertical-align: top;\n",
              "    }\n",
              "\n",
              "    .dataframe thead th {\n",
              "        text-align: right;\n",
              "    }\n",
              "</style>\n",
              "<table border=\"1\" class=\"dataframe\">\n",
              "  <thead>\n",
              "    <tr style=\"text-align: right;\">\n",
              "      <th></th>\n",
              "      <th>age</th>\n",
              "      <th>fnlwgt</th>\n",
              "      <th>yredu</th>\n",
              "      <th>capgain</th>\n",
              "      <th>caploss</th>\n",
              "      <th>workhr</th>\n",
              "    </tr>\n",
              "  </thead>\n",
              "  <tbody>\n",
              "    <tr>\n",
              "      <th>count</th>\n",
              "      <td>32561.000000</td>\n",
              "      <td>3.256100e+04</td>\n",
              "      <td>32561.000000</td>\n",
              "      <td>32561.000000</td>\n",
              "      <td>32561.000000</td>\n",
              "      <td>32561.000000</td>\n",
              "    </tr>\n",
              "    <tr>\n",
              "      <th>mean</th>\n",
              "      <td>0.295639</td>\n",
              "      <td>1.897784e+05</td>\n",
              "      <td>0.605379</td>\n",
              "      <td>0.010777</td>\n",
              "      <td>0.020042</td>\n",
              "      <td>0.402423</td>\n",
              "    </tr>\n",
              "    <tr>\n",
              "      <th>std</th>\n",
              "      <td>0.186855</td>\n",
              "      <td>1.055500e+05</td>\n",
              "      <td>0.171515</td>\n",
              "      <td>0.073854</td>\n",
              "      <td>0.092507</td>\n",
              "      <td>0.125994</td>\n",
              "    </tr>\n",
              "    <tr>\n",
              "      <th>min</th>\n",
              "      <td>0.000000</td>\n",
              "      <td>1.228500e+04</td>\n",
              "      <td>0.000000</td>\n",
              "      <td>0.000000</td>\n",
              "      <td>0.000000</td>\n",
              "      <td>0.000000</td>\n",
              "    </tr>\n",
              "    <tr>\n",
              "      <th>25%</th>\n",
              "      <td>0.150685</td>\n",
              "      <td>1.178270e+05</td>\n",
              "      <td>0.533333</td>\n",
              "      <td>0.000000</td>\n",
              "      <td>0.000000</td>\n",
              "      <td>0.397959</td>\n",
              "    </tr>\n",
              "    <tr>\n",
              "      <th>50%</th>\n",
              "      <td>0.273973</td>\n",
              "      <td>1.783560e+05</td>\n",
              "      <td>0.600000</td>\n",
              "      <td>0.000000</td>\n",
              "      <td>0.000000</td>\n",
              "      <td>0.397959</td>\n",
              "    </tr>\n",
              "    <tr>\n",
              "      <th>75%</th>\n",
              "      <td>0.424658</td>\n",
              "      <td>2.370510e+05</td>\n",
              "      <td>0.733333</td>\n",
              "      <td>0.000000</td>\n",
              "      <td>0.000000</td>\n",
              "      <td>0.448980</td>\n",
              "    </tr>\n",
              "    <tr>\n",
              "      <th>max</th>\n",
              "      <td>1.000000</td>\n",
              "      <td>1.484705e+06</td>\n",
              "      <td>1.000000</td>\n",
              "      <td>1.000000</td>\n",
              "      <td>1.000000</td>\n",
              "      <td>1.000000</td>\n",
              "    </tr>\n",
              "  </tbody>\n",
              "</table>\n",
              "</div>"
            ],
            "text/plain": [
              "                age        fnlwgt  ...       caploss        workhr\n",
              "count  32561.000000  3.256100e+04  ...  32561.000000  32561.000000\n",
              "mean       0.295639  1.897784e+05  ...      0.020042      0.402423\n",
              "std        0.186855  1.055500e+05  ...      0.092507      0.125994\n",
              "min        0.000000  1.228500e+04  ...      0.000000      0.000000\n",
              "25%        0.150685  1.178270e+05  ...      0.000000      0.397959\n",
              "50%        0.273973  1.783560e+05  ...      0.000000      0.397959\n",
              "75%        0.424658  2.370510e+05  ...      0.000000      0.448980\n",
              "max        1.000000  1.484705e+06  ...      1.000000      1.000000\n",
              "\n",
              "[8 rows x 6 columns]"
            ]
          },
          "metadata": {
            "tags": []
          },
          "execution_count": 15
        }
      ]
    },
    {
      "cell_type": "markdown",
      "metadata": {
        "id": "qbfMly4R1pqK",
        "colab_type": "text"
      },
      "source": [
        "### Part (b) Categorical Features [1 pt]\n",
        "\n",
        "What percentage of people in our data set are male? Note that the data labels all have an unfortunate space in the beginning, e.g. \" Male\" instead of \"Male\".\n",
        "\n",
        "What percentage of people in our data set are female?"
      ]
    },
    {
      "cell_type": "code",
      "metadata": {
        "id": "DjAjcsB_1pqK",
        "colab_type": "code",
        "outputId": "093955e3-eb9d-41a7-9699-3d05732489ba",
        "colab": {
          "base_uri": "https://localhost:8080/",
          "height": 51
        }
      },
      "source": [
        "# hint: you can do something like this in pandas\n",
        "num_male = sum(df[\"sex\"] == \" Male\")\n",
        "num_female = sum(df[\"sex\"] == \" Female\")\n",
        "\n",
        "ratio_male = round(100*num_male/len(df), 2)\n",
        "ratio_female = round(100*num_female/len(df), 2)\n",
        "print('The % of males are:',ratio_male, '%')\n",
        "print('The % of females are:',ratio_female, '%')"
      ],
      "execution_count": 0,
      "outputs": [
        {
          "output_type": "stream",
          "text": [
            "The % of males are: 66.92 %\n",
            "The % of females are: 33.08 %\n"
          ],
          "name": "stdout"
        }
      ]
    },
    {
      "cell_type": "markdown",
      "metadata": {
        "id": "eGVw7pqL1pqN",
        "colab_type": "text"
      },
      "source": [
        "### Part (c) [2 pt]\n",
        "\n",
        "Before proceeding, we will modify our data frame in a couple more ways:\n",
        "\n",
        "1. We will restrict ourselves to using a subset of the features (to simplify our autoencoder)\n",
        "2. We will remove any records (rows) already containing missing values, and store them in a second dataframe. We will only use records without missing values to train our autoencoder.\n",
        "\n",
        "Both of these steps are done for you, below.\n",
        "\n",
        "How many records contained missing features? What percentage of records were removed?"
      ]
    },
    {
      "cell_type": "code",
      "metadata": {
        "id": "z6ewPUdv1pqO",
        "colab_type": "code",
        "colab": {}
      },
      "source": [
        "contcols = [\"age\", \"yredu\", \"capgain\", \"caploss\", \"workhr\"] #continuous value columns\n",
        "catcols = [\"work\", \"marriage\", \"occupation\", \"edu\", \"relationship\", \"sex\"] #categorical value columns\n",
        "features = contcols + catcols\n",
        "df = df[features]\n"
      ],
      "execution_count": 0,
      "outputs": []
    },
    {
      "cell_type": "code",
      "metadata": {
        "id": "fjdVll5a1pqQ",
        "colab_type": "code",
        "outputId": "794429ff-6a0a-4fe4-e055-310cd2be2eae",
        "colab": {
          "base_uri": "https://localhost:8080/",
          "height": 67
        }
      },
      "source": [
        "missing = pd.concat([df[c] == \" ?\" for c in catcols], axis=1).any(axis=1)\n",
        "df_with_missing = df[missing]\n",
        "df_not_missing = df[~missing]\n",
        "\n",
        "print(df_with_missing.shape) \n",
        "print(df_not_missing.shape)\n",
        "print('% Missing:',(df_with_missing.shape[0]/len(df)*100),'%')"
      ],
      "execution_count": 0,
      "outputs": [
        {
          "output_type": "stream",
          "text": [
            "(1843, 11)\n",
            "(30718, 11)\n",
            "% Missing: 5.660145572924664 %\n"
          ],
          "name": "stdout"
        }
      ]
    },
    {
      "cell_type": "markdown",
      "metadata": {
        "id": "XuEpndTQ1pqU",
        "colab_type": "text"
      },
      "source": [
        "### Part (d) One-Hot Encoding [1 pt]\n",
        "\n",
        "What are all the possible values of the feature \"work\" in `df_not_missing`? "
      ]
    },
    {
      "cell_type": "code",
      "metadata": {
        "id": "iKFh4owE1pqV",
        "colab_type": "code",
        "outputId": "ea0abc54-68f9-44fa-dab8-ae4401d17e33",
        "colab": {
          "base_uri": "https://localhost:8080/",
          "height": 153
        }
      },
      "source": [
        "df_not_missing['work'].value_counts()"
      ],
      "execution_count": 0,
      "outputs": [
        {
          "output_type": "execute_result",
          "data": {
            "text/plain": [
              " Private             22696\n",
              " Self-emp-not-inc     2541\n",
              " Local-gov            2093\n",
              " State-gov            1298\n",
              " Self-emp-inc         1116\n",
              " Federal-gov           960\n",
              " Without-pay            14\n",
              "Name: work, dtype: int64"
            ]
          },
          "metadata": {
            "tags": []
          },
          "execution_count": 19
        }
      ]
    },
    {
      "cell_type": "markdown",
      "metadata": {
        "id": "COv3HaKr1pqY",
        "colab_type": "text"
      },
      "source": [
        "We will be using a one-hot encoding to represent each of the categorical variables.\n",
        "Our autoencoder will be trained using these one-hot encodings.\n",
        "\n",
        "We will use the pandas function `get_dummies` to produce one-hot encodings\n",
        "for all of the categorical variables in `df_not_missing`. "
      ]
    },
    {
      "cell_type": "code",
      "metadata": {
        "id": "eKlSYmJg1pqZ",
        "colab_type": "code",
        "colab": {}
      },
      "source": [
        "data = pd.get_dummies(df_not_missing)"
      ],
      "execution_count": 0,
      "outputs": []
    },
    {
      "cell_type": "code",
      "metadata": {
        "scrolled": true,
        "id": "3y7nTZ7H1pqb",
        "colab_type": "code",
        "outputId": "6d4c67df-c7e7-4167-c118-6ba88655107c",
        "colab": {
          "base_uri": "https://localhost:8080/",
          "height": 230
        }
      },
      "source": [
        "data[:3]"
      ],
      "execution_count": 0,
      "outputs": [
        {
          "output_type": "execute_result",
          "data": {
            "text/html": [
              "<div>\n",
              "<style scoped>\n",
              "    .dataframe tbody tr th:only-of-type {\n",
              "        vertical-align: middle;\n",
              "    }\n",
              "\n",
              "    .dataframe tbody tr th {\n",
              "        vertical-align: top;\n",
              "    }\n",
              "\n",
              "    .dataframe thead th {\n",
              "        text-align: right;\n",
              "    }\n",
              "</style>\n",
              "<table border=\"1\" class=\"dataframe\">\n",
              "  <thead>\n",
              "    <tr style=\"text-align: right;\">\n",
              "      <th></th>\n",
              "      <th>age</th>\n",
              "      <th>yredu</th>\n",
              "      <th>capgain</th>\n",
              "      <th>caploss</th>\n",
              "      <th>workhr</th>\n",
              "      <th>work_ Federal-gov</th>\n",
              "      <th>work_ Local-gov</th>\n",
              "      <th>work_ Private</th>\n",
              "      <th>work_ Self-emp-inc</th>\n",
              "      <th>work_ Self-emp-not-inc</th>\n",
              "      <th>work_ State-gov</th>\n",
              "      <th>work_ Without-pay</th>\n",
              "      <th>marriage_ Divorced</th>\n",
              "      <th>marriage_ Married-AF-spouse</th>\n",
              "      <th>marriage_ Married-civ-spouse</th>\n",
              "      <th>marriage_ Married-spouse-absent</th>\n",
              "      <th>marriage_ Never-married</th>\n",
              "      <th>marriage_ Separated</th>\n",
              "      <th>marriage_ Widowed</th>\n",
              "      <th>occupation_ Adm-clerical</th>\n",
              "      <th>occupation_ Armed-Forces</th>\n",
              "      <th>occupation_ Craft-repair</th>\n",
              "      <th>occupation_ Exec-managerial</th>\n",
              "      <th>occupation_ Farming-fishing</th>\n",
              "      <th>occupation_ Handlers-cleaners</th>\n",
              "      <th>occupation_ Machine-op-inspct</th>\n",
              "      <th>occupation_ Other-service</th>\n",
              "      <th>occupation_ Priv-house-serv</th>\n",
              "      <th>occupation_ Prof-specialty</th>\n",
              "      <th>occupation_ Protective-serv</th>\n",
              "      <th>occupation_ Sales</th>\n",
              "      <th>occupation_ Tech-support</th>\n",
              "      <th>occupation_ Transport-moving</th>\n",
              "      <th>edu_ 10th</th>\n",
              "      <th>edu_ 11th</th>\n",
              "      <th>edu_ 12th</th>\n",
              "      <th>edu_ 1st-4th</th>\n",
              "      <th>edu_ 5th-6th</th>\n",
              "      <th>edu_ 7th-8th</th>\n",
              "      <th>edu_ 9th</th>\n",
              "      <th>edu_ Assoc-acdm</th>\n",
              "      <th>edu_ Assoc-voc</th>\n",
              "      <th>edu_ Bachelors</th>\n",
              "      <th>edu_ Doctorate</th>\n",
              "      <th>edu_ HS-grad</th>\n",
              "      <th>edu_ Masters</th>\n",
              "      <th>edu_ Preschool</th>\n",
              "      <th>edu_ Prof-school</th>\n",
              "      <th>edu_ Some-college</th>\n",
              "      <th>relationship_ Husband</th>\n",
              "      <th>relationship_ Not-in-family</th>\n",
              "      <th>relationship_ Other-relative</th>\n",
              "      <th>relationship_ Own-child</th>\n",
              "      <th>relationship_ Unmarried</th>\n",
              "      <th>relationship_ Wife</th>\n",
              "      <th>sex_ Female</th>\n",
              "      <th>sex_ Male</th>\n",
              "    </tr>\n",
              "  </thead>\n",
              "  <tbody>\n",
              "    <tr>\n",
              "      <th>0</th>\n",
              "      <td>0.301370</td>\n",
              "      <td>0.800000</td>\n",
              "      <td>0.02174</td>\n",
              "      <td>0.0</td>\n",
              "      <td>0.397959</td>\n",
              "      <td>0</td>\n",
              "      <td>0</td>\n",
              "      <td>0</td>\n",
              "      <td>0</td>\n",
              "      <td>0</td>\n",
              "      <td>1</td>\n",
              "      <td>0</td>\n",
              "      <td>0</td>\n",
              "      <td>0</td>\n",
              "      <td>0</td>\n",
              "      <td>0</td>\n",
              "      <td>1</td>\n",
              "      <td>0</td>\n",
              "      <td>0</td>\n",
              "      <td>1</td>\n",
              "      <td>0</td>\n",
              "      <td>0</td>\n",
              "      <td>0</td>\n",
              "      <td>0</td>\n",
              "      <td>0</td>\n",
              "      <td>0</td>\n",
              "      <td>0</td>\n",
              "      <td>0</td>\n",
              "      <td>0</td>\n",
              "      <td>0</td>\n",
              "      <td>0</td>\n",
              "      <td>0</td>\n",
              "      <td>0</td>\n",
              "      <td>0</td>\n",
              "      <td>0</td>\n",
              "      <td>0</td>\n",
              "      <td>0</td>\n",
              "      <td>0</td>\n",
              "      <td>0</td>\n",
              "      <td>0</td>\n",
              "      <td>0</td>\n",
              "      <td>0</td>\n",
              "      <td>1</td>\n",
              "      <td>0</td>\n",
              "      <td>0</td>\n",
              "      <td>0</td>\n",
              "      <td>0</td>\n",
              "      <td>0</td>\n",
              "      <td>0</td>\n",
              "      <td>0</td>\n",
              "      <td>1</td>\n",
              "      <td>0</td>\n",
              "      <td>0</td>\n",
              "      <td>0</td>\n",
              "      <td>0</td>\n",
              "      <td>0</td>\n",
              "      <td>1</td>\n",
              "    </tr>\n",
              "    <tr>\n",
              "      <th>1</th>\n",
              "      <td>0.452055</td>\n",
              "      <td>0.800000</td>\n",
              "      <td>0.00000</td>\n",
              "      <td>0.0</td>\n",
              "      <td>0.122449</td>\n",
              "      <td>0</td>\n",
              "      <td>0</td>\n",
              "      <td>0</td>\n",
              "      <td>0</td>\n",
              "      <td>1</td>\n",
              "      <td>0</td>\n",
              "      <td>0</td>\n",
              "      <td>0</td>\n",
              "      <td>0</td>\n",
              "      <td>1</td>\n",
              "      <td>0</td>\n",
              "      <td>0</td>\n",
              "      <td>0</td>\n",
              "      <td>0</td>\n",
              "      <td>0</td>\n",
              "      <td>0</td>\n",
              "      <td>0</td>\n",
              "      <td>1</td>\n",
              "      <td>0</td>\n",
              "      <td>0</td>\n",
              "      <td>0</td>\n",
              "      <td>0</td>\n",
              "      <td>0</td>\n",
              "      <td>0</td>\n",
              "      <td>0</td>\n",
              "      <td>0</td>\n",
              "      <td>0</td>\n",
              "      <td>0</td>\n",
              "      <td>0</td>\n",
              "      <td>0</td>\n",
              "      <td>0</td>\n",
              "      <td>0</td>\n",
              "      <td>0</td>\n",
              "      <td>0</td>\n",
              "      <td>0</td>\n",
              "      <td>0</td>\n",
              "      <td>0</td>\n",
              "      <td>1</td>\n",
              "      <td>0</td>\n",
              "      <td>0</td>\n",
              "      <td>0</td>\n",
              "      <td>0</td>\n",
              "      <td>0</td>\n",
              "      <td>0</td>\n",
              "      <td>1</td>\n",
              "      <td>0</td>\n",
              "      <td>0</td>\n",
              "      <td>0</td>\n",
              "      <td>0</td>\n",
              "      <td>0</td>\n",
              "      <td>0</td>\n",
              "      <td>1</td>\n",
              "    </tr>\n",
              "    <tr>\n",
              "      <th>2</th>\n",
              "      <td>0.287671</td>\n",
              "      <td>0.533333</td>\n",
              "      <td>0.00000</td>\n",
              "      <td>0.0</td>\n",
              "      <td>0.397959</td>\n",
              "      <td>0</td>\n",
              "      <td>0</td>\n",
              "      <td>1</td>\n",
              "      <td>0</td>\n",
              "      <td>0</td>\n",
              "      <td>0</td>\n",
              "      <td>0</td>\n",
              "      <td>1</td>\n",
              "      <td>0</td>\n",
              "      <td>0</td>\n",
              "      <td>0</td>\n",
              "      <td>0</td>\n",
              "      <td>0</td>\n",
              "      <td>0</td>\n",
              "      <td>0</td>\n",
              "      <td>0</td>\n",
              "      <td>0</td>\n",
              "      <td>0</td>\n",
              "      <td>0</td>\n",
              "      <td>1</td>\n",
              "      <td>0</td>\n",
              "      <td>0</td>\n",
              "      <td>0</td>\n",
              "      <td>0</td>\n",
              "      <td>0</td>\n",
              "      <td>0</td>\n",
              "      <td>0</td>\n",
              "      <td>0</td>\n",
              "      <td>0</td>\n",
              "      <td>0</td>\n",
              "      <td>0</td>\n",
              "      <td>0</td>\n",
              "      <td>0</td>\n",
              "      <td>0</td>\n",
              "      <td>0</td>\n",
              "      <td>0</td>\n",
              "      <td>0</td>\n",
              "      <td>0</td>\n",
              "      <td>0</td>\n",
              "      <td>1</td>\n",
              "      <td>0</td>\n",
              "      <td>0</td>\n",
              "      <td>0</td>\n",
              "      <td>0</td>\n",
              "      <td>0</td>\n",
              "      <td>1</td>\n",
              "      <td>0</td>\n",
              "      <td>0</td>\n",
              "      <td>0</td>\n",
              "      <td>0</td>\n",
              "      <td>0</td>\n",
              "      <td>1</td>\n",
              "    </tr>\n",
              "  </tbody>\n",
              "</table>\n",
              "</div>"
            ],
            "text/plain": [
              "        age     yredu  capgain  ...  relationship_ Wife  sex_ Female  sex_ Male\n",
              "0  0.301370  0.800000  0.02174  ...                   0            0          1\n",
              "1  0.452055  0.800000  0.00000  ...                   0            0          1\n",
              "2  0.287671  0.533333  0.00000  ...                   0            0          1\n",
              "\n",
              "[3 rows x 57 columns]"
            ]
          },
          "metadata": {
            "tags": []
          },
          "execution_count": 21
        }
      ]
    },
    {
      "cell_type": "markdown",
      "metadata": {
        "id": "HwjDg1uM1pqe",
        "colab_type": "text"
      },
      "source": [
        "### Part (e) One-Hot Encoding [2 pt]\n",
        "\n",
        "The dataframe `data` contains the cleaned and normalized data that we will use to train our denoising autoencoder.\n",
        "\n",
        "How many **columns** (features) are in the dataframe `data`?\n",
        "\n",
        "Briefly explain where that number come from."
      ]
    },
    {
      "cell_type": "code",
      "metadata": {
        "id": "yjZ5N0Tl1pqf",
        "colab_type": "code",
        "outputId": "eafe3a15-e08e-48e8-ea0c-c9c0beeb5d28",
        "colab": {
          "base_uri": "https://localhost:8080/",
          "height": 34
        }
      },
      "source": [
        "row,col = data.shape\n",
        "print('The number of columns in the encoded dataframe is: ', col)"
      ],
      "execution_count": 0,
      "outputs": [
        {
          "output_type": "stream",
          "text": [
            "The number of columns in the encoded dataframe is:  57\n"
          ],
          "name": "stdout"
        }
      ]
    },
    {
      "cell_type": "markdown",
      "metadata": {
        "id": "mNSkIKmBFuKp",
        "colab_type": "text"
      },
      "source": [
        "#####Answer\n",
        "The addition of many columns came from taking all of the possible categorical values, and essentially making them into new columns, where any row which had the original categorical text for the corresponding column, would instead turn into a 1, and stay a 0 for the other possible values in that row. This makes our data 100% numerical, thus making it much easier to navigate."
      ]
    },
    {
      "cell_type": "markdown",
      "metadata": {
        "id": "OEJ0Ci3l1pqh",
        "colab_type": "text"
      },
      "source": [
        "### Part (f) One-Hot Conversion [3 pt]\n",
        "\n",
        "We will convert the pandas data frame `data` into numpy, so that\n",
        "it can be further converted into a PyTorch tensor.\n",
        "However, in doing so, we lose the column label information that\n",
        "a panda data frame automatically stores.\n",
        "\n",
        "Complete the function `get_categorical_value` that will return\n",
        "the named value of a feature given a one-hot embedding.\n",
        "You may find the global variables `cat_index` and `cat_values`\n",
        "useful. (Display them and figure out what they are first.)\n",
        "\n",
        "We will need this function in the next part of the lab\n",
        "to interpret our autoencoder outputs. So, the input\n",
        "to our function `get_categorical_values` might not \n",
        "actually be \"one-hot\" -- the input may instead \n",
        "contain real-valued predictions from our neural network."
      ]
    },
    {
      "cell_type": "code",
      "metadata": {
        "id": "ZmovX6gu1pqi",
        "colab_type": "code",
        "colab": {}
      },
      "source": [
        "datanp = data.values.astype(np.float32)"
      ],
      "execution_count": 0,
      "outputs": []
    },
    {
      "cell_type": "code",
      "metadata": {
        "id": "YRIa5MBd1pql",
        "colab_type": "code",
        "colab": {}
      },
      "source": [
        "cat_index = {}  # Mapping of feature -> start index of feature in a record\n",
        "cat_values = {} # Mapping of feature -> list of categorical values the feature can take\n",
        "\n",
        "# build up the cat_index and cat_values dictionary\n",
        "for i, header in enumerate(data.keys()):\n",
        "    if \"_\" in header: # categorical header\n",
        "        feature, value = header.split()\n",
        "        feature = feature[:-1] # remove the last char; it is always an underscore\n",
        "        if feature not in cat_index:\n",
        "            cat_index[feature] = i\n",
        "            cat_values[feature] = [value]\n",
        "        else:\n",
        "            cat_values[feature].append(value)\n",
        "\n",
        "def get_onehot(record, feature):\n",
        "    \"\"\"\n",
        "    Return the portion of `record` that is the one-hot encoding\n",
        "    of `feature`. For example, since the feature \"work\" is stored\n",
        "    in the indices [5:12] in each record, calling `get_range(record, \"work\")`\n",
        "    is equivalent to accessing `record[5:12]`.\n",
        "    \n",
        "    Args:\n",
        "        - record: a numpy array representing one record, formatted\n",
        "                  the same way as a row in `data.np`\n",
        "        - feature: a string, should be an element of `catcols`\n",
        "    \"\"\"\n",
        "    start_index = cat_index[feature]\n",
        "    stop_index = cat_index[feature] + len(cat_values[feature])\n",
        "    return record[start_index:stop_index]\n",
        "\n",
        "def get_categorical_value(onehot, feature):\n",
        "    \"\"\"\n",
        "    Return the categorical value name of a feature given\n",
        "    a one-hot vector representing the feature.\n",
        "    \n",
        "    Args:\n",
        "        - onehot: a numpy array one-hot representation of the feature\n",
        "        - feature: a string, should be an element of `catcols`\n",
        "        \n",
        "    Examples:\n",
        "    \n",
        "    >>> get_categorical_value(np.array([0., 0., 0., 0., 0., 1., 0.]), \"work\")\n",
        "    'State-gov'\n",
        "    >>> get_categorical_value(np.array([0.1, 0., 1.1, 0.2, 0., 1., 0.]), \"work\")\n",
        "    'Private'\n",
        "    \"\"\"\n",
        "    \n",
        "    \"\"\"\n",
        "    From the description of the problem as well as the sample examples, the objective is to output the categorical value\n",
        "    based on the position of the maximum value of a numpy array in the first input of the get_categorical_value function\n",
        "    \"\"\"\n",
        "    \n",
        "    # <----- TODO: WRITE YOUR CODE HERE ----->\n",
        "       \n",
        "    # In order to do this, take the index of the first input array's maximum and use that in the categorical values to output the string\n",
        "    max_pos = np.unravel_index(np.argmax(onehot), onehot.shape)[0] #generates the position of the maximum value; the predicted categorical feature\n",
        "    #max_pos = onehot.index(max(onehot)) \n",
        "    category = cat_values[feature]\n",
        "    output = category[max_pos]\n",
        "    \n",
        "    return output\n",
        "\n"
      ],
      "execution_count": 0,
      "outputs": []
    },
    {
      "cell_type": "code",
      "metadata": {
        "id": "6oNorCavQz-6",
        "colab_type": "code",
        "outputId": "f5e9ce23-d851-4f79-84c8-1f3c9ec9d16c",
        "colab": {
          "base_uri": "https://localhost:8080/",
          "height": 51
        }
      },
      "source": [
        "## TEST ON THE SAMPLE EXAMPLES GIVEN IN THE PROBLEM DESCRIPTION\n",
        "print(get_categorical_value(np.array([0.1, 0., 1.1, 0.2, 0., 1., 0.]), \"work\"))\n",
        "print(get_categorical_value(np.array([0., 0., 0., 0., 0., 1., 0.]), \"work\"))\n",
        "\n",
        "# Function works well"
      ],
      "execution_count": 0,
      "outputs": [
        {
          "output_type": "stream",
          "text": [
            "Private\n",
            "State-gov\n"
          ],
          "name": "stdout"
        }
      ]
    },
    {
      "cell_type": "code",
      "metadata": {
        "id": "T_XXxZdh1pqv",
        "colab_type": "code",
        "colab": {}
      },
      "source": [
        "# more useful code, used during training, that depends on the function\n",
        "# you write above\n",
        "\n",
        "def get_feature(record, feature):\n",
        "    \"\"\"\n",
        "    Return the categorical feature value of a record\n",
        "    \"\"\"\n",
        "    onehot = get_onehot(record, feature)\n",
        "    return get_categorical_value(onehot, feature)\n",
        "\n",
        "def get_features(record):\n",
        "    \"\"\"\n",
        "    Return a dictionary of all categorical feature values of a record\n",
        "    \"\"\"\n",
        "    return { f: get_feature(record, f) for f in catcols }"
      ],
      "execution_count": 0,
      "outputs": []
    },
    {
      "cell_type": "markdown",
      "metadata": {
        "id": "1_5ZZR_J1pqy",
        "colab_type": "text"
      },
      "source": [
        "### Part (g) Train/Test Split [3 pt]\n",
        "\n",
        "Randomly split the data into approximately 70% training, 15% validation and 15% test.\n",
        "\n",
        "Report the number of items in your training, validation, and test set."
      ]
    },
    {
      "cell_type": "code",
      "metadata": {
        "id": "TE_fTJJf1pqz",
        "colab_type": "code",
        "outputId": "89ff70a9-1951-45ce-b4f7-7cbc44db440e",
        "colab": {
          "base_uri": "https://localhost:8080/",
          "height": 68
        }
      },
      "source": [
        "# set the numpy seed for reproducibility\n",
        "# https://docs.scipy.org/doc/numpy/reference/generated/numpy.random.seed.html\n",
        "np.random.seed(50)\n",
        "np.random.shuffle(datanp)\n",
        "row, col = datanp.shape\n",
        "train_row = round(0.7*row) #indexing from training data\n",
        "val_row = round(0.15*row) #indexing for validation data\n",
        "\n",
        "train_data = datanp[0:train_row]\n",
        "val_data = datanp[train_row:train_row+val_row]\n",
        "test_data = datanp[-val_row:]\n",
        "\n",
        "print('Number of rows in the training data is:',train_data.shape[0])\n",
        "print('Number of rows in the validation data is:',val_data.shape[0])\n",
        "print('Number of rows in the testing data is:',test_data.shape[0])\n",
        "\n"
      ],
      "execution_count": 0,
      "outputs": [
        {
          "output_type": "stream",
          "text": [
            "Number of rows in the training data is: 21503\n",
            "Number of rows in the validation data is: 4608\n",
            "Number of rows in the testing data is: 4608\n"
          ],
          "name": "stdout"
        }
      ]
    },
    {
      "cell_type": "code",
      "metadata": {
        "id": "bv6ml4mX5sMl",
        "colab_type": "code",
        "outputId": "02b4ffde-9382-4416-b249-c039fcfd35d9",
        "colab": {
          "base_uri": "https://localhost:8080/",
          "height": 221
        }
      },
      "source": [
        "#Sample data point for the training data\n",
        "train_data[10]"
      ],
      "execution_count": 0,
      "outputs": [
        {
          "output_type": "execute_result",
          "data": {
            "text/plain": [
              "array([0.15068494, 0.8       , 0.        , 0.        , 0.4489796 ,\n",
              "       0.        , 0.        , 1.        , 0.        , 0.        ,\n",
              "       0.        , 0.        , 0.        , 0.        , 1.        ,\n",
              "       0.        , 0.        , 0.        , 0.        , 0.        ,\n",
              "       0.        , 0.        , 0.        , 0.        , 0.        ,\n",
              "       0.        , 0.        , 0.        , 1.        , 0.        ,\n",
              "       0.        , 0.        , 0.        , 0.        , 0.        ,\n",
              "       0.        , 0.        , 0.        , 0.        , 0.        ,\n",
              "       0.        , 0.        , 1.        , 0.        , 0.        ,\n",
              "       0.        , 0.        , 0.        , 0.        , 0.        ,\n",
              "       0.        , 0.        , 0.        , 0.        , 1.        ,\n",
              "       1.        , 0.        ], dtype=float32)"
            ]
          },
          "metadata": {
            "tags": []
          },
          "execution_count": 28
        }
      ]
    },
    {
      "cell_type": "markdown",
      "metadata": {
        "id": "h9wJAKOI1pq3",
        "colab_type": "text"
      },
      "source": [
        "## Part 2. Model Setup [5 pt]\n",
        "\n",
        "### Part (a) [4 pt]\n",
        "\n",
        "Design a fully-connected autoencoder by modifying the `encoder` and `decoder`\n",
        "below.\n",
        "\n",
        "The input to this autoencoder will be the features of the `data`, with\n",
        "one categorical feature recorded as \"missing\". The output of the autoencoder\n",
        "should be the reconstruction of the same features, but with the missing\n",
        "value filled in.\n"
      ]
    },
    {
      "cell_type": "code",
      "metadata": {
        "id": "f3F--tdn1pq3",
        "colab_type": "code",
        "colab": {}
      },
      "source": [
        "from torch import nn\n",
        "\n",
        "class DataForge(nn.Module):\n",
        "    def __init__(self):\n",
        "        encoder_dim = 11\n",
        "        super(DataForge, self).__init__()\n",
        "        self.name= \"dataforge\"\n",
        "        self.encoder = nn.Sequential(\n",
        "            nn.Linear(57, 15), \n",
        "            nn.ReLU(),\n",
        "            nn.Linear(15, encoder_dim),\n",
        "            nn.ReLU() \n",
        "        )\n",
        "        self.decoder = nn.Sequential(\n",
        "            nn.Linear(encoder_dim, 15),\n",
        "            nn.Linear(15, 57), \n",
        "            nn.Sigmoid() # get to the range (0, 1)\n",
        "        )\n",
        "\n",
        "    def forward(self, x):\n",
        "        x = self.encoder(x)\n",
        "        x = self.decoder(x)\n",
        "        return x\n",
        "      \n",
        "     "
      ],
      "execution_count": 0,
      "outputs": []
    },
    {
      "cell_type": "markdown",
      "metadata": {
        "id": "kuEzTSAv1pq6",
        "colab_type": "text"
      },
      "source": [
        "### Part (b) [1 pt]\n",
        "\n",
        "Explain why there is a sigmoid activation in the last step of the decoder.\n",
        "\n",
        "(**Note**: the values inside the data frame `data` and the training code in Part 3 might be helpful.)"
      ]
    },
    {
      "cell_type": "markdown",
      "metadata": {
        "id": "R4YgnDuYcxGY",
        "colab_type": "text"
      },
      "source": [
        "This is due to the fact that the data in the columns for the categorical one-hot encoded values are normalized, and thus must have values returned between 0 or 1"
      ]
    },
    {
      "cell_type": "markdown",
      "metadata": {
        "id": "jYwqFWVl1pq8",
        "colab_type": "text"
      },
      "source": [
        "## Part 3. Training [18] \n",
        "\n",
        "### Part (a) [6 pt]\n",
        "\n",
        "We will train our autoencoder in the following way:\n",
        "\n",
        "- In each iteration, we will hide one of the categorical features using the `zero_out_random_features` function\n",
        "- We will pass the data with one missing feature through the autoencoder, and obtain a reconstruction\n",
        "- We will check how close the reconstruction is compared to the original data -- including the value of the missing feature\n",
        "\n",
        "Complete the code to train the autoencoder, and plot the training and validation loss every few iterations.\n",
        "You may also want to plot training and validation \"accuracy\" every few iterations, as we will define in\n",
        "part (b). You may also want to checkpoint your model every few iterations or epochs.\n",
        "\n",
        "Use `nn.MSELoss()` as your loss function. (Side note: you might recognize that this loss function is not\n",
        "ideal for this problem, but we will use it anyway.)"
      ]
    },
    {
      "cell_type": "code",
      "metadata": {
        "id": "p3vP9caR92vk",
        "colab_type": "code",
        "colab": {}
      },
      "source": [
        "    import matplotlib.pyplot as plt"
      ],
      "execution_count": 0,
      "outputs": []
    },
    {
      "cell_type": "code",
      "metadata": {
        "id": "IDQA_-dS1pq9",
        "colab_type": "code",
        "colab": {}
      },
      "source": [
        "## HELPER FUNCTIONS\n",
        "def zero_out_feature(records, feature): ##zeros out a selected one hot feature \n",
        "    \"\"\" Set the feature missing in records, by setting the appropriate\n",
        "    columns of records to 0\n",
        "    \"\"\"\n",
        "    start_index = cat_index[feature] #takes the starting one-hot encoded index for the feature in question\n",
        "    stop_index = cat_index[feature] + len(cat_values[feature]) # take the last index value of the feature\n",
        "    records[:, start_index:stop_index] = 0 #make all of the values 0 (effectively only turns 1 of the ones to a 0)\n",
        "    return records\n",
        "\n",
        "def zero_out_random_feature(records): #essentially calls the previous function, but randomizes the feature that is being zeroed \n",
        "    \"\"\" Set one random feature missing in records, by setting the \n",
        "    appropriate columns of records to 0\n",
        "    \"\"\"\n",
        "    return zero_out_feature(records, random.choice(catcols)) #random.choice = takes a random index selection from a list\n",
        "    #returns the zeroed out records\n",
        "\n",
        "# TRAINING CHECKPOINTING FUNCTION \n",
        "def get_model_name(name, batch_size, learning_rate, epoch):\n",
        "    \"\"\" Generate a name for the model consisting of all the hyperparameter values\n",
        "\n",
        "    Args:\n",
        "        config: Configuration object containing the hyperparameters\n",
        "    Returns:\n",
        "        path: A string with the hyperparameter name and value concatenated\n",
        "    \"\"\"\n",
        "    path = \"model_{0}_bs{1}_lr{2}_epoch{3}\".format(name,\n",
        "                                                   batch_size,\n",
        "                                                   learning_rate,\n",
        "                                                   epoch)\n",
        "    return path\n",
        "\n",
        "# TRAINING FUNCTION\n",
        "def train(model, train_loader, valid_loader, num_epochs, learning_rate, batch_size):\n",
        "    \"\"\" Training loop. You should update this.\"\"\"\n",
        "    torch.manual_seed(42)\n",
        "    criterion = nn.MSELoss() #mean squared error loss\n",
        "    optimizer = torch.optim.Adam(model.parameters(), lr=learning_rate) #adam optimization\n",
        "\n",
        "    train_loss = np.zeros(num_epochs) # make an empty vector for the training loss values accrued\n",
        "    train_acc = np.zeros(num_epochs) # make an empty vector for the training accuracy values accrued\n",
        "\n",
        "    val_loss = np.zeros(num_epochs) # make an empty vector for the validation loss values accrued\n",
        "    val_acc = np.zeros(num_epochs) # make an empty vector for the validation accuracy values accrued\n",
        "\n",
        "    for epoch in range(num_epochs):\n",
        "        total_train_loss = 0.0 #set an initial 0 value for the total trained loss of this epoch\n",
        "\n",
        "        for iterations, data in enumerate(train_loader, 0):\n",
        "            datam = zero_out_random_feature(data.clone()) # zero out one categorical feature\n",
        "            recon = model(datam) #reconstruction\n",
        "\n",
        "            #forward/backwards pass and optimization\n",
        "            loss = criterion(recon, data) #loss value\n",
        "            loss.backward()\n",
        "            optimizer.step() #optimizting and changing the hidden unit parameter values\n",
        "            optimizer.zero_grad() #resets the gradient values to zero for next usage\n",
        "\n",
        "            #generate the training loss values and updates\n",
        "            total_train_loss += loss.item() #add the calculated MSE loss value from the MSE tensor to the total training loss\n",
        "\n",
        "        train_loss[epoch] = float(total_train_loss/(iterations+1))\n",
        "        val_loss[epoch] = evaluate(model, val_loader, criterion) #generates the average training loss of the epoch\n",
        "\n",
        "        # Get accuracy values\n",
        "        train_acc[epoch] = get_accuracy(model, train_loader) #generate the training accuracy for this epoch\n",
        "        val_acc[epoch] = get_accuracy(model, val_loader) #generate the validation accuracy for this epoch\n",
        "\n",
        "        # Print out the values of the function\n",
        "        print((\"Epoch {}: Train accuracy =  {}, Train loss =  {} | \"+\n",
        "               \"Validation accuracy =  {}, Validation loss =  {}\").format(\n",
        "                   epoch + 1,\n",
        "                   train_acc[epoch],\n",
        "                   train_loss[epoch],\n",
        "                   val_acc[epoch],\n",
        "                   val_loss[epoch]))\n",
        "       \n",
        "        # Save the current model (checkpoint) to a file every epoch\n",
        "        model_path = get_model_name(model.name, batch_size, learning_rate, epoch)\n",
        "        torch.save(model.state_dict(), model_path)\n",
        "\n",
        "    # Plotting Curves\n",
        "    plt.title(\"Training 1\")\n",
        "    plt.plot(np.arange(num_epochs), train_loss, label=\"Train\")\n",
        "    plt.plot(np.arange(num_epochs), val_loss, label=\"Validation\")\n",
        "    plt.xlabel(\"Epochs\")\n",
        "    plt.ylabel(\"Loss\")\n",
        "    plt.legend(loc='best')\n",
        "    plt.show()\n",
        "\n",
        "    plt.title(\"Training 2\")\n",
        "    plt.plot(np.arange(num_epochs), train_acc, label=\"Train\")\n",
        "    plt.plot(np.arange(num_epochs), val_acc, label=\"Validation\")\n",
        "    plt.xlabel(\"Epochs\")\n",
        "    plt.ylabel(\"Training Accuracy\")\n",
        "    plt.legend(loc='best')\n",
        "    plt.show()\n",
        "\n",
        "def evaluate(model, loader, criterion): # evaluation of the loss on the validation set\n",
        "    \"\"\" Evaluate the network on the validation set.\n",
        "\n",
        "     Args:\n",
        "         net: PyTorch neural network object\n",
        "         loader: PyTorch data loader for the validation set\n",
        "         criterion: The loss function\n",
        "     Returns:\n",
        "         err: A scalar for the avg classification error over the validation set\n",
        "         loss: A scalar for the average loss function over the validation set\n",
        "     \"\"\"\n",
        "    total_loss = 0.0\n",
        "\n",
        "    i = 0\n",
        "    for col in catcols: #validating this for every column in the validation set\n",
        "      for data in (loader):\n",
        "        datam = zero_out_random_feature(data.clone()) # zero out one categorical feature\n",
        "        recon = model(datam) #reconstruction of validation data\n",
        "\n",
        "        loss = criterion(recon, data) #loss value of validation\n",
        "        total_loss += loss.item()\n",
        "        i+=1 #increase iteration number\n",
        "\n",
        "    loss = float(total_loss)/(i + 1)\n",
        "    return loss\n"
      ],
      "execution_count": 0,
      "outputs": []
    },
    {
      "cell_type": "markdown",
      "metadata": {
        "id": "WKk01pwx1pq_",
        "colab_type": "text"
      },
      "source": [
        "### Part (b) [3 pt]\n",
        "\n",
        "While plotting training and validation loss is valuable, loss values are harder to compare\n",
        "than accuracy percentages. It would be nice to have a measure of \"accuracy\" in this problem.\n",
        "\n",
        "Since we will only be imputing missing categorical values, we will define an accuracy measure.\n",
        "For each record and for each categorical feature, we determine whether\n",
        "the model can predict the categorical feature given all the other features of the record.\n",
        "\n",
        "A function `get_accuracy` is written for you. It is up to you to figure out how to\n",
        "use the function. **You don't need to submit anything in this part.**\n",
        "To earn the marks, correctly plot the training and validation accuracy every few \n",
        "iterations as part of your training curve."
      ]
    },
    {
      "cell_type": "code",
      "metadata": {
        "id": "bHWLfCzM1pq_",
        "colab_type": "code",
        "colab": {}
      },
      "source": [
        "def get_accuracy(model, data_loader):\n",
        "    \"\"\"Return the \"accuracy\" of the autoencoder model across a data set.\n",
        "    That is, for each record and for each categorical feature, \n",
        "    we determine whether the model can successfully predict the value\n",
        "    of the categorical feature given all the other features of the \n",
        "    record. The returned \"accuracy\" measure is the percentage of times \n",
        "    that our model is successful.\n",
        "        \n",
        "    Args:\n",
        "       - model: the autoencoder model, an instance of nn.Module\n",
        "       - data_loader: an instance of torch.utils.data.DataLoader\n",
        "\n",
        "    Example (to illustrate how get_accuracy is intended to be called.\n",
        "             Depending on your variable naming this code might require\n",
        "             modification.)\n",
        "\n",
        "        >>> model = AutoEncoder()\n",
        "        >>> vdl = torch.utils.data.DataLoader(data_valid, batch_size=256, shuffle=True)\n",
        "        >>> get_accuracy(model, vdl)\n",
        "    \"\"\"\n",
        "    total = 0\n",
        "    acc = 0\n",
        "    for col in catcols:\n",
        "        for item in data_loader: # minibatches\n",
        "            inp = item.detach().numpy()\n",
        "            out = model(zero_out_feature(item.clone(), col)).detach().numpy()\n",
        "            for i in range(out.shape[0]): # record in minibatch\n",
        "                acc += int(get_feature(out[i], col) == get_feature(inp[i], col))\n",
        "                total += 1\n",
        "    return acc / total"
      ],
      "execution_count": 0,
      "outputs": []
    },
    {
      "cell_type": "markdown",
      "metadata": {
        "id": "SxCTlXoV1prB",
        "colab_type": "text"
      },
      "source": [
        "### Part (c) [4 pt]\n",
        "\n",
        "Run your updated training code, using reasonable initial hyperparameters.\n",
        "\n",
        "Include your training curve in your submission."
      ]
    },
    {
      "cell_type": "code",
      "metadata": {
        "id": "nj5b71l-1prC",
        "colab_type": "code",
        "outputId": "09f4d36e-d1d8-4883-ebd8-413840f12a23",
        "colab": {
          "base_uri": "https://localhost:8080/",
          "height": 913
        }
      },
      "source": [
        "encoder= DataForge()\n",
        "\"\"\"use_cuda = True\n",
        "\n",
        "if use_cuda and torch.cuda.is_available():\n",
        "  encoder.cuda()\n",
        "  print('CUDA is available!  Training on GPU ...')\n",
        "else:\n",
        "  print('CUDA is not available.  Training on CPU ...')\n",
        "\"\"\"\n",
        "\n",
        "batch_size= 32\n",
        "train_loader= torch.utils.data.DataLoader(train_data, batch_size = batch_size, shuffle= True)\n",
        "val_loader= torch.utils.data.DataLoader(val_data, batch_size= batch_size, shuffle= True)\n",
        "\n",
        "train(encoder, train_loader, val_loader, num_epochs= 20, learning_rate= 0.0001, batch_size= batch_size)"
      ],
      "execution_count": 0,
      "outputs": [
        {
          "output_type": "stream",
          "text": [
            "Epoch 1: Train accuracy =  0.3463237687764498, Train loss =  0.19563408964313567 | Validation accuracy =  0.34642650462962965, Validation loss =  0.12474206714444078\n",
            "Epoch 2: Train accuracy =  0.4572462757134663, Train loss =  0.08625968852789984 | Validation accuracy =  0.45460792824074076, Validation loss =  0.07320911013494337\n",
            "Epoch 3: Train accuracy =  0.45983506177432604, Train loss =  0.07195092300840077 | Validation accuracy =  0.45851417824074076, Validation loss =  0.07121478056459758\n",
            "Epoch 4: Train accuracy =  0.459362259529678, Train loss =  0.0709237472786169 | Validation accuracy =  0.4576822916666667, Validation loss =  0.07054867806892863\n",
            "Epoch 5: Train accuracy =  0.45866468244741043, Train loss =  0.07029939904099419 | Validation accuracy =  0.45750144675925924, Validation loss =  0.06988711364438079\n",
            "Epoch 6: Train accuracy =  0.4596335395061154, Train loss =  0.06948890866866957 | Validation accuracy =  0.45873119212962965, Validation loss =  0.06886997329706401\n",
            "Epoch 7: Train accuracy =  0.486288734905207, Train loss =  0.06741268676705658 | Validation accuracy =  0.48542390046296297, Validation loss =  0.06462556075067878\n",
            "Epoch 8: Train accuracy =  0.5253608023686618, Train loss =  0.06111514587731411 | Validation accuracy =  0.5256438078703703, Validation loss =  0.05806504962158341\n",
            "Epoch 9: Train accuracy =  0.542745973430064, Train loss =  0.05695769037785275 | Validation accuracy =  0.5445240162037037, Validation loss =  0.05598005513752127\n",
            "Epoch 10: Train accuracy =  0.5495977305492257, Train loss =  0.05565797326908935 | Validation accuracy =  0.5497323495370371, Validation loss =  0.05506094798790237\n",
            "Epoch 11: Train accuracy =  0.5586972360445829, Train loss =  0.054997584666125476 | Validation accuracy =  0.5581235532407407, Validation loss =  0.05448856091051432\n",
            "Epoch 12: Train accuracy =  0.5615262986560015, Train loss =  0.05428866005413944 | Validation accuracy =  0.5614510995370371, Validation loss =  0.05388209955023893\n",
            "Epoch 13: Train accuracy =  0.5661768125377854, Train loss =  0.05376348972675346 | Validation accuracy =  0.5660445601851852, Validation loss =  0.053275934705844505\n",
            "Epoch 14: Train accuracy =  0.5723542451440884, Train loss =  0.05286485378053926 | Validation accuracy =  0.5713252314814815, Validation loss =  0.05204430038615458\n",
            "Epoch 15: Train accuracy =  0.5709978452619014, Train loss =  0.05137691538714405 | Validation accuracy =  0.5705656828703703, Validation loss =  0.05034324261925124\n",
            "Epoch 16: Train accuracy =  0.568641584895131, Train loss =  0.04968194908551162 | Validation accuracy =  0.5678168402777778, Validation loss =  0.04902833765211133\n",
            "Epoch 17: Train accuracy =  0.5678122432528795, Train loss =  0.04872272611551341 | Validation accuracy =  0.5681785300925926, Validation loss =  0.04834627260190214\n",
            "Epoch 18: Train accuracy =  0.5687733494551148, Train loss =  0.0481659205397591 | Validation accuracy =  0.5680700231481481, Validation loss =  0.04784241290709187\n",
            "Epoch 19: Train accuracy =  0.5686260831821917, Train loss =  0.047818707795591935 | Validation accuracy =  0.5681785300925926, Validation loss =  0.04740638316452848\n",
            "Epoch 20: Train accuracy =  0.5685098203351471, Train loss =  0.04740396830519395 | Validation accuracy =  0.5678891782407407, Validation loss =  0.04716584658347113\n"
          ],
          "name": "stdout"
        },
        {
          "output_type": "display_data",
          "data": {
            "image/png": "[encoded data removed]",
            "text/plain": [
              "<Figure size 432x288 with 1 Axes>"
            ]
          },
          "metadata": {
            "tags": []
          }
        },
        {
          "output_type": "display_data",
          "data": {
            "image/png": "[encoded data removed]",
            "text/plain": [
              "<Figure size 432x288 with 1 Axes>"
            ]
          },
          "metadata": {
            "tags": []
          }
        }
      ]
    },
    {
      "cell_type": "markdown",
      "metadata": {
        "id": "5gvrgDAwPWPG",
        "colab_type": "text"
      },
      "source": [
        "NOTE: THE TRAIN AND VALIDATION ARE ALMOST IDENTICAL THROUGHOUT THE ENTIRE TRAINING. SHOWS HIGH SIMILARITY BETWEEN THE TRAINING AND VALIDATION SET"
      ]
    },
    {
      "cell_type": "markdown",
      "metadata": {
        "id": "h9xTwIf51prF",
        "colab_type": "text"
      },
      "source": [
        "### Part (d) [5 pt]\n",
        "\n",
        "Tune your hyperparameters, training at least 4 different models (4 sets of hyperparameters).\n",
        "\n",
        "Do not include all your training curves. Instead, explain what hyperparameters\n",
        "you tried, what their effect was, and what your thought process was as you \n",
        "chose the next set of hyperparameters to try."
      ]
    },
    {
      "cell_type": "code",
      "metadata": {
        "id": "PhTKt9iL1prG",
        "colab_type": "code",
        "colab": {}
      },
      "source": [
        "## declare variables for the tuning\n",
        "bs1 = 32\n",
        "bs2 = 64\n",
        "num1 = 25\n",
        "num2 = 50\n",
        "lr1 = 0.001\n",
        "lr2 = 0.0005"
      ],
      "execution_count": 0,
      "outputs": []
    },
    {
      "cell_type": "code",
      "metadata": {
        "id": "p_3uXZ4kPhqT",
        "colab_type": "code",
        "outputId": "a895dade-2e36-4f3d-ff0c-53e75d645824",
        "colab": {
          "base_uri": "https://localhost:8080/",
          "height": 998
        }
      },
      "source": [
        "train(encoder, train_loader, val_loader, num_epochs= num1, learning_rate= lr2, batch_size= bs1)"
      ],
      "execution_count": 0,
      "outputs": [
        {
          "output_type": "stream",
          "text": [
            "Epoch 1: Train accuracy =  0.5700522407726054, Train loss =  0.04653508836470012 | Validation accuracy =  0.5708912037037037, Validation loss =  0.04524308021874786\n",
            "Epoch 2: Train accuracy =  0.5848408749166782, Train loss =  0.04224687640366721 | Validation accuracy =  0.5835141782407407, Validation loss =  0.03919338042164124\n",
            "Epoch 3: Train accuracy =  0.5881737431986235, Train loss =  0.037793324170966765 | Validation accuracy =  0.5882884837962963, Validation loss =  0.03693833244759912\n",
            "Epoch 4: Train accuracy =  0.5947619711978174, Train loss =  0.0365899731959438 | Validation accuracy =  0.5959563078703703, Validation loss =  0.03584704107330369\n",
            "Epoch 5: Train accuracy =  0.5997457719077958, Train loss =  0.035482813130199374 | Validation accuracy =  0.6001157407407407, Validation loss =  0.035171736514120436\n",
            "Epoch 6: Train accuracy =  0.6051946240059527, Train loss =  0.03490503394277766 | Validation accuracy =  0.6030815972222222, Validation loss =  0.03464162632435388\n",
            "Epoch 7: Train accuracy =  0.6062564913422933, Train loss =  0.03435711106396325 | Validation accuracy =  0.6043113425925926, Validation loss =  0.034310513569009785\n",
            "Epoch 8: Train accuracy =  0.6110930257793487, Train loss =  0.03365204064452666 | Validation accuracy =  0.6084707754629629, Validation loss =  0.03347304054896611\n",
            "Epoch 9: Train accuracy =  0.6114263126075431, Train loss =  0.03297779054125948 | Validation accuracy =  0.6083260995370371, Validation loss =  0.03249542772382326\n",
            "Epoch 10: Train accuracy =  0.6135888015625727, Train loss =  0.03207536355503613 | Validation accuracy =  0.6113642939814815, Validation loss =  0.03166655493910946\n",
            "Epoch 11: Train accuracy =  0.6108449983723201, Train loss =  0.0311716312176681 | Validation accuracy =  0.6068793402777778, Validation loss =  0.030986359646554627\n",
            "Epoch 12: Train accuracy =  0.6131315010308639, Train loss =  0.030941959614643737 | Validation accuracy =  0.6107855902777778, Validation loss =  0.030414138170163755\n",
            "Epoch 13: Train accuracy =  0.616100079058736, Train loss =  0.03021974115732259 | Validation accuracy =  0.6134620949074074, Validation loss =  0.030043907573371265\n",
            "Epoch 14: Train accuracy =  0.6082097071726426, Train loss =  0.029741680551697278 | Validation accuracy =  0.6045645254629629, Validation loss =  0.029831052655515642\n",
            "Epoch 15: Train accuracy =  0.6126819513556248, Train loss =  0.029566250522510103 | Validation accuracy =  0.6092664930555556, Validation loss =  0.02939259520155846\n",
            "Epoch 16: Train accuracy =  0.609062301384303, Train loss =  0.0290535491519785 | Validation accuracy =  0.6060474537037037, Validation loss =  0.02897645766077014\n",
            "Epoch 17: Train accuracy =  0.6146196654730348, Train loss =  0.02872508537811449 | Validation accuracy =  0.6104239004629629, Validation loss =  0.028646568133565732\n",
            "Epoch 18: Train accuracy =  0.617045683548032, Train loss =  0.028662892222027517 | Validation accuracy =  0.6144386574074074, Validation loss =  0.02812400085776183\n",
            "Epoch 19: Train accuracy =  0.6148599420235936, Train loss =  0.028132618221986507 | Validation accuracy =  0.6110026041666666, Validation loss =  0.0278284312823432\n",
            "Epoch 20: Train accuracy =  0.6145421569083384, Train loss =  0.02758941423547055 | Validation accuracy =  0.6124493634259259, Validation loss =  0.02681667159790593\n",
            "Epoch 21: Train accuracy =  0.6164101133175216, Train loss =  0.026567915767719524 | Validation accuracy =  0.6127748842592593, Validation loss =  0.02602131436282844\n",
            "Epoch 22: Train accuracy =  0.6157745430870111, Train loss =  0.025766808740584003 | Validation accuracy =  0.6124131944444444, Validation loss =  0.025403537420351383\n",
            "Epoch 23: Train accuracy =  0.6127052039250337, Train loss =  0.025130270040660565 | Validation accuracy =  0.6105324074074074, Validation loss =  0.025104589192896563\n",
            "Epoch 24: Train accuracy =  0.6166736424374893, Train loss =  0.024952581232701915 | Validation accuracy =  0.6154513888888888, Validation loss =  0.024608731257993018\n",
            "Epoch 25: Train accuracy =  0.6148676928800633, Train loss =  0.024445216793711075 | Validation accuracy =  0.6125578703703703, Validation loss =  0.024054839440508385\n"
          ],
          "name": "stdout"
        },
        {
          "output_type": "display_data",
          "data": {
            "image/png": "[encoded data removed]",
            "text/plain": [
              "<Figure size 432x288 with 1 Axes>"
            ]
          },
          "metadata": {
            "tags": []
          }
        },
        {
          "output_type": "display_data",
          "data": {
            "image/png": "[encoded data removed]",
            "text/plain": [
              "<Figure size 432x288 with 1 Axes>"
            ]
          },
          "metadata": {
            "tags": []
          }
        }
      ]
    },
    {
      "cell_type": "code",
      "metadata": {
        "id": "rLsfYEq2Phvq",
        "colab_type": "code",
        "outputId": "aee3bb27-ab8f-49cd-bce2-f093a0c028a7",
        "colab": {
          "base_uri": "https://localhost:8080/",
          "height": 998
        }
      },
      "source": [
        "train(encoder, train_loader, val_loader, num_epochs= num1, learning_rate= lr1, batch_size= bs2)"
      ],
      "execution_count": 0,
      "outputs": [
        {
          "output_type": "stream",
          "text": [
            "Epoch 1: Train accuracy =  0.607318358678634, Train loss =  0.023770330702453584 | Validation accuracy =  0.6060112847222222, Validation loss =  0.023219292731471143\n",
            "Epoch 2: Train accuracy =  0.6103334418453239, Train loss =  0.02291248441075108 | Validation accuracy =  0.6107494212962963, Validation loss =  0.022663932139689178\n",
            "Epoch 3: Train accuracy =  0.6129299787626533, Train loss =  0.022272962803808263 | Validation accuracy =  0.6129195601851852, Validation loss =  0.02183533931807803\n",
            "Epoch 4: Train accuracy =  0.6157590413740718, Train loss =  0.021736836757987647 | Validation accuracy =  0.6159939236111112, Validation loss =  0.02138216823145661\n",
            "Epoch 5: Train accuracy =  0.6158830550775861, Train loss =  0.021357356215871516 | Validation accuracy =  0.6143301504629629, Validation loss =  0.02141039551079618\n",
            "Epoch 6: Train accuracy =  0.6173402160938783, Train loss =  0.021293726311774834 | Validation accuracy =  0.6154875578703703, Validation loss =  0.021304510455212495\n",
            "Epoch 7: Train accuracy =  0.6215256785874839, Train loss =  0.0210770032856436 | Validation accuracy =  0.6175491898148148, Validation loss =  0.020941758014778527\n",
            "Epoch 8: Train accuracy =  0.6228743276132013, Train loss =  0.021125192396409278 | Validation accuracy =  0.6186342592592593, Validation loss =  0.020772073710757184\n",
            "Epoch 9: Train accuracy =  0.622579795067355, Train loss =  0.0205818036518481 | Validation accuracy =  0.6198278356481481, Validation loss =  0.02090310854245128\n",
            "Epoch 10: Train accuracy =  0.6203708009735076, Train loss =  0.02055318276342448 | Validation accuracy =  0.6173683449074074, Validation loss =  0.02033766500996372\n",
            "Epoch 11: Train accuracy =  0.6211071323381233, Train loss =  0.020500617180784633 | Validation accuracy =  0.6186704282407407, Validation loss =  0.020245613487211267\n",
            "Epoch 12: Train accuracy =  0.6209056100699127, Train loss =  0.0202742516703438 | Validation accuracy =  0.6197554976851852, Validation loss =  0.020400283078668435\n",
            "Epoch 13: Train accuracy =  0.6238586863848455, Train loss =  0.020277797313784027 | Validation accuracy =  0.6199363425925926, Validation loss =  0.020130933518656073\n",
            "Epoch 14: Train accuracy =  0.618510595420794, Train loss =  0.019987390539470306 | Validation accuracy =  0.6166811342592593, Validation loss =  0.020432812005625984\n",
            "Epoch 15: Train accuracy =  0.6212621494675161, Train loss =  0.019889418946279745 | Validation accuracy =  0.6190321180555556, Validation loss =  0.019783507066784223\n",
            "Epoch 16: Train accuracy =  0.6182393154443566, Train loss =  0.02004799629988459 | Validation accuracy =  0.6153790509259259, Validation loss =  0.02003713542907741\n",
            "Epoch 17: Train accuracy =  0.6173169635244694, Train loss =  0.019914378280407704 | Validation accuracy =  0.6167896412037037, Validation loss =  0.01958829409017556\n",
            "Epoch 18: Train accuracy =  0.6182780697267048, Train loss =  0.019835664565020818 | Validation accuracy =  0.6177300347222222, Validation loss =  0.02005573742393124\n",
            "Epoch 19: Train accuracy =  0.6155342665364523, Train loss =  0.019881877812579097 | Validation accuracy =  0.6155598958333334, Validation loss =  0.019940726505323296\n",
            "Epoch 20: Train accuracy =  0.6204793129640825, Train loss =  0.019477533460650148 | Validation accuracy =  0.6185257523148148, Validation loss =  0.019558801536442915\n",
            "Epoch 21: Train accuracy =  0.6174254755150445, Train loss =  0.01965758882025035 | Validation accuracy =  0.6158130787037037, Validation loss =  0.019676532146300194\n",
            "Epoch 22: Train accuracy =  0.6155807716752701, Train loss =  0.019063171889034232 | Validation accuracy =  0.6137514467592593, Validation loss =  0.01964628845883932\n",
            "Epoch 23: Train accuracy =  0.6186268582678386, Train loss =  0.019556062057658676 | Validation accuracy =  0.6159215856481481, Validation loss =  0.019657675105798453\n",
            "Epoch 24: Train accuracy =  0.6221612488179944, Train loss =  0.019203428615583107 | Validation accuracy =  0.6203703703703703, Validation loss =  0.01917650116273778\n",
            "Epoch 25: Train accuracy =  0.6190531553736688, Train loss =  0.019488358360138677 | Validation accuracy =  0.6183449074074074, Validation loss =  0.01944668899058779\n"
          ],
          "name": "stdout"
        },
        {
          "output_type": "display_data",
          "data": {
            "image/png": "[encoded data removed]",
            "text/plain": [
              "<Figure size 432x288 with 1 Axes>"
            ]
          },
          "metadata": {
            "tags": []
          }
        },
        {
          "output_type": "display_data",
          "data": {
            "image/png": "[encoded data removed]",
            "text/plain": [
              "<Figure size 432x288 with 1 Axes>"
            ]
          },
          "metadata": {
            "tags": []
          }
        }
      ]
    },
    {
      "cell_type": "code",
      "metadata": {
        "id": "yq6XvF92Ph1S",
        "colab_type": "code",
        "outputId": "7e2b93e4-9345-4156-b1ed-7e4a3ccc5fc2",
        "colab": {
          "base_uri": "https://localhost:8080/",
          "height": 1423
        }
      },
      "source": [
        "train(encoder, train_loader, val_loader, num_epochs= num2, learning_rate= lr2, batch_size= bs1)"
      ],
      "execution_count": 0,
      "outputs": [
        {
          "output_type": "stream",
          "text": [
            "Epoch 1: Train accuracy =  0.6206808352322931, Train loss =  0.018880255678336004 | Validation accuracy =  0.6195023148148148, Validation loss =  0.01919139384512784\n",
            "Epoch 2: Train accuracy =  0.6236184098342867, Train loss =  0.019129547397218023 | Validation accuracy =  0.6213831018518519, Validation loss =  0.01907813691270317\n",
            "Epoch 3: Train accuracy =  0.6247035297400363, Train loss =  0.018813603116931126 | Validation accuracy =  0.6216001157407407, Validation loss =  0.01886399648329943\n",
            "Epoch 4: Train accuracy =  0.6212854020369251, Train loss =  0.018552237716946928 | Validation accuracy =  0.6197193287037037, Validation loss =  0.01879138927852918\n",
            "Epoch 5: Train accuracy =  0.623804430389558, Train loss =  0.018623658374140394 | Validation accuracy =  0.6226128472222222, Validation loss =  0.018720993733927178\n",
            "Epoch 6: Train accuracy =  0.6224325287944318, Train loss =  0.018690431331162386 | Validation accuracy =  0.6205873842592593, Validation loss =  0.01875030780534093\n",
            "Epoch 7: Train accuracy =  0.6246182703188702, Train loss =  0.018635917305281118 | Validation accuracy =  0.6223234953703703, Validation loss =  0.01866651787341847\n",
            "Epoch 8: Train accuracy =  0.6221534979615247, Train loss =  0.018628674250240215 | Validation accuracy =  0.6205873842592593, Validation loss =  0.018844979423275916\n",
            "Epoch 9: Train accuracy =  0.6249360554341254, Train loss =  0.01851667426360239 | Validation accuracy =  0.6239149305555556, Validation loss =  0.018483138618441676\n",
            "Epoch 10: Train accuracy =  0.6242927343471454, Train loss =  0.018328276416425416 | Validation accuracy =  0.6219256365740741, Validation loss =  0.01864468456714312\n",
            "Epoch 11: Train accuracy =  0.6223240168038568, Train loss =  0.01846039214953115 | Validation accuracy =  0.6221064814814815, Validation loss =  0.0185014069478722\n",
            "Epoch 12: Train accuracy =  0.6242849834906757, Train loss =  0.018477914709364995 | Validation accuracy =  0.6221788194444444, Validation loss =  0.01839769598301177\n",
            "Epoch 13: Train accuracy =  0.6254786153870002, Train loss =  0.018221983850318275 | Validation accuracy =  0.6233723958333334, Validation loss =  0.018369980991920293\n",
            "Epoch 14: Train accuracy =  0.6216031871521803, Train loss =  0.018141026517176733 | Validation accuracy =  0.6206597222222222, Validation loss =  0.018148539595392053\n",
            "Epoch 15: Train accuracy =  0.627873630036119, Train loss =  0.01828149545915602 | Validation accuracy =  0.6269892939814815, Validation loss =  0.01824580651487229\n",
            "Epoch 16: Train accuracy =  0.6256646359422716, Train loss =  0.018066052636381107 | Validation accuracy =  0.6245298032407407, Validation loss =  0.018395027558647657\n",
            "Epoch 17: Train accuracy =  0.6268892712644747, Train loss =  0.01818423799427581 | Validation accuracy =  0.6250723379629629, Validation loss =  0.01825458262804788\n",
            "Epoch 18: Train accuracy =  0.6262459501774946, Train loss =  0.018221382242960056 | Validation accuracy =  0.6237340856481481, Validation loss =  0.01825337736205214\n",
            "Epoch 19: Train accuracy =  0.6245717651800524, Train loss =  0.017915429396366346 | Validation accuracy =  0.6228660300925926, Validation loss =  0.01797768673455784\n",
            "Epoch 20: Train accuracy =  0.6231456075896387, Train loss =  0.017859081904004728 | Validation accuracy =  0.6227213541666666, Validation loss =  0.018501105553045266\n",
            "Epoch 21: Train accuracy =  0.6230991024508208, Train loss =  0.01804900023437637 | Validation accuracy =  0.6218171296296297, Validation loss =  0.0184000663459301\n",
            "Epoch 22: Train accuracy =  0.6270752918197461, Train loss =  0.0182439211286172 | Validation accuracy =  0.6264467592592593, Validation loss =  0.018190689004871544\n",
            "Epoch 23: Train accuracy =  0.6254863662434699, Train loss =  0.018081055525163675 | Validation accuracy =  0.6240234375, Validation loss =  0.017750505100117425\n",
            "Epoch 24: Train accuracy =  0.6228278224743834, Train loss =  0.017882138703412022 | Validation accuracy =  0.6228660300925926, Validation loss =  0.018065504906322225\n",
            "Epoch 25: Train accuracy =  0.625873909066952, Train loss =  0.017745035766330103 | Validation accuracy =  0.6247468171296297, Validation loss =  0.017753037465790104\n",
            "Epoch 26: Train accuracy =  0.6253933559658342, Train loss =  0.017879776983006326 | Validation accuracy =  0.6239872685185185, Validation loss =  0.018060139399775535\n",
            "Epoch 27: Train accuracy =  0.6254553628175914, Train loss =  0.018029816538078842 | Validation accuracy =  0.6253978587962963, Validation loss =  0.01777207432583922\n",
            "Epoch 28: Train accuracy =  0.6263932164504178, Train loss =  0.01777405746231255 | Validation accuracy =  0.6265552662037037, Validation loss =  0.017789107607946747\n",
            "Epoch 29: Train accuracy =  0.6260754313351625, Train loss =  0.01782338527499676 | Validation accuracy =  0.6243127893518519, Validation loss =  0.017825583861117936\n",
            "Epoch 30: Train accuracy =  0.6256181308034537, Train loss =  0.017775788235234187 | Validation accuracy =  0.6242042824074074, Validation loss =  0.01787218094690342\n",
            "Epoch 31: Train accuracy =  0.6265094792974624, Train loss =  0.01753073911199213 | Validation accuracy =  0.6253255208333334, Validation loss =  0.017567776257678264\n",
            "Epoch 32: Train accuracy =  0.6270287866809282, Train loss =  0.01756318142066621 | Validation accuracy =  0.6256872106481481, Validation loss =  0.017794321693286215\n",
            "Epoch 33: Train accuracy =  0.6283076779984188, Train loss =  0.017384817375430083 | Validation accuracy =  0.6267361111111112, Validation loss =  0.017696419575741525\n",
            "Epoch 34: Train accuracy =  0.6261451890433893, Train loss =  0.017811814058361398 | Validation accuracy =  0.6261935763888888, Validation loss =  0.017453535036264643\n",
            "Epoch 35: Train accuracy =  0.6270210358244586, Train loss =  0.017924203037788782 | Validation accuracy =  0.6252531828703703, Validation loss =  0.017488421108896677\n",
            "Epoch 36: Train accuracy =  0.6269512781162319, Train loss =  0.01750985061239806 | Validation accuracy =  0.6245298032407407, Validation loss =  0.017875379229212084\n",
            "Epoch 37: Train accuracy =  0.6247500348788542, Train loss =  0.017349607248823822 | Validation accuracy =  0.6242404513888888, Validation loss =  0.017591955104702815\n",
            "Epoch 38: Train accuracy =  0.6255328713822877, Train loss =  0.017546462631712313 | Validation accuracy =  0.623046875, Validation loss =  0.017488865431591956\n",
            "Epoch 39: Train accuracy =  0.6276256026290905, Train loss =  0.01748135513584462 | Validation accuracy =  0.6270616319444444, Validation loss =  0.017392486345690454\n",
            "Epoch 40: Train accuracy =  0.6270907935326854, Train loss =  0.01715431672969966 | Validation accuracy =  0.6249638310185185, Validation loss =  0.017311362158291772\n",
            "Epoch 41: Train accuracy =  0.627788370614953, Train loss =  0.01751484764307471 | Validation accuracy =  0.6259765625, Validation loss =  0.017529044690073572\n",
            "Epoch 42: Train accuracy =  0.6239594475189508, Train loss =  0.017392690797957282 | Validation accuracy =  0.6237702546296297, Validation loss =  0.01743728747763644\n",
            "Epoch 43: Train accuracy =  0.6279511386008154, Train loss =  0.01725902181975211 | Validation accuracy =  0.6266999421296297, Validation loss =  0.017437510106798712\n",
            "Epoch 44: Train accuracy =  0.627571346633803, Train loss =  0.017538873486392687 | Validation accuracy =  0.6280743634259259, Validation loss =  0.017278963960491854\n",
            "Epoch 45: Train accuracy =  0.6287882310995365, Train loss =  0.01739034915434396 | Validation accuracy =  0.6272063078703703, Validation loss =  0.017696178233455543\n",
            "Epoch 46: Train accuracy =  0.6280906540172689, Train loss =  0.01703028185459386 | Validation accuracy =  0.6277488425925926, Validation loss =  0.01725649229611534\n",
            "Epoch 47: Train accuracy =  0.6263932164504178, Train loss =  0.017580470262882522 | Validation accuracy =  0.626953125, Validation loss =  0.017410303739497084\n",
            "Epoch 48: Train accuracy =  0.6279123843184672, Train loss =  0.017230765718046485 | Validation accuracy =  0.6283275462962963, Validation loss =  0.017150161324359606\n",
            "Epoch 49: Train accuracy =  0.6297570881582415, Train loss =  0.017441126792359034 | Validation accuracy =  0.6309678819444444, Validation loss =  0.017347663676506177\n",
            "Epoch 50: Train accuracy =  0.6277728689020137, Train loss =  0.017301564471424734 | Validation accuracy =  0.6278935185185185, Validation loss =  0.017102391240483076\n"
          ],
          "name": "stdout"
        },
        {
          "output_type": "display_data",
          "data": {
            "image/png": "[encoded data removed]",
            "text/plain": [
              "<Figure size 432x288 with 1 Axes>"
            ]
          },
          "metadata": {
            "tags": []
          }
        },
        {
          "output_type": "display_data",
          "data": {
            "image/png": "[encoded data removed]",
            "text/plain": [
              "<Figure size 432x288 with 1 Axes>"
            ]
          },
          "metadata": {
            "tags": []
          }
        }
      ]
    },
    {
      "cell_type": "code",
      "metadata": {
        "id": "BlP045N0Pw9m",
        "colab_type": "code",
        "outputId": "a4069191-fda3-4474-e07d-bea11efcbae2",
        "colab": {
          "base_uri": "https://localhost:8080/",
          "height": 1423
        }
      },
      "source": [
        "train(encoder, train_loader, val_loader, num_epochs= num2, learning_rate= lr1, batch_size= bs2)"
      ],
      "execution_count": 0,
      "outputs": [
        {
          "output_type": "stream",
          "text": [
            "Epoch 1: Train accuracy =  0.6254708645305306, Train loss =  0.01764626449689136 | Validation accuracy =  0.6252531828703703, Validation loss =  0.01720815994803702\n",
            "Epoch 2: Train accuracy =  0.6302376412593591, Train loss =  0.01724946975411426 | Validation accuracy =  0.6290147569444444, Validation loss =  0.017416398241211568\n",
            "Epoch 3: Train accuracy =  0.6290285076500953, Train loss =  0.017443680514198995 | Validation accuracy =  0.6291956018518519, Validation loss =  0.017450542801269734\n",
            "Epoch 4: Train accuracy =  0.6282689237160706, Train loss =  0.01713458807110631 | Validation accuracy =  0.6278211805555556, Validation loss =  0.017543603464788785\n",
            "Epoch 5: Train accuracy =  0.6285479545489777, Train loss =  0.017079137380711644 | Validation accuracy =  0.6294487847222222, Validation loss =  0.017455102859140304\n",
            "Epoch 6: Train accuracy =  0.6277806197584833, Train loss =  0.017541620204740736 | Validation accuracy =  0.6274594907407407, Validation loss =  0.017204875017737032\n",
            "Epoch 7: Train accuracy =  0.6264552233021748, Train loss =  0.017028823045880666 | Validation accuracy =  0.6264467592592593, Validation loss =  0.01703986622597699\n",
            "Epoch 8: Train accuracy =  0.6288269853818848, Train loss =  0.01705419295606026 | Validation accuracy =  0.6266637731481481, Validation loss =  0.01718873295050136\n",
            "Epoch 9: Train accuracy =  0.6292067773488971, Train loss =  0.017036161964088456 | Validation accuracy =  0.6278573495370371, Validation loss =  0.01713760509936279\n",
            "Epoch 10: Train accuracy =  0.630260893828768, Train loss =  0.01733147436087685 | Validation accuracy =  0.6287615740740741, Validation loss =  0.017138183384466207\n",
            "Epoch 11: Train accuracy =  0.6278891317490582, Train loss =  0.01683055988299505 | Validation accuracy =  0.6268084490740741, Validation loss =  0.017222968628899212\n",
            "Epoch 12: Train accuracy =  0.6287417259607186, Train loss =  0.017263542290449897 | Validation accuracy =  0.6274956597222222, Validation loss =  0.017048350146115686\n",
            "Epoch 13: Train accuracy =  0.6308499589204607, Train loss =  0.016838685646126533 | Validation accuracy =  0.6285083912037037, Validation loss =  0.016954948266462093\n",
            "Epoch 14: Train accuracy =  0.631229750887473, Train loss =  0.017072433278025573 | Validation accuracy =  0.6289424189814815, Validation loss =  0.017175938062520556\n",
            "Epoch 15: Train accuracy =  0.6321055976685424, Train loss =  0.01737844540496423 | Validation accuracy =  0.62890625, Validation loss =  0.017223013109511378\n",
            "Epoch 16: Train accuracy =  0.6304469143840394, Train loss =  0.017080954676549437 | Validation accuracy =  0.6281467013888888, Validation loss =  0.01729705645299027\n",
            "Epoch 17: Train accuracy =  0.6294858081818041, Train loss =  0.017013021659555046 | Validation accuracy =  0.6261574074074074, Validation loss =  0.017218833641186787\n",
            "Epoch 18: Train accuracy =  0.6291912756359578, Train loss =  0.017313469098077065 | Validation accuracy =  0.6270616319444444, Validation loss =  0.017175840614417386\n",
            "Epoch 19: Train accuracy =  0.6312685051698212, Train loss =  0.01706633528339721 | Validation accuracy =  0.6305338541666666, Validation loss =  0.017072078911318428\n",
            "Epoch 20: Train accuracy =  0.630950720054566, Train loss =  0.01682723852891719 | Validation accuracy =  0.6296296296296297, Validation loss =  0.01719313136468819\n",
            "Epoch 21: Train accuracy =  0.6285402036925081, Train loss =  0.01691531594510057 | Validation accuracy =  0.6272424768518519, Validation loss =  0.017234608146625793\n",
            "Epoch 22: Train accuracy =  0.6318808228309228, Train loss =  0.016784713846088078 | Validation accuracy =  0.6290147569444444, Validation loss =  0.01681322268818672\n",
            "Epoch 23: Train accuracy =  0.6320745942426638, Train loss =  0.01692357424361121 | Validation accuracy =  0.6293764467592593, Validation loss =  0.016945318767337958\n",
            "Epoch 24: Train accuracy =  0.6305554263746144, Train loss =  0.016822293321075404 | Validation accuracy =  0.6280381944444444, Validation loss =  0.016998847797943677\n",
            "Epoch 25: Train accuracy =  0.6290905145018525, Train loss =  0.016801315198314286 | Validation accuracy =  0.6259403935185185, Validation loss =  0.01714262791580892\n",
            "Epoch 26: Train accuracy =  0.6327566696119922, Train loss =  0.016943146832913737 | Validation accuracy =  0.6318359375, Validation loss =  0.016659470353641608\n",
            "Epoch 27: Train accuracy =  0.6310824846145499, Train loss =  0.016672514634722444 | Validation accuracy =  0.6298104745370371, Validation loss =  0.017156527720047214\n",
            "Epoch 28: Train accuracy =  0.6334077415554419, Train loss =  0.0167293064116079 | Validation accuracy =  0.6305700231481481, Validation loss =  0.01691759404527142\n",
            "Epoch 29: Train accuracy =  0.6324001302143887, Train loss =  0.01707139538761805 | Validation accuracy =  0.6297743055555556, Validation loss =  0.0169297776007325\n",
            "Epoch 30: Train accuracy =  0.6278426266102405, Train loss =  0.01682676918114469 | Validation accuracy =  0.6251085069444444, Validation loss =  0.016981770862109228\n",
            "Epoch 31: Train accuracy =  0.6331364615790045, Train loss =  0.016552128305193037 | Validation accuracy =  0.6293041087962963, Validation loss =  0.016963073996708572\n",
            "Epoch 32: Train accuracy =  0.6339580523647863, Train loss =  0.016917603653772467 | Validation accuracy =  0.6329933449074074, Validation loss =  0.016664642141862755\n",
            "Epoch 33: Train accuracy =  0.6330279495884296, Train loss =  0.01698817220139539 | Validation accuracy =  0.6307146990740741, Validation loss =  0.016798282293010655\n",
            "Epoch 34: Train accuracy =  0.6340123083600738, Train loss =  0.016879445626511284 | Validation accuracy =  0.6324146412037037, Validation loss =  0.016464424144605853\n",
            "Epoch 35: Train accuracy =  0.6337875335224542, Train loss =  0.016750984033846873 | Validation accuracy =  0.6315827546296297, Validation loss =  0.016848239984707854\n",
            "Epoch 36: Train accuracy =  0.6320900959556031, Train loss =  0.016876570833292567 | Validation accuracy =  0.6295572916666666, Validation loss =  0.016693746211879343\n",
            "Epoch 37: Train accuracy =  0.6329116867413849, Train loss =  0.016529279501853688 | Validation accuracy =  0.6305338541666666, Validation loss =  0.016650579092927234\n",
            "Epoch 38: Train accuracy =  0.6320513416732549, Train loss =  0.016633622836144196 | Validation accuracy =  0.6314380787037037, Validation loss =  0.01685035741118165\n",
            "Epoch 39: Train accuracy =  0.6343533460447379, Train loss =  0.016705883073016247 | Validation accuracy =  0.6314019097222222, Validation loss =  0.016545111784506912\n",
            "Epoch 40: Train accuracy =  0.6309352183416268, Train loss =  0.016629585830655526 | Validation accuracy =  0.6274956597222222, Validation loss =  0.01692365138506183\n",
            "Epoch 41: Train accuracy =  0.6345626191694183, Train loss =  0.016596772971319125 | Validation accuracy =  0.6318359375, Validation loss =  0.016394375050924934\n",
            "Epoch 42: Train accuracy =  0.6333302329907454, Train loss =  0.01663681885388325 | Validation accuracy =  0.6288339120370371, Validation loss =  0.0166120570680568\n",
            "Epoch 43: Train accuracy =  0.6350741756964144, Train loss =  0.016372724166666602 | Validation accuracy =  0.6324146412037037, Validation loss =  0.016415284015238285\n",
            "Epoch 44: Train accuracy =  0.6333224821342759, Train loss =  0.016588734212702894 | Validation accuracy =  0.6302806712962963, Validation loss =  0.016481721398522917\n",
            "Epoch 45: Train accuracy =  0.6341750763459362, Train loss =  0.016443468814638134 | Validation accuracy =  0.6311848958333334, Validation loss =  0.01643596452504741\n",
            "Epoch 46: Train accuracy =  0.6335162535460168, Train loss =  0.01660661367419553 | Validation accuracy =  0.6311487268518519, Validation loss =  0.016495018848621777\n",
            "Epoch 47: Train accuracy =  0.6334542466942598, Train loss =  0.0166129596681068 | Validation accuracy =  0.6301721643518519, Validation loss =  0.016607141425843873\n",
            "Epoch 48: Train accuracy =  0.6357640019222124, Train loss =  0.016522557934790495 | Validation accuracy =  0.6340422453703703, Validation loss =  0.016227943775367876\n",
            "Epoch 49: Train accuracy =  0.6345006123176611, Train loss =  0.016670785152070624 | Validation accuracy =  0.6319082754629629, Validation loss =  0.016301596331587762\n",
            "Epoch 50: Train accuracy =  0.6325551473437815, Train loss =  0.016447005085259054 | Validation accuracy =  0.6296657986111112, Validation loss =  0.016196411962733966\n"
          ],
          "name": "stdout"
        },
        {
          "output_type": "display_data",
          "data": {
            "image/png": "[encoded data removed]",
            "text/plain": [
              "<Figure size 432x288 with 1 Axes>"
            ]
          },
          "metadata": {
            "tags": []
          }
        },
        {
          "output_type": "display_data",
          "data": {
            "image/png": "[encoded data removed]",
            "text/plain": [
              "<Figure size 432x288 with 1 Axes>"
            ]
          },
          "metadata": {
            "tags": []
          }
        }
      ]
    },
    {
      "cell_type": "markdown",
      "metadata": {
        "id": "ymCsZH291prI",
        "colab_type": "text"
      },
      "source": [
        "## Part 4. Testing [12 pt]\n",
        "\n",
        "### Part (a) [2 pt]\n",
        "\n",
        "Compute and report the test accuracy."
      ]
    },
    {
      "cell_type": "code",
      "metadata": {
        "id": "0OkSbup91prJ",
        "colab_type": "code",
        "outputId": "e14b3f0c-940c-4eed-81a5-61a33424ca53",
        "colab": {
          "base_uri": "https://localhost:8080/",
          "height": 1423
        }
      },
      "source": [
        "batch_size= 32\n",
        "test_loader= torch.utils.data.DataLoader(test_data, batch_size = batch_size, shuffle= True)\n",
        "\n",
        "train(encoder, test_loader, val_loader, num_epochs= num2, learning_rate= lr1, batch_size= bs2)"
      ],
      "execution_count": 0,
      "outputs": [
        {
          "output_type": "stream",
          "text": [
            "Epoch 1: Train accuracy =  0.6322699652777778, Train loss =  0.016293372933028474 | Validation accuracy =  0.6311125578703703, Validation loss =  0.0165741067788849\n",
            "Epoch 2: Train accuracy =  0.6269169560185185, Train loss =  0.015712651210681845 | Validation accuracy =  0.6282913773148148, Validation loss =  0.016566273892524443\n",
            "Epoch 3: Train accuracy =  0.6325231481481481, Train loss =  0.016235415435706575 | Validation accuracy =  0.6309678819444444, Validation loss =  0.016452305343518884\n",
            "Epoch 4: Train accuracy =  0.6322337962962963, Train loss =  0.016150059540652566 | Validation accuracy =  0.6308232060185185, Validation loss =  0.016359752070460188\n",
            "Epoch 5: Train accuracy =  0.6347294560185185, Train loss =  0.016096456396755658 | Validation accuracy =  0.6326678240740741, Validation loss =  0.016150200264151558\n",
            "Epoch 6: Train accuracy =  0.6341145833333334, Train loss =  0.016053077787445445 | Validation accuracy =  0.6321976273148148, Validation loss =  0.01631958833976374\n",
            "Epoch 7: Train accuracy =  0.6345124421296297, Train loss =  0.01630086678132001 | Validation accuracy =  0.6308232060185185, Validation loss =  0.016550160420660168\n",
            "Epoch 8: Train accuracy =  0.6376953125, Train loss =  0.016211632270521175 | Validation accuracy =  0.6333912037037037, Validation loss =  0.016574706833249745\n",
            "Epoch 9: Train accuracy =  0.6325954861111112, Train loss =  0.016001191430000797 | Validation accuracy =  0.6319806134259259, Validation loss =  0.016603244456726347\n",
            "Epoch 10: Train accuracy =  0.6366825810185185, Train loss =  0.016115470967229664 | Validation accuracy =  0.6325231481481481, Validation loss =  0.016448806099744372\n",
            "Epoch 11: Train accuracy =  0.6363208912037037, Train loss =  0.01594586533934085 | Validation accuracy =  0.6323784722222222, Validation loss =  0.016372427296410235\n",
            "Epoch 12: Train accuracy =  0.6336443865740741, Train loss =  0.016466651066568576 | Validation accuracy =  0.6311487268518519, Validation loss =  0.016335384892245938\n",
            "Epoch 13: Train accuracy =  0.6348379629629629, Train loss =  0.016199380764090974 | Validation accuracy =  0.6331380208333334, Validation loss =  0.016592684045240197\n",
            "Epoch 14: Train accuracy =  0.6366825810185185, Train loss =  0.01585466978010825 | Validation accuracy =  0.6337167245370371, Validation loss =  0.016159893002770195\n",
            "Epoch 15: Train accuracy =  0.6361762152777778, Train loss =  0.016343424297196582 | Validation accuracy =  0.6327401620370371, Validation loss =  0.01642507773452584\n",
            "Epoch 16: Train accuracy =  0.6349464699074074, Train loss =  0.015657811031107687 | Validation accuracy =  0.6319082754629629, Validation loss =  0.016316460990320053\n",
            "Epoch 17: Train accuracy =  0.6323423032407407, Train loss =  0.015917846143970057 | Validation accuracy =  0.6299189814814815, Validation loss =  0.016592655502087463\n",
            "Epoch 18: Train accuracy =  0.6348741319444444, Train loss =  0.015742449794844206 | Validation accuracy =  0.6312934027777778, Validation loss =  0.01613311622873207\n",
            "Epoch 19: Train accuracy =  0.6374782986111112, Train loss =  0.015904507114707183 | Validation accuracy =  0.6339699074074074, Validation loss =  0.01633372101932764\n",
            "Epoch 20: Train accuracy =  0.6321614583333334, Train loss =  0.015736641983191173 | Validation accuracy =  0.6300274884259259, Validation loss =  0.01651960370922192\n",
            "Epoch 21: Train accuracy =  0.6306061921296297, Train loss =  0.01567156500985018 | Validation accuracy =  0.6282190393518519, Validation loss =  0.016619920438273966\n",
            "Epoch 22: Train accuracy =  0.6302083333333334, Train loss =  0.01592276467838221 | Validation accuracy =  0.6302445023148148, Validation loss =  0.01662733670205653\n",
            "Epoch 23: Train accuracy =  0.6312934027777778, Train loss =  0.0154261753648623 | Validation accuracy =  0.6303168402777778, Validation loss =  0.01650946668828326\n",
            "Epoch 24: Train accuracy =  0.6379123263888888, Train loss =  0.01612104135306759 | Validation accuracy =  0.6356336805555556, Validation loss =  0.01620546868393962\n",
            "Epoch 25: Train accuracy =  0.6357421875, Train loss =  0.01588724496670895 | Validation accuracy =  0.6308955439814815, Validation loss =  0.016594834533127056\n",
            "Epoch 26: Train accuracy =  0.6330656828703703, Train loss =  0.01613931273459457 | Validation accuracy =  0.6306061921296297, Validation loss =  0.01650917339757774\n",
            "Epoch 27: Train accuracy =  0.6348017939814815, Train loss =  0.015615059499396011 | Validation accuracy =  0.6322337962962963, Validation loss =  0.016477257268492543\n",
            "Epoch 28: Train accuracy =  0.6327039930555556, Train loss =  0.015986303359063134 | Validation accuracy =  0.6303530092592593, Validation loss =  0.01672922483392361\n",
            "Epoch 29: Train accuracy =  0.6368995949074074, Train loss =  0.01586428935924131 | Validation accuracy =  0.630859375, Validation loss =  0.016671857665255235\n",
            "Epoch 30: Train accuracy =  0.6359953703703703, Train loss =  0.01592381868006972 | Validation accuracy =  0.6316912615740741, Validation loss =  0.016420653809637177\n",
            "Epoch 31: Train accuracy =  0.6386357060185185, Train loss =  0.015854674126280263 | Validation accuracy =  0.6337890625, Validation loss =  0.0166728010654148\n",
            "Epoch 32: Train accuracy =  0.6337167245370371, Train loss =  0.01567583897526169 | Validation accuracy =  0.6317997685185185, Validation loss =  0.016436154756027496\n",
            "Epoch 33: Train accuracy =  0.6352358217592593, Train loss =  0.01648324999647836 | Validation accuracy =  0.6331741898148148, Validation loss =  0.0167377312581534\n",
            "Epoch 34: Train accuracy =  0.6351996527777778, Train loss =  0.016158530821687438 | Validation accuracy =  0.6299913194444444, Validation loss =  0.016554662259564753\n",
            "Epoch 35: Train accuracy =  0.6382378472222222, Train loss =  0.0165425323195652 | Validation accuracy =  0.6344039351851852, Validation loss =  0.016345749772826716\n",
            "Epoch 36: Train accuracy =  0.6362847222222222, Train loss =  0.015198984432370506 | Validation accuracy =  0.6312210648148148, Validation loss =  0.016382354194825956\n",
            "Epoch 37: Train accuracy =  0.6371889467592593, Train loss =  0.01562985406619393 | Validation accuracy =  0.6350188078703703, Validation loss =  0.016537947384802076\n",
            "Epoch 38: Train accuracy =  0.6391420717592593, Train loss =  0.016279592188463237 | Validation accuracy =  0.6353443287037037, Validation loss =  0.016282824211016383\n",
            "Epoch 39: Train accuracy =  0.6326678240740741, Train loss =  0.0158694342438442 | Validation accuracy =  0.6311487268518519, Validation loss =  0.016585037539675402\n",
            "Epoch 40: Train accuracy =  0.6361762152777778, Train loss =  0.015327812550822273 | Validation accuracy =  0.6315827546296297, Validation loss =  0.016302414307360014\n",
            "Epoch 41: Train accuracy =  0.6329571759259259, Train loss =  0.015695625194995146 | Validation accuracy =  0.6298828125, Validation loss =  0.016457175473128097\n",
            "Epoch 42: Train accuracy =  0.6365017361111112, Train loss =  0.015788919758051634 | Validation accuracy =  0.6343677662037037, Validation loss =  0.016167060323490228\n",
            "Epoch 43: Train accuracy =  0.6314742476851852, Train loss =  0.015751937721183315 | Validation accuracy =  0.6295572916666666, Validation loss =  0.016710651813968587\n",
            "Epoch 44: Train accuracy =  0.6370804398148148, Train loss =  0.016094693189693823 | Validation accuracy =  0.6324869791666666, Validation loss =  0.016229085616681273\n",
            "Epoch 45: Train accuracy =  0.6366102430555556, Train loss =  0.01608010460363908 | Validation accuracy =  0.6318721064814815, Validation loss =  0.016361368557901223\n",
            "Epoch 46: Train accuracy =  0.6368995949074074, Train loss =  0.015883049271198817 | Validation accuracy =  0.6323784722222222, Validation loss =  0.016280302765504646\n",
            "Epoch 47: Train accuracy =  0.6378399884259259, Train loss =  0.01598945803966166 | Validation accuracy =  0.6332826967592593, Validation loss =  0.016171840031367506\n",
            "Epoch 48: Train accuracy =  0.6355975115740741, Train loss =  0.015809088030235015 | Validation accuracy =  0.6315465856481481, Validation loss =  0.01609543181762013\n",
            "Epoch 49: Train accuracy =  0.6364655671296297, Train loss =  0.015568153835677853 | Validation accuracy =  0.6321614583333334, Validation loss =  0.016234657703495095\n",
            "Epoch 50: Train accuracy =  0.6389250578703703, Train loss =  0.01575739915521505 | Validation accuracy =  0.6344762731481481, Validation loss =  0.01643534632765747\n"
          ],
          "name": "stdout"
        },
        {
          "output_type": "display_data",
          "data": {
            "image/png": "[encoded data removed]",
            "text/plain": [
              "<Figure size 432x288 with 1 Axes>"
            ]
          },
          "metadata": {
            "tags": []
          }
        },
        {
          "output_type": "display_data",
          "data": {
            "image/png": "[encoded data removed]",
            "text/plain": [
              "<Figure size 432x288 with 1 Axes>"
            ]
          },
          "metadata": {
            "tags": []
          }
        }
      ]
    },
    {
      "cell_type": "markdown",
      "metadata": {
        "id": "x9kVKX3WplfF",
        "colab_type": "text"
      },
      "source": [
        "(I missed the note about not having the graphs included).\n",
        "\n",
        "1) Increasing the learning rate to allow for convergence of a solution faster\n",
        "2) Increasing the batch size to allow for greater amount of training data to be assessed per iteration and also brought the learning rate to original\n",
        "3) Increased the number of epochs and reduced the learning rate (to potentially reach divergence/overfitting)\n",
        "4) Kept highest epoch, increased the learning rate and batch size to get the faster convergence."
      ]
    },
    {
      "cell_type": "code",
      "metadata": {
        "id": "7MBiD9bldNrv",
        "colab_type": "code",
        "outputId": "d948291f-86ac-495a-e97c-5e2a85ed138a",
        "colab": {
          "base_uri": "https://localhost:8080/",
          "height": 34
        }
      },
      "source": [
        "model_path = get_model_name(\"dataforge\", batch_size= bs2, learning_rate= lr1, epoch=num2-1)\n",
        "state = torch.load(model_path)\n",
        "\n",
        "encoder = DataForge()\n",
        "encoder.load_state_dict(state)\n",
        "\n",
        "test_loader= torch.utils.data.DataLoader(test_data, batch_size= bs2, shuffle= True)\n",
        "\n",
        "test_acc= get_accuracy(encoder, test_loader)\n",
        "\n",
        "print('The test accuracy is', (np.round(test_acc * 100, 2)),'%')"
      ],
      "execution_count": 0,
      "outputs": [
        {
          "output_type": "stream",
          "text": [
            "The test accuracy is 63.89 %\n"
          ],
          "name": "stdout"
        }
      ]
    },
    {
      "cell_type": "markdown",
      "metadata": {
        "id": "UEe9yt6L1prM",
        "colab_type": "text"
      },
      "source": [
        "### Part (b) [4 pt]\n",
        "\n",
        "Based on the test accuracy alone, it is difficult to assess whether our model\n",
        "is actually performing well. We don't know whether a high accuracy is due to\n",
        "the simplicity of the problem, or if a poor accuracy is a result of the inherent\n",
        "difficulty of the problem.\n",
        "\n",
        "It is therefore very important to be able to compare our model to at least one\n",
        "alternative. In particular, we consider a simple **baseline**\n",
        "model that is not very computationally expensive. Our neural network\n",
        "should at least outperform this baseline model. If our network is not much\n",
        "better than the baseline, then it is not doing well.\n",
        "\n",
        "For our data imputation problem, consider the following baseline model:\n",
        "to predict a missing feature, the baseline model will look at the **most common value** of the feature in the training set. \n",
        "\n",
        "For example, if the feature \"marriage\" is missing, then this model's prediction will be the most common value for \"marriage\" in the training set, which happens to be \"Married-civ-spouse\".\n",
        "\n",
        "What would be the test accuracy of this baseline model?\n",
        "\n",
        "**Do not actually implement this baseline model. You should be able to compute the \n",
        "test accuracy by reasoning about how the basline model behaves.**"
      ]
    },
    {
      "cell_type": "code",
      "metadata": {
        "id": "p45VHp011prN",
        "colab_type": "code",
        "outputId": "8d889fbb-de71-47bd-964a-7ec65d0095a0",
        "colab": {
          "base_uri": "https://localhost:8080/",
          "height": 88
        }
      },
      "source": [
        "## To see accuracy of baseline for test data, take the maximum value ratio for marriage to see how that compares to the developed model accuracy\n",
        "print(catcols) #name of each category\n",
        "print(cat_values) #value of each category"
      ],
      "execution_count": 0,
      "outputs": [
        {
          "output_type": "stream",
          "text": [
            "['work', 'marriage', 'occupation', 'edu', 'relationship', 'sex']\n",
            "{'work': ['Federal-gov', 'Local-gov', 'Private', 'Self-emp-inc', 'Self-emp-not-inc', 'State-gov', 'Without-pay'], 'marriage': ['Divorced', 'Married-AF-spouse', 'Married-civ-spouse', 'Married-spouse-absent', 'Never-married', 'Separated', 'Widowed'], 'occupation': ['Adm-clerical', 'Armed-Forces', 'Craft-repair', 'Exec-managerial', 'Farming-fishing', 'Handlers-cleaners', 'Machine-op-inspct', 'Other-service', 'Priv-house-serv', 'Prof-specialty', 'Protective-serv', 'Sales', 'Tech-support', 'Transport-moving'], 'edu': ['10th', '11th', '12th', '1st-4th', '5th-6th', '7th-8th', '9th', 'Assoc-acdm', 'Assoc-voc', 'Bachelors', 'Doctorate', 'HS-grad', 'Masters', 'Preschool', 'Prof-school', 'Some-college'], 'relationship': ['Husband', 'Not-in-family', 'Other-relative', 'Own-child', 'Unmarried', 'Wife'], 'sex': ['Female', 'Male']}\n",
            "Federal-gov\n"
          ],
          "name": "stdout"
        }
      ]
    },
    {
      "cell_type": "code",
      "metadata": {
        "id": "Hh3YWq29gdJd",
        "colab_type": "code",
        "outputId": "066e1ecf-7240-420d-e401-f09365585864",
        "colab": {
          "base_uri": "https://localhost:8080/",
          "height": 34
        }
      },
      "source": [
        "#reformation of the column names \n",
        "col_max = [] #empty list for the new column names\n",
        "\n",
        "for i in range(len(catcols)):\n",
        "  s = str(catcols[i])\n",
        "  ss = len(cat_values[s])\n",
        "  col_sum = []\n",
        "  for j in range(ss):\n",
        "    reform_col = str(s)+'_ '+str(cat_values[s][j])\n",
        "    catsum = data[str(reform_col)].sum()\n",
        "    col_sum.append(catsum)\n",
        "  col_max.append(max(col_sum))\n",
        "print(col_max)\n",
        "\n",
        "#Below is the maximum value for each of the categorizations (i.e. the highest occuring value)\n",
        "#If for the training data, the max value was inputted for each missing categorization, probability of accuracy would\n",
        "#reach the ratio of the max category to the ratio.\n"
      ],
      "execution_count": 0,
      "outputs": [
        {
          "output_type": "stream",
          "text": [
            "[22696, 14339, 4140, 9968, 12704, 20788]\n"
          ],
          "name": "stdout"
        }
      ]
    },
    {
      "cell_type": "code",
      "metadata": {
        "id": "tfTAC9Kulqjs",
        "colab_type": "code",
        "outputId": "ad4fef87-8a52-4893-f278-5b844fb2c0dc",
        "colab": {
          "base_uri": "https://localhost:8080/",
          "height": 34
        }
      },
      "source": [
        "#Average accuracy\n",
        "average_col_count = int(sum(col_max)/len(col_max))\n",
        "baseline_accuracy = round(float(average_col_count/len(data)),4)*100\n",
        "print('The baseline accuracy is',baseline_accuracy,'%')"
      ],
      "execution_count": 0,
      "outputs": [
        {
          "output_type": "stream",
          "text": [
            "The baseline accuracy is 45.92 %\n"
          ],
          "name": "stdout"
        }
      ]
    },
    {
      "cell_type": "markdown",
      "metadata": {
        "id": "QlHu0wxh1prP",
        "colab_type": "text"
      },
      "source": [
        "### Part (c) [1 pt]\n",
        "\n",
        "How does your test accuracy from part (a) compared to your basline test accuracy in part (b)?"
      ]
    },
    {
      "cell_type": "markdown",
      "metadata": {
        "id": "oT6QjOTGoXnz",
        "colab_type": "text"
      },
      "source": [
        "Baseline accuracy is lower than the predicted ~64% accuracy I got "
      ]
    },
    {
      "cell_type": "markdown",
      "metadata": {
        "id": "DfQPgu1Q1prS",
        "colab_type": "text"
      },
      "source": [
        "### Part (d) [1 pt]\n",
        "\n",
        "Look at the first item in your test data. \n",
        "Do you think it is reasonable for a human\n",
        "to be able to guess this person's education level\n",
        "based on their other features? Explain."
      ]
    },
    {
      "cell_type": "code",
      "metadata": {
        "id": "3qbQ1vvT1prT",
        "colab_type": "code",
        "outputId": "a117e078-8813-4668-f5e7-17c4f43fa319",
        "colab": {
          "base_uri": "https://localhost:8080/",
          "height": 168
        }
      },
      "source": [
        "pd.DataFrame(data= [test_data[0]], columns= data.columns)\n",
        "\n",
        "#I do not think this is a very valid statement; the correlation between education level and the type of work, gender, marriage, capgain, etc. is so\n",
        "#variable that it is not easy to make any generalizations that can lead to such an assumption"
      ],
      "execution_count": 0,
      "outputs": [
        {
          "output_type": "execute_result",
          "data": {
            "text/html": [
              "<div>\n",
              "<style scoped>\n",
              "    .dataframe tbody tr th:only-of-type {\n",
              "        vertical-align: middle;\n",
              "    }\n",
              "\n",
              "    .dataframe tbody tr th {\n",
              "        vertical-align: top;\n",
              "    }\n",
              "\n",
              "    .dataframe thead th {\n",
              "        text-align: right;\n",
              "    }\n",
              "</style>\n",
              "<table border=\"1\" class=\"dataframe\">\n",
              "  <thead>\n",
              "    <tr style=\"text-align: right;\">\n",
              "      <th></th>\n",
              "      <th>age</th>\n",
              "      <th>yredu</th>\n",
              "      <th>capgain</th>\n",
              "      <th>caploss</th>\n",
              "      <th>workhr</th>\n",
              "      <th>work_ Federal-gov</th>\n",
              "      <th>work_ Local-gov</th>\n",
              "      <th>work_ Private</th>\n",
              "      <th>work_ Self-emp-inc</th>\n",
              "      <th>work_ Self-emp-not-inc</th>\n",
              "      <th>work_ State-gov</th>\n",
              "      <th>work_ Without-pay</th>\n",
              "      <th>marriage_ Divorced</th>\n",
              "      <th>marriage_ Married-AF-spouse</th>\n",
              "      <th>marriage_ Married-civ-spouse</th>\n",
              "      <th>marriage_ Married-spouse-absent</th>\n",
              "      <th>marriage_ Never-married</th>\n",
              "      <th>marriage_ Separated</th>\n",
              "      <th>marriage_ Widowed</th>\n",
              "      <th>occupation_ Adm-clerical</th>\n",
              "      <th>occupation_ Armed-Forces</th>\n",
              "      <th>occupation_ Craft-repair</th>\n",
              "      <th>occupation_ Exec-managerial</th>\n",
              "      <th>occupation_ Farming-fishing</th>\n",
              "      <th>occupation_ Handlers-cleaners</th>\n",
              "      <th>occupation_ Machine-op-inspct</th>\n",
              "      <th>occupation_ Other-service</th>\n",
              "      <th>occupation_ Priv-house-serv</th>\n",
              "      <th>occupation_ Prof-specialty</th>\n",
              "      <th>occupation_ Protective-serv</th>\n",
              "      <th>occupation_ Sales</th>\n",
              "      <th>occupation_ Tech-support</th>\n",
              "      <th>occupation_ Transport-moving</th>\n",
              "      <th>edu_ 10th</th>\n",
              "      <th>edu_ 11th</th>\n",
              "      <th>edu_ 12th</th>\n",
              "      <th>edu_ 1st-4th</th>\n",
              "      <th>edu_ 5th-6th</th>\n",
              "      <th>edu_ 7th-8th</th>\n",
              "      <th>edu_ 9th</th>\n",
              "      <th>edu_ Assoc-acdm</th>\n",
              "      <th>edu_ Assoc-voc</th>\n",
              "      <th>edu_ Bachelors</th>\n",
              "      <th>edu_ Doctorate</th>\n",
              "      <th>edu_ HS-grad</th>\n",
              "      <th>edu_ Masters</th>\n",
              "      <th>edu_ Preschool</th>\n",
              "      <th>edu_ Prof-school</th>\n",
              "      <th>edu_ Some-college</th>\n",
              "      <th>relationship_ Husband</th>\n",
              "      <th>relationship_ Not-in-family</th>\n",
              "      <th>relationship_ Other-relative</th>\n",
              "      <th>relationship_ Own-child</th>\n",
              "      <th>relationship_ Unmarried</th>\n",
              "      <th>relationship_ Wife</th>\n",
              "      <th>sex_ Female</th>\n",
              "      <th>sex_ Male</th>\n",
              "    </tr>\n",
              "  </thead>\n",
              "  <tbody>\n",
              "    <tr>\n",
              "      <th>0</th>\n",
              "      <td>0.657534</td>\n",
              "      <td>0.8</td>\n",
              "      <td>0.067231</td>\n",
              "      <td>0.0</td>\n",
              "      <td>0.397959</td>\n",
              "      <td>0.0</td>\n",
              "      <td>0.0</td>\n",
              "      <td>1.0</td>\n",
              "      <td>0.0</td>\n",
              "      <td>0.0</td>\n",
              "      <td>0.0</td>\n",
              "      <td>0.0</td>\n",
              "      <td>1.0</td>\n",
              "      <td>0.0</td>\n",
              "      <td>0.0</td>\n",
              "      <td>0.0</td>\n",
              "      <td>0.0</td>\n",
              "      <td>0.0</td>\n",
              "      <td>0.0</td>\n",
              "      <td>0.0</td>\n",
              "      <td>0.0</td>\n",
              "      <td>0.0</td>\n",
              "      <td>0.0</td>\n",
              "      <td>0.0</td>\n",
              "      <td>0.0</td>\n",
              "      <td>0.0</td>\n",
              "      <td>0.0</td>\n",
              "      <td>0.0</td>\n",
              "      <td>1.0</td>\n",
              "      <td>0.0</td>\n",
              "      <td>0.0</td>\n",
              "      <td>0.0</td>\n",
              "      <td>0.0</td>\n",
              "      <td>0.0</td>\n",
              "      <td>0.0</td>\n",
              "      <td>0.0</td>\n",
              "      <td>0.0</td>\n",
              "      <td>0.0</td>\n",
              "      <td>0.0</td>\n",
              "      <td>0.0</td>\n",
              "      <td>0.0</td>\n",
              "      <td>0.0</td>\n",
              "      <td>1.0</td>\n",
              "      <td>0.0</td>\n",
              "      <td>0.0</td>\n",
              "      <td>0.0</td>\n",
              "      <td>0.0</td>\n",
              "      <td>0.0</td>\n",
              "      <td>0.0</td>\n",
              "      <td>0.0</td>\n",
              "      <td>1.0</td>\n",
              "      <td>0.0</td>\n",
              "      <td>0.0</td>\n",
              "      <td>0.0</td>\n",
              "      <td>0.0</td>\n",
              "      <td>0.0</td>\n",
              "      <td>1.0</td>\n",
              "    </tr>\n",
              "  </tbody>\n",
              "</table>\n",
              "</div>"
            ],
            "text/plain": [
              "        age  yredu   capgain  ...  relationship_ Wife  sex_ Female  sex_ Male\n",
              "0  0.657534    0.8  0.067231  ...                 0.0          0.0        1.0\n",
              "\n",
              "[1 rows x 57 columns]"
            ]
          },
          "metadata": {
            "tags": []
          },
          "execution_count": 152
        }
      ]
    },
    {
      "cell_type": "markdown",
      "metadata": {
        "id": "p_d5uuAY1prZ",
        "colab_type": "text"
      },
      "source": [
        "### Part (e) [2 pt]\n",
        "\n",
        "What is your model's prediction of this person's education\n",
        "level, given their other features?\n"
      ]
    },
    {
      "cell_type": "code",
      "metadata": {
        "id": "kBY5gKXR1pra",
        "colab_type": "code",
        "outputId": "4d794c75-e233-4a17-e8d4-bf401b8ec3cd",
        "colab": {
          "base_uri": "https://localhost:8080/",
          "height": 34
        }
      },
      "source": [
        "test_loader= torch.utils.data.DataLoader(test_data, batch_size=1, shuffle=False)\n",
        "for item in loader:  \n",
        "  inp = item.detach().numpy()\n",
        "  out = encoder(zero_out_feature(item.clone(), \"edu\")).detach().numpy()\n",
        "  print(get_feature(out[0], \"edu\"))\n",
        "  break"
      ],
      "execution_count": 0,
      "outputs": [
        {
          "output_type": "stream",
          "text": [
            "Masters\n"
          ],
          "name": "stdout"
        }
      ]
    },
    {
      "cell_type": "markdown",
      "metadata": {
        "id": "lLp_1c1gp0Cp",
        "colab_type": "text"
      },
      "source": [
        "Prediction is that the individual has a master's degree"
      ]
    },
    {
      "cell_type": "markdown",
      "metadata": {
        "id": "fdLNA0ce1prd",
        "colab_type": "text"
      },
      "source": [
        "### Part (f) [2 pt]\n",
        "\n",
        "What is the baseline model's prediction\n",
        "of this person's education level?"
      ]
    },
    {
      "cell_type": "code",
      "metadata": {
        "id": "TXgoM9qk1prd",
        "colab_type": "code",
        "outputId": "892cc206-48a4-4579-a3ba-368d77d79ec0",
        "colab": {
          "base_uri": "https://localhost:8080/",
          "height": 545
        }
      },
      "source": [
        "education = []\n",
        "ss = len(cat_values['edu'])\n",
        "for j in range(ss):\n",
        "  reform_col = 'edu'+'_ '+str(cat_values['edu'][j])\n",
        "  education.append(reform_col)\n",
        "pd.DataFrame(data[education].sum(),).sort_values(by=0,ascending=False)\n",
        "\n",
        "## Expected output of the baseline model would by HS-grad"
      ],
      "execution_count": 0,
      "outputs": [
        {
          "output_type": "execute_result",
          "data": {
            "text/html": [
              "<div>\n",
              "<style scoped>\n",
              "    .dataframe tbody tr th:only-of-type {\n",
              "        vertical-align: middle;\n",
              "    }\n",
              "\n",
              "    .dataframe tbody tr th {\n",
              "        vertical-align: top;\n",
              "    }\n",
              "\n",
              "    .dataframe thead th {\n",
              "        text-align: right;\n",
              "    }\n",
              "</style>\n",
              "<table border=\"1\" class=\"dataframe\">\n",
              "  <thead>\n",
              "    <tr style=\"text-align: right;\">\n",
              "      <th></th>\n",
              "      <th>0</th>\n",
              "    </tr>\n",
              "  </thead>\n",
              "  <tbody>\n",
              "    <tr>\n",
              "      <th>edu_ HS-grad</th>\n",
              "      <td>9968</td>\n",
              "    </tr>\n",
              "    <tr>\n",
              "      <th>edu_ Some-college</th>\n",
              "      <td>6775</td>\n",
              "    </tr>\n",
              "    <tr>\n",
              "      <th>edu_ Bachelors</th>\n",
              "      <td>5182</td>\n",
              "    </tr>\n",
              "    <tr>\n",
              "      <th>edu_ Masters</th>\n",
              "      <td>1675</td>\n",
              "    </tr>\n",
              "    <tr>\n",
              "      <th>edu_ Assoc-voc</th>\n",
              "      <td>1321</td>\n",
              "    </tr>\n",
              "    <tr>\n",
              "      <th>edu_ 11th</th>\n",
              "      <td>1056</td>\n",
              "    </tr>\n",
              "    <tr>\n",
              "      <th>edu_ Assoc-acdm</th>\n",
              "      <td>1020</td>\n",
              "    </tr>\n",
              "    <tr>\n",
              "      <th>edu_ 10th</th>\n",
              "      <td>831</td>\n",
              "    </tr>\n",
              "    <tr>\n",
              "      <th>edu_ 7th-8th</th>\n",
              "      <td>573</td>\n",
              "    </tr>\n",
              "    <tr>\n",
              "      <th>edu_ Prof-school</th>\n",
              "      <td>558</td>\n",
              "    </tr>\n",
              "    <tr>\n",
              "      <th>edu_ 9th</th>\n",
              "      <td>463</td>\n",
              "    </tr>\n",
              "    <tr>\n",
              "      <th>edu_ Doctorate</th>\n",
              "      <td>398</td>\n",
              "    </tr>\n",
              "    <tr>\n",
              "      <th>edu_ 12th</th>\n",
              "      <td>393</td>\n",
              "    </tr>\n",
              "    <tr>\n",
              "      <th>edu_ 5th-6th</th>\n",
              "      <td>303</td>\n",
              "    </tr>\n",
              "    <tr>\n",
              "      <th>edu_ 1st-4th</th>\n",
              "      <td>156</td>\n",
              "    </tr>\n",
              "    <tr>\n",
              "      <th>edu_ Preschool</th>\n",
              "      <td>46</td>\n",
              "    </tr>\n",
              "  </tbody>\n",
              "</table>\n",
              "</div>"
            ],
            "text/plain": [
              "                      0\n",
              "edu_ HS-grad       9968\n",
              "edu_ Some-college  6775\n",
              "edu_ Bachelors     5182\n",
              "edu_ Masters       1675\n",
              "edu_ Assoc-voc     1321\n",
              "edu_ 11th          1056\n",
              "edu_ Assoc-acdm    1020\n",
              "edu_ 10th           831\n",
              "edu_ 7th-8th        573\n",
              "edu_ Prof-school    558\n",
              "edu_ 9th            463\n",
              "edu_ Doctorate      398\n",
              "edu_ 12th           393\n",
              "edu_ 5th-6th        303\n",
              "edu_ 1st-4th        156\n",
              "edu_ Preschool       46"
            ]
          },
          "metadata": {
            "tags": []
          },
          "execution_count": 189
        }
      ]
    }
  ]
}